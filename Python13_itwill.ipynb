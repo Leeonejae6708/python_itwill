{
  "nbformat": 4,
  "nbformat_minor": 0,
  "metadata": {
    "colab": {
      "provenance": [],
      "authorship_tag": "ABX9TyP3/GuYTScdeFo9Hyvym+hT",
      "include_colab_link": true
    },
    "kernelspec": {
      "name": "python3",
      "display_name": "Python 3"
    },
    "language_info": {
      "name": "python"
    }
  },
  "cells": [
    {
      "cell_type": "markdown",
      "metadata": {
        "id": "view-in-github",
        "colab_type": "text"
      },
      "source": [
        "<a href=\"https://colab.research.google.com/github/Leeonejae6708/python_itwill/blob/main/Python13_itwill.ipynb\" target=\"_parent\"><img src=\"https://colab.research.google.com/assets/colab-badge.svg\" alt=\"Open In Colab\"/></a>"
      ]
    },
    {
      "cell_type": "markdown",
      "source": [
        "# 객체지향 프로그래밍 배경"
      ],
      "metadata": {
        "id": "4kR4YJs1vKBF"
      }
    },
    {
      "cell_type": "code",
      "source": [
        "students = [\n",
        "    {'name': '홍길동', 'korean': 90, 'english': 80, 'math': 70},\n",
        "    {'name': '오썜', 'korean': 77, 'english': 66, 'math': 80},\n",
        "    {'name': 'scott', 'korean': 50, 'english': 100, 'math': 95}\n",
        "]\n"
      ],
      "metadata": {
        "id": "A55b7kZxxBFW"
      },
      "execution_count": null,
      "outputs": []
    },
    {
      "cell_type": "code",
      "source": [
        "for x in students:\n",
        "  print(\"이름: \", x['name'])\n",
        "\n",
        "for i in students:\n",
        "  hap = 0\n",
        "  hap += i['korean']\n",
        "  hap += i['english']\n",
        "  hap += i['math']\n",
        "  print('총점: ', hap)\n",
        "\n",
        "for i in students:\n",
        "  hap = 0\n",
        "  avg = 0\n",
        "  hap += i['korean']\n",
        "  hap += i['english']\n",
        "  hap += i['math']\n",
        "  avg = hap / 3\n",
        "  print('평균: ', avg)\n",
        "\n",
        "print('=======================================')\n",
        "\n",
        "for s in students:\n",
        "  total = s['korean'] + s['english'] + s['math']\n",
        "  avg = total / 3\n",
        "  print(f'이름: {s[\"name\"]}, 총점: {total}, 평균{avg} ')"
      ],
      "metadata": {
        "colab": {
          "base_uri": "https://localhost:8080/"
        },
        "id": "LUFyKhjVxLAg",
        "outputId": "3d987bb0-6906-45a6-9e7c-46a80f628437"
      },
      "execution_count": null,
      "outputs": [
        {
          "output_type": "stream",
          "name": "stdout",
          "text": [
            "이름:  홍길동\n",
            "이름:  오썜\n",
            "이름:  scott\n",
            "총점:  240\n",
            "총점:  223\n",
            "총점:  245\n",
            "평균:  80.0\n",
            "평균:  74.33333333333333\n",
            "평균:  81.66666666666667\n",
            "=======================================\n",
            "이름: 홍길동, 총점: 240, 평균80.0 \n",
            "이름: 오썜, 총점: 223, 평균74.33333333333333 \n",
            "이름: scott, 총점: 245, 평균81.66666666666667 \n"
          ]
        }
      ]
    },
    {
      "cell_type": "markdown",
      "source": [
        "위의 프로그래밍 방식의 문제점은 dict의 키는 중복되지만 않게 만들면 되기 때문에 반복문에서 총점과 평균을 계산하는 기능이 동작하지 않을 수도 있다."
      ],
      "metadata": {
        "id": "uq2_PBuX0hHI"
      }
    },
    {
      "cell_type": "markdown",
      "source": [
        "## 함수형 프로그래밍(functional programming)"
      ],
      "metadata": {
        "id": "p_NBEzRX1BSP"
      }
    },
    {
      "cell_type": "code",
      "source": [
        "def create_student(name, korean, english, math):\n",
        "  student = {'name': name,\n",
        "             'korean': korean,\n",
        "             'english': english,\n",
        "             'math': math}\n",
        "\n",
        "  return student"
      ],
      "metadata": {
        "id": "QWkNZMtH1HYi"
      },
      "execution_count": null,
      "outputs": []
    },
    {
      "cell_type": "code",
      "source": [
        "students = [\n",
        "    create_student('홍길동', 90, 100, 80),\n",
        "    create_student('오쌤', 50, 55, 65),\n",
        "    create_student('scott', 70, 100, 90)\n",
        "]\n",
        "print(students)"
      ],
      "metadata": {
        "colab": {
          "base_uri": "https://localhost:8080/"
        },
        "id": "MPFx2id-1hN5",
        "outputId": "14a0177a-f3e4-48de-c373-7f010b3347c0"
      },
      "execution_count": null,
      "outputs": [
        {
          "output_type": "stream",
          "name": "stdout",
          "text": [
            "[{'name': '홍길동', 'korean': 90, 'english': 100, 'math': 80}, {'name': '오쌤', 'korean': 50, 'english': 55, 'math': 65}, {'name': 'scott', 'korean': 70, 'english': 100, 'math': 90}]\n"
          ]
        }
      ]
    },
    {
      "cell_type": "code",
      "source": [
        "def get_total(student):\n",
        "  return student['korean'] + student['english'] + student['math']"
      ],
      "metadata": {
        "id": "sB3duC4y2UVl"
      },
      "execution_count": null,
      "outputs": []
    },
    {
      "cell_type": "code",
      "source": [
        "def get_mean(student):\n",
        "  return get_total(student) / 3"
      ],
      "metadata": {
        "id": "9eFI-kC52lB3"
      },
      "execution_count": null,
      "outputs": []
    },
    {
      "cell_type": "code",
      "source": [
        "for s in students:\n",
        "  hap = get_total(s)\n",
        "  mean = get_mean(s)\n",
        "  print(f\"이름 : {s['name']}, 총전: {total}, 평균: {mean}\")"
      ],
      "metadata": {
        "colab": {
          "base_uri": "https://localhost:8080/"
        },
        "id": "KJdQm2fx2v8_",
        "outputId": "57b615c7-88c3-4f6e-caf8-c986ad2b7970"
      },
      "execution_count": null,
      "outputs": [
        {
          "output_type": "stream",
          "name": "stdout",
          "text": [
            "이름 : 홍길동, 총전: 245, 평균: 90.0\n",
            "이름 : 오쌤, 총전: 245, 평균: 56.666666666666664\n",
            "이름 : scott, 총전: 245, 평균: 86.66666666666667\n"
          ]
        }
      ]
    },
    {
      "cell_type": "markdown",
      "source": [
        "총점을 계산하는 함수 get_total()과 평균을 계산하는 함수 get_mean()은 학생 dict와 매우 밀접한 관계를 가지고 있음\n",
        "\n",
        "데이터(국어, 영어, 수학)와 기능(총점, 평균 계산)이 밀접한 관계를 가지고 있음\n",
        "\n",
        "데이터와 기능을 하나로 묶을 수 있을까? 라는 의문을 가짐\n",
        "\n",
        "-> 객체 지향 프로그래밍이라는 소프르웨어 만들어짐"
      ],
      "metadata": {
        "id": "UjNRvoM63TQn"
      }
    },
    {
      "cell_type": "markdown",
      "source": [
        "## 객체 지향 프로그래밍(Object-Oriented Programming)"
      ],
      "metadata": {
        "id": "VyWepej84LGp"
      }
    },
    {
      "cell_type": "markdown",
      "source": [
        "* 객체(object): 프로그램에서 구현할 대상, 자료 구조\n",
        "* 클래스(class): 객체를 만들기 위한 설계도(코드)\n",
        "  * 속성(attribute, properity): 객체가 가져야 할 데이터\n",
        "  * 메서드(method): 객체가 가져야 할 기능 -> 클래스 내부에서 선언하는 함수\n",
        "* 인스턴스(instance): 메모리에 생성된 객체 -> 클래스 타입으로 생성된 객체\n",
        "* 생성자(constructor): 클래스 이름과 동일한 함수 -> 객체를 생성해 주는 함수\n",
        "  * 생성자를 호출하면 클래스에서 선언된 `__init__()` 메서드가 호출됨"
      ],
      "metadata": {
        "id": "NQNuWUU_9Jw6"
      }
    },
    {
      "cell_type": "code",
      "source": [
        "# 클래스 선언\n",
        "class Student:\n",
        "  # __init__() 메서드: 생성자를 호출했을 때 실행할 코드, 객체가 가져야 하는 속성의 값들을 초기화\n",
        "  def __init__(self, name, korean, english, math):\n",
        "    self.name = name\n",
        "    self.korean = korean\n",
        "    self.english = english\n",
        "    self.math = math\n",
        "\n",
        "  # 메서드: 클래스에서 선언하는 메서드\n",
        "  def get_total(self):\n",
        "    return self.korean + self.english + self.math\n",
        "\n",
        "  def get_mean(self):\n",
        "    return self.get_total() / 3"
      ],
      "metadata": {
        "id": "2WDoMhtK4Up9"
      },
      "execution_count": null,
      "outputs": []
    },
    {
      "cell_type": "code",
      "source": [
        "student1 = Student('홍길동', 100, 80, 95)  # 생성자 호출, 객체 생성, 인스턴스 생성\n",
        "print(student1)\n",
        "print('이름: ', student1.name)\n",
        "print('국어 점수: ', student1.korean)\n",
        "print('영어 점수: ', student1.english)\n",
        "print('수학 점수: ', student1.math)\n",
        "print('총점: ', student1.get_total())\n",
        "print('평균: ', student1.get_mean())"
      ],
      "metadata": {
        "colab": {
          "base_uri": "https://localhost:8080/"
        },
        "id": "PLlg7wzuAP5q",
        "outputId": "b79490b0-f60f-44c0-f9ab-1871ab1fe7a9"
      },
      "execution_count": null,
      "outputs": [
        {
          "output_type": "stream",
          "name": "stdout",
          "text": [
            "<__main__.Student object at 0x79a467d0d4d0>\n",
            "이름:  홍길동\n",
            "국어 점수:  100\n",
            "영어 점수:  80\n",
            "수학 점수:  95\n",
            "총점:  275\n",
            "평균:  91.66666666666667\n"
          ]
        }
      ]
    },
    {
      "cell_type": "code",
      "source": [
        "student2 = Student('오쌤', 50, 45, 33)\n",
        "print(student2)\n",
        "print('이름: ', student2.name)\n",
        "print('국어 점수: ', student2.korean)    # -> 속성\n",
        "print('영어 점수: ', student2.english)   # -> 속성\n",
        "print('수학 점수: ', student2.math)      # -> 속성\n",
        "print('총점: ', student2.get_total())    # -> 기능\n",
        "print('평균: ', student2.get_mean())     # -> 기능"
      ],
      "metadata": {
        "colab": {
          "base_uri": "https://localhost:8080/"
        },
        "id": "U6AsbwSICoop",
        "outputId": "cb307fc2-2e94-4593-cf76-6eb2b098715d"
      },
      "execution_count": null,
      "outputs": [
        {
          "output_type": "stream",
          "name": "stdout",
          "text": [
            "<__main__.Student object at 0x79a467d0e0d0>\n",
            "이름:  오쌤\n",
            "국어 점수:  50\n",
            "영어 점수:  45\n",
            "수학 점수:  33\n",
            "총점:  128\n",
            "평균:  42.666666666666664\n"
          ]
        }
      ]
    },
    {
      "cell_type": "markdown",
      "source": [
        "# 클래스 선언"
      ],
      "metadata": {
        "id": "p7fA1PfnNAxI"
      }
    },
    {
      "cell_type": "markdown",
      "source": [
        "## Ex 1"
      ],
      "metadata": {
        "id": "P6lY5khENET3"
      }
    },
    {
      "cell_type": "code",
      "source": [
        "class Circle:\n",
        "  def __init__(self, radius):\n",
        "    self.radius = radius\n",
        "\n",
        "  def area(self):\n",
        "    return self.(radius ** 2) * 3.14\n",
        "\n",
        "  def perimeter(self):\n",
        "    return 3.14 * (self.radius * 2)"
      ],
      "metadata": {
        "id": "SlkQwr9BIa_5"
      },
      "execution_count": null,
      "outputs": []
    },
    {
      "cell_type": "code",
      "source": [
        "circle1 = Circle(1)\n",
        "print('반지름:', circle1.radius, end = '\\t')\n",
        "print('넓이:', circle1.area(), end = '\\t')\n",
        "print('둘레:', circle1.perimeter())\n",
        "\n",
        "circle2 = Circle(10)\n",
        "print('반지름:', circle2.radius, end = '\\t')\n",
        "print('넓이:', circle2.area(), end = '\\t')\n",
        "print('둘레:', circle2.perimeter())"
      ],
      "metadata": {
        "colab": {
          "base_uri": "https://localhost:8080/"
        },
        "id": "KcIOJr94OpVX",
        "outputId": "58eaa054-c35e-4de2-82ae-ae5884bc94d6"
      },
      "execution_count": null,
      "outputs": [
        {
          "output_type": "stream",
          "name": "stdout",
          "text": [
            "반지름: 1\t넓이: 3.14\t둘레: 6.28\n",
            "반지름: 10\t넓이: 314.0\t둘레: 62.800000000000004\n"
          ]
        }
      ]
    },
    {
      "cell_type": "markdown",
      "source": [
        "## Ex 2"
      ],
      "metadata": {
        "id": "E9sB_dc5V1Qj"
      }
    },
    {
      "cell_type": "code",
      "source": [
        "# 직사각형의 가로, 세로 길이를 받아 넓이/둘레 구하기.\n",
        "\n",
        "class Rectangle:\n",
        "  def __init__(self, x, y):\n",
        "    self.x = x\n",
        "    self.y = y\n",
        "\n",
        "  def area(self):\n",
        "    return self.x * self.y\n",
        "\n",
        "  def perimeter(self):\n",
        "    return (self.x + self.y) * 2"
      ],
      "metadata": {
        "id": "E0-wErzJQNtU"
      },
      "execution_count": null,
      "outputs": []
    },
    {
      "cell_type": "code",
      "source": [
        "wlr = Rectangle(3, 4)\n",
        "print('가로 길이:', wlr.x)\n",
        "print('세로 길이:', wlr.y)\n",
        "print('넓이:', wlr.area())\n",
        "print('둘레:', wlr.perimeter())"
      ],
      "metadata": {
        "colab": {
          "base_uri": "https://localhost:8080/"
        },
        "id": "WXNV_EhuWmrw",
        "outputId": "5640e3e2-409a-4762-d268-c5e2cebe84e7"
      },
      "execution_count": null,
      "outputs": [
        {
          "output_type": "stream",
          "name": "stdout",
          "text": [
            "가로 길이: 3\n",
            "세로 길이: 4\n",
            "넓이: 12\n",
            "둘레: 14\n"
          ]
        }
      ]
    },
    {
      "cell_type": "code",
      "source": [
        "rect2 = Rectangle(8, 6)\n",
        "print('가로 길이:', rect2.x)\n",
        "print('세로 길이:', rect2.y)\n",
        "print('넓이:', rect2.area())\n",
        "print('둘레:', rect2.perimeter())"
      ],
      "metadata": {
        "colab": {
          "base_uri": "https://localhost:8080/"
        },
        "id": "Q-JUUxLYZ6WW",
        "outputId": "8ab497f7-6bcf-46e7-93ce-32e4cd3ae20f"
      },
      "execution_count": null,
      "outputs": [
        {
          "output_type": "stream",
          "name": "stdout",
          "text": [
            "가로 길이: 8\n",
            "세로 길이: 6\n",
            "넓이: 48\n",
            "둘레: 28\n"
          ]
        }
      ]
    },
    {
      "cell_type": "markdown",
      "source": [
        "## Ex 3"
      ],
      "metadata": {
        "id": "FAFtO4RMa0FN"
      }
    },
    {
      "cell_type": "code",
      "source": [
        "import math"
      ],
      "metadata": {
        "id": "J43BU6NOcTpd"
      },
      "execution_count": null,
      "outputs": []
    },
    {
      "cell_type": "code",
      "source": [
        "class Point:\n",
        "  \"\"\"2차원 평면에서 점의 좌표를 표현하는 클래스\"\"\"\n",
        "\n",
        "  # __init__(): 생성자 함수를 호출하면 자동으로 호출되는 메서드\n",
        "  def __init__(self, x=0, y=0):\n",
        "    self.x = x\n",
        "    self.y = y\n",
        "\n",
        "  # __str__(): print() 함수가 객체를 출력하기 위해서 호출하는 메서드\n",
        "  # __str__() 함수를 선언하지 않으면 print() 함수는 'Point object 0x1231123'형식으로 객체를 출력\n",
        "  # __str__() 함수를 선언하면, print() 함수는 __str__() 함수가 리턴하는 문자열을 출력\n",
        "  def __str__(self):\n",
        "    return f'Point(x={self.x}, y={self.y})'\n",
        "\n",
        "  def move(self, dx = 0, dy = 0):\n",
        "    \"\"\"점의 위치를 원래 위치에서 x축 방향으로 dx만큼, y축 방향으로 dy만큼 이동\"\"\"\n",
        "    self.x += dx\n",
        "    self.y += dy\n",
        "    return(self.x, self.y)\n",
        "\n",
        "  def distance(self, other):\n",
        "    \"\"\"현재 점의 위치와 다른 점 사이의 거리를 리턴\"\"\"\n",
        "    # return ((self.x - other.x) ** 2 + (self.y - other.y) ** 2) ** 0.5\n",
        "    return math.sqrt((self.x - other.x) ** 2 + (self.y - other.y) ** 2)"
      ],
      "metadata": {
        "id": "MvyqD7zoazcG"
      },
      "execution_count": null,
      "outputs": []
    },
    {
      "cell_type": "code",
      "source": [
        "a = Point(6, 7)\n",
        "print('x 좌표:', a.x, 'y 좌표:', a.y)\n",
        "print('이동한 좌표:', a.move(4, 6))\n",
        "print('다른 점과의 거리:', a.distance(Point(7, 2)))\n",
        "print('이동한 좌표:', a.move(7))\n",
        "print('이동한 좌표:',a.move(dy = -3))\n",
        "print('다른 점과의 거리:', a.distance(Point(6, 7)))"
      ],
      "metadata": {
        "colab": {
          "base_uri": "https://localhost:8080/"
        },
        "id": "yd_2etDHczuF",
        "outputId": "bb2a7516-2d9a-4d35-83f9-3587a29ee47f"
      },
      "execution_count": null,
      "outputs": [
        {
          "output_type": "stream",
          "name": "stdout",
          "text": [
            "x 좌표: 6 y 좌표: 7\n",
            "이동한 좌표: (10, 13)\n",
            "다른 점과의 거리: 11.40175425099138\n",
            "이동한 좌표: (17, 13)\n",
            "이동한 좌표: (17, 10)\n",
            "다른 점과의 거리: 11.40175425099138\n"
          ]
        }
      ]
    },
    {
      "cell_type": "code",
      "source": [
        "pt1 = Point()    # 생성자 함수에 argument를 전달하지 않으면 default argument가 사용됨\n",
        "print(pt1)\n",
        "print(f'point({pt1.x}, {pt1.y})')"
      ],
      "metadata": {
        "colab": {
          "base_uri": "https://localhost:8080/"
        },
        "id": "EgRfMKzKlztC",
        "outputId": "af5e4dd7-6bd8-41f3-9ae4-cd0747cdedd7"
      },
      "execution_count": null,
      "outputs": [
        {
          "output_type": "stream",
          "name": "stdout",
          "text": [
            "Point(x=0, y=0)\n",
            "point(0, 0)\n"
          ]
        }
      ]
    },
    {
      "cell_type": "code",
      "source": [
        "pt2 = Point(1, 2)\n",
        "print(pt2)\n",
        "print(f'point({pt2.x}, {pt2.y})')"
      ],
      "metadata": {
        "colab": {
          "base_uri": "https://localhost:8080/"
        },
        "id": "hM_7XpAUmOly",
        "outputId": "e3947c00-c6cd-43fd-8fed-bbfa8a09d141"
      },
      "execution_count": null,
      "outputs": [
        {
          "output_type": "stream",
          "name": "stdout",
          "text": [
            "Point(x=1, y=2)\n",
            "point(1, 2)\n"
          ]
        }
      ]
    },
    {
      "cell_type": "code",
      "source": [
        "pt1.move(1, 1)\n",
        "print(f'point({pt1.x}, {pt1.y})')"
      ],
      "metadata": {
        "colab": {
          "base_uri": "https://localhost:8080/"
        },
        "id": "5Y_E6p7SmOyq",
        "outputId": "19ad18c1-2933-4bdb-a173-d912ed472918"
      },
      "execution_count": null,
      "outputs": [
        {
          "output_type": "stream",
          "name": "stdout",
          "text": [
            "point(1, 1)\n"
          ]
        }
      ]
    },
    {
      "cell_type": "code",
      "source": [
        "pt2.move(2, 1)\n",
        "# print(f'point({pt2.x}, {pt2.y})')\n",
        "print(pt2)"
      ],
      "metadata": {
        "colab": {
          "base_uri": "https://localhost:8080/"
        },
        "id": "E2A9Wkk0mbpi",
        "outputId": "1f30dafb-456f-4b4e-fa3e-3502f81c7158"
      },
      "execution_count": null,
      "outputs": [
        {
          "output_type": "stream",
          "name": "stdout",
          "text": [
            "Point(x=5, y=4)\n"
          ]
        }
      ]
    },
    {
      "cell_type": "code",
      "source": [
        "pt1.distance(pt2)"
      ],
      "metadata": {
        "colab": {
          "base_uri": "https://localhost:8080/"
        },
        "id": "FMHAR5ksmb5D",
        "outputId": "0b40a2ac-df20-4b54-bcfb-44bd49043259"
      },
      "execution_count": null,
      "outputs": [
        {
          "output_type": "execute_result",
          "data": {
            "text/plain": [
              "2.8284271247461903"
            ]
          },
          "metadata": {},
          "execution_count": 148
        }
      ]
    },
    {
      "cell_type": "markdown",
      "source": [
        "클래스 안에서 선언한 함수 -> 메서드 ->> 일반적으로 self라는 argument를 가짐"
      ],
      "metadata": {
        "id": "MkdMc2rMpHzx"
      }
    }
  ]
}