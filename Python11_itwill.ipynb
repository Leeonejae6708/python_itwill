{
  "nbformat": 4,
  "nbformat_minor": 0,
  "metadata": {
    "colab": {
      "provenance": [],
      "authorship_tag": "ABX9TyNE1pX1I6Y9oMVYC4mELJqq",
      "include_colab_link": true
    },
    "kernelspec": {
      "name": "python3",
      "display_name": "Python 3"
    },
    "language_info": {
      "name": "python"
    }
  },
  "cells": [
    {
      "cell_type": "markdown",
      "metadata": {
        "id": "view-in-github",
        "colab_type": "text"
      },
      "source": [
        "<a href=\"https://colab.research.google.com/github/Leeonejae6708/python_itwill/blob/main/Python11_itwill.ipynb\" target=\"_parent\"><img src=\"https://colab.research.google.com/assets/colab-badge.svg\" alt=\"Open In Colab\"/></a>"
      ]
    },
    {
      "cell_type": "markdown",
      "source": [
        "# 함수(Function)"
      ],
      "metadata": {
        "id": "_4m3_64HylPD"
      }
    },
    {
      "cell_type": "markdown",
      "source": [
        "* **함수(Function)**: 기능을 수행하는 코드 블록\n",
        "* **인수(argument)**: 함수가 기능을 수행하기 위해서 값이 필요한 경우, 함수를 호출할 때 함수에게 전달해 주는 값\n",
        "* **매개변수(parameter)**: 인수를 저장하기 위해서, 함수를 정의할 때 선언하는 변수\n",
        "* **반환값(return value)**: 함수가 기능을 수행한 후에, 그 결과로 함수를 호출한 곳에 되돌려주는 값\n",
        "  * 함수에 따라서 반환값이 있는 함수도 있고, 없는 함수도 있음\n",
        "    * ex) print()함수는 반환값 x"
      ],
      "metadata": {
        "id": "1hSXZOA6zUir"
      }
    },
    {
      "cell_type": "code",
      "execution_count": null,
      "metadata": {
        "colab": {
          "base_uri": "https://localhost:8080/"
        },
        "id": "CI3x0zSwyc9z",
        "outputId": "a0631233-145c-4e4e-935b-1bc6b1aa68f3"
      },
      "outputs": [
        {
          "output_type": "stream",
          "name": "stdout",
          "text": [
            "6\n"
          ]
        }
      ],
      "source": [
        "result = len('안녕하세요.')\n",
        "print(result)\n",
        "\n",
        "# 함수 이름: len()\n",
        "# argument: '안녕하세요.'\n",
        "# 함수 호출: len('안녕하세요.)  -> 괄호 필수!!\n",
        "# 반환값: 6"
      ]
    },
    {
      "cell_type": "markdown",
      "source": [
        "## 함수 선언(정의)\n",
        "```\n",
        "def 함수이름([매개변수1, 매개변수2, ...]):\n",
        "  [\"\"\"문서화 주석(documentaion comments): 함수에 대한 설명***]\n",
        "  함수가 수행할 기능을 코드 블록으로 작성\n",
        "  [return 반환값]\n",
        "```\n",
        " [ ] -> 생략가능"
      ],
      "metadata": {
        "id": "g4I1r-RZ3K11"
      }
    },
    {
      "cell_type": "code",
      "source": [
        "def subtract(x, y):\n",
        "  \"\"\"x - y를 리턴하는 함수\"\"\"\n",
        "  z = x - y\n",
        "  return z\n",
        "\n",
        "subtract(1, 0)"
      ],
      "metadata": {
        "colab": {
          "base_uri": "https://localhost:8080/"
        },
        "id": "lb1yQjB74QBa",
        "outputId": "d097e082-ca24-4b12-af22-22873d1e223b"
      },
      "execution_count": null,
      "outputs": [
        {
          "output_type": "execute_result",
          "data": {
            "text/plain": [
              "1"
            ]
          },
          "metadata": {},
          "execution_count": 8
        }
      ]
    },
    {
      "cell_type": "code",
      "source": [
        "# substract() 함수를 호출\n",
        "result = subtract(1212, 1211)\n",
        "print(result)"
      ],
      "metadata": {
        "colab": {
          "base_uri": "https://localhost:8080/"
        },
        "id": "qH4iCCGK2HRB",
        "outputId": "bf86808c-364f-48d6-e093-4287338b5e82"
      },
      "execution_count": null,
      "outputs": [
        {
          "output_type": "stream",
          "name": "stdout",
          "text": [
            "1\n"
          ]
        }
      ]
    },
    {
      "cell_type": "code",
      "source": [
        "print(subtract(123123, 123))"
      ],
      "metadata": {
        "colab": {
          "base_uri": "https://localhost:8080/"
        },
        "id": "XqSOuDiE5lc1",
        "outputId": "1425eaf9-5328-4cb0-b172-7fd92b73965e"
      },
      "execution_count": null,
      "outputs": [
        {
          "output_type": "stream",
          "name": "stdout",
          "text": [
            "123000\n"
          ]
        }
      ]
    },
    {
      "cell_type": "markdown",
      "source": [
        "## 값을 반환하지 않는 함수"
      ],
      "metadata": {
        "id": "GTeZwM3r-Li_"
      }
    },
    {
      "cell_type": "code",
      "source": [
        "def repeat_message(msg, n):\n",
        "  \"\"\"\n",
        "  msg를 n번 반복해서 출력하는 함수\n",
        "\n",
        "  @param msg - 출력할 메시지, str타입\n",
        "  @param n - 출력할 횟수, int타입 (0또는 양의 정수)\n",
        "  @return None\n",
        "  \"\"\"\n",
        "  for _ in range(n):\n",
        "    print(msg)\n",
        "\n",
        "  #return None  # <- 이건 생략 가능"
      ],
      "metadata": {
        "id": "shp_uW5I8SJG"
      },
      "execution_count": null,
      "outputs": []
    },
    {
      "cell_type": "code",
      "source": [
        "repeat_message('안니용', 753)"
      ],
      "metadata": {
        "colab": {
          "base_uri": "https://localhost:8080/"
        },
        "id": "rtiVexUaAkQN",
        "outputId": "77110f79-5c85-4396-f77d-73254e39b6a2"
      },
      "execution_count": null,
      "outputs": [
        {
          "output_type": "stream",
          "name": "stdout",
          "text": [
            "안니용\n",
            "안니용\n",
            "안니용\n",
            "안니용\n",
            "안니용\n",
            "안니용\n",
            "안니용\n",
            "안니용\n",
            "안니용\n",
            "안니용\n",
            "안니용\n",
            "안니용\n",
            "안니용\n",
            "안니용\n",
            "안니용\n",
            "안니용\n",
            "안니용\n",
            "안니용\n",
            "안니용\n",
            "안니용\n",
            "안니용\n",
            "안니용\n",
            "안니용\n",
            "안니용\n",
            "안니용\n",
            "안니용\n",
            "안니용\n",
            "안니용\n",
            "안니용\n",
            "안니용\n",
            "안니용\n",
            "안니용\n",
            "안니용\n",
            "안니용\n",
            "안니용\n",
            "안니용\n",
            "안니용\n",
            "안니용\n",
            "안니용\n",
            "안니용\n",
            "안니용\n",
            "안니용\n",
            "안니용\n",
            "안니용\n",
            "안니용\n",
            "안니용\n",
            "안니용\n",
            "안니용\n",
            "안니용\n",
            "안니용\n",
            "안니용\n",
            "안니용\n",
            "안니용\n",
            "안니용\n",
            "안니용\n",
            "안니용\n",
            "안니용\n",
            "안니용\n",
            "안니용\n",
            "안니용\n",
            "안니용\n",
            "안니용\n",
            "안니용\n",
            "안니용\n",
            "안니용\n",
            "안니용\n",
            "안니용\n",
            "안니용\n",
            "안니용\n",
            "안니용\n",
            "안니용\n",
            "안니용\n",
            "안니용\n",
            "안니용\n",
            "안니용\n",
            "안니용\n",
            "안니용\n",
            "안니용\n",
            "안니용\n",
            "안니용\n",
            "안니용\n",
            "안니용\n",
            "안니용\n",
            "안니용\n",
            "안니용\n",
            "안니용\n",
            "안니용\n",
            "안니용\n",
            "안니용\n",
            "안니용\n",
            "안니용\n",
            "안니용\n",
            "안니용\n",
            "안니용\n",
            "안니용\n",
            "안니용\n",
            "안니용\n",
            "안니용\n",
            "안니용\n",
            "안니용\n",
            "안니용\n",
            "안니용\n",
            "안니용\n",
            "안니용\n",
            "안니용\n",
            "안니용\n",
            "안니용\n",
            "안니용\n",
            "안니용\n",
            "안니용\n",
            "안니용\n",
            "안니용\n",
            "안니용\n",
            "안니용\n",
            "안니용\n",
            "안니용\n",
            "안니용\n",
            "안니용\n",
            "안니용\n",
            "안니용\n",
            "안니용\n",
            "안니용\n",
            "안니용\n",
            "안니용\n",
            "안니용\n",
            "안니용\n",
            "안니용\n",
            "안니용\n",
            "안니용\n",
            "안니용\n",
            "안니용\n",
            "안니용\n",
            "안니용\n",
            "안니용\n",
            "안니용\n",
            "안니용\n",
            "안니용\n",
            "안니용\n",
            "안니용\n",
            "안니용\n",
            "안니용\n",
            "안니용\n",
            "안니용\n",
            "안니용\n",
            "안니용\n",
            "안니용\n",
            "안니용\n",
            "안니용\n",
            "안니용\n",
            "안니용\n",
            "안니용\n",
            "안니용\n",
            "안니용\n",
            "안니용\n",
            "안니용\n",
            "안니용\n",
            "안니용\n",
            "안니용\n",
            "안니용\n",
            "안니용\n",
            "안니용\n",
            "안니용\n",
            "안니용\n",
            "안니용\n",
            "안니용\n",
            "안니용\n",
            "안니용\n",
            "안니용\n",
            "안니용\n",
            "안니용\n",
            "안니용\n",
            "안니용\n",
            "안니용\n",
            "안니용\n",
            "안니용\n",
            "안니용\n",
            "안니용\n",
            "안니용\n",
            "안니용\n",
            "안니용\n",
            "안니용\n",
            "안니용\n",
            "안니용\n",
            "안니용\n",
            "안니용\n",
            "안니용\n",
            "안니용\n",
            "안니용\n",
            "안니용\n",
            "안니용\n",
            "안니용\n",
            "안니용\n",
            "안니용\n",
            "안니용\n",
            "안니용\n",
            "안니용\n",
            "안니용\n",
            "안니용\n",
            "안니용\n",
            "안니용\n",
            "안니용\n",
            "안니용\n",
            "안니용\n",
            "안니용\n",
            "안니용\n",
            "안니용\n",
            "안니용\n",
            "안니용\n",
            "안니용\n",
            "안니용\n",
            "안니용\n",
            "안니용\n",
            "안니용\n",
            "안니용\n",
            "안니용\n",
            "안니용\n",
            "안니용\n",
            "안니용\n",
            "안니용\n",
            "안니용\n",
            "안니용\n",
            "안니용\n",
            "안니용\n",
            "안니용\n",
            "안니용\n",
            "안니용\n",
            "안니용\n",
            "안니용\n",
            "안니용\n",
            "안니용\n",
            "안니용\n",
            "안니용\n",
            "안니용\n",
            "안니용\n",
            "안니용\n",
            "안니용\n",
            "안니용\n",
            "안니용\n",
            "안니용\n",
            "안니용\n",
            "안니용\n",
            "안니용\n",
            "안니용\n",
            "안니용\n",
            "안니용\n",
            "안니용\n",
            "안니용\n",
            "안니용\n",
            "안니용\n",
            "안니용\n",
            "안니용\n",
            "안니용\n",
            "안니용\n",
            "안니용\n",
            "안니용\n",
            "안니용\n",
            "안니용\n",
            "안니용\n",
            "안니용\n",
            "안니용\n",
            "안니용\n",
            "안니용\n",
            "안니용\n",
            "안니용\n",
            "안니용\n",
            "안니용\n",
            "안니용\n",
            "안니용\n",
            "안니용\n",
            "안니용\n",
            "안니용\n",
            "안니용\n",
            "안니용\n",
            "안니용\n",
            "안니용\n",
            "안니용\n",
            "안니용\n",
            "안니용\n",
            "안니용\n",
            "안니용\n",
            "안니용\n",
            "안니용\n",
            "안니용\n",
            "안니용\n",
            "안니용\n",
            "안니용\n",
            "안니용\n",
            "안니용\n",
            "안니용\n",
            "안니용\n",
            "안니용\n",
            "안니용\n",
            "안니용\n",
            "안니용\n",
            "안니용\n",
            "안니용\n",
            "안니용\n",
            "안니용\n",
            "안니용\n",
            "안니용\n",
            "안니용\n",
            "안니용\n",
            "안니용\n",
            "안니용\n",
            "안니용\n",
            "안니용\n",
            "안니용\n",
            "안니용\n",
            "안니용\n",
            "안니용\n",
            "안니용\n",
            "안니용\n",
            "안니용\n",
            "안니용\n",
            "안니용\n",
            "안니용\n",
            "안니용\n",
            "안니용\n",
            "안니용\n",
            "안니용\n",
            "안니용\n",
            "안니용\n",
            "안니용\n",
            "안니용\n",
            "안니용\n",
            "안니용\n",
            "안니용\n",
            "안니용\n",
            "안니용\n",
            "안니용\n",
            "안니용\n",
            "안니용\n",
            "안니용\n",
            "안니용\n",
            "안니용\n",
            "안니용\n",
            "안니용\n",
            "안니용\n",
            "안니용\n",
            "안니용\n",
            "안니용\n",
            "안니용\n",
            "안니용\n",
            "안니용\n",
            "안니용\n",
            "안니용\n",
            "안니용\n",
            "안니용\n",
            "안니용\n",
            "안니용\n",
            "안니용\n",
            "안니용\n",
            "안니용\n",
            "안니용\n",
            "안니용\n",
            "안니용\n",
            "안니용\n",
            "안니용\n",
            "안니용\n",
            "안니용\n",
            "안니용\n",
            "안니용\n",
            "안니용\n",
            "안니용\n",
            "안니용\n",
            "안니용\n",
            "안니용\n",
            "안니용\n",
            "안니용\n",
            "안니용\n",
            "안니용\n",
            "안니용\n",
            "안니용\n",
            "안니용\n",
            "안니용\n",
            "안니용\n",
            "안니용\n",
            "안니용\n",
            "안니용\n",
            "안니용\n",
            "안니용\n",
            "안니용\n",
            "안니용\n",
            "안니용\n",
            "안니용\n",
            "안니용\n",
            "안니용\n",
            "안니용\n",
            "안니용\n",
            "안니용\n",
            "안니용\n",
            "안니용\n",
            "안니용\n",
            "안니용\n",
            "안니용\n",
            "안니용\n",
            "안니용\n",
            "안니용\n",
            "안니용\n",
            "안니용\n",
            "안니용\n",
            "안니용\n",
            "안니용\n",
            "안니용\n",
            "안니용\n",
            "안니용\n",
            "안니용\n",
            "안니용\n",
            "안니용\n",
            "안니용\n",
            "안니용\n",
            "안니용\n",
            "안니용\n",
            "안니용\n",
            "안니용\n",
            "안니용\n",
            "안니용\n",
            "안니용\n",
            "안니용\n",
            "안니용\n",
            "안니용\n",
            "안니용\n",
            "안니용\n",
            "안니용\n",
            "안니용\n",
            "안니용\n",
            "안니용\n",
            "안니용\n",
            "안니용\n",
            "안니용\n",
            "안니용\n",
            "안니용\n",
            "안니용\n",
            "안니용\n",
            "안니용\n",
            "안니용\n",
            "안니용\n",
            "안니용\n",
            "안니용\n",
            "안니용\n",
            "안니용\n",
            "안니용\n",
            "안니용\n",
            "안니용\n",
            "안니용\n",
            "안니용\n",
            "안니용\n",
            "안니용\n",
            "안니용\n",
            "안니용\n",
            "안니용\n",
            "안니용\n",
            "안니용\n",
            "안니용\n",
            "안니용\n",
            "안니용\n",
            "안니용\n",
            "안니용\n",
            "안니용\n",
            "안니용\n",
            "안니용\n",
            "안니용\n",
            "안니용\n",
            "안니용\n",
            "안니용\n",
            "안니용\n",
            "안니용\n",
            "안니용\n",
            "안니용\n",
            "안니용\n",
            "안니용\n",
            "안니용\n",
            "안니용\n",
            "안니용\n",
            "안니용\n",
            "안니용\n",
            "안니용\n",
            "안니용\n",
            "안니용\n",
            "안니용\n",
            "안니용\n",
            "안니용\n",
            "안니용\n",
            "안니용\n",
            "안니용\n",
            "안니용\n",
            "안니용\n",
            "안니용\n",
            "안니용\n",
            "안니용\n",
            "안니용\n",
            "안니용\n",
            "안니용\n",
            "안니용\n",
            "안니용\n",
            "안니용\n",
            "안니용\n",
            "안니용\n",
            "안니용\n",
            "안니용\n",
            "안니용\n",
            "안니용\n",
            "안니용\n",
            "안니용\n",
            "안니용\n",
            "안니용\n",
            "안니용\n",
            "안니용\n",
            "안니용\n",
            "안니용\n",
            "안니용\n",
            "안니용\n",
            "안니용\n",
            "안니용\n",
            "안니용\n",
            "안니용\n",
            "안니용\n",
            "안니용\n",
            "안니용\n",
            "안니용\n",
            "안니용\n",
            "안니용\n",
            "안니용\n",
            "안니용\n",
            "안니용\n",
            "안니용\n",
            "안니용\n",
            "안니용\n",
            "안니용\n",
            "안니용\n",
            "안니용\n",
            "안니용\n",
            "안니용\n",
            "안니용\n",
            "안니용\n",
            "안니용\n",
            "안니용\n",
            "안니용\n",
            "안니용\n",
            "안니용\n",
            "안니용\n",
            "안니용\n",
            "안니용\n",
            "안니용\n",
            "안니용\n",
            "안니용\n",
            "안니용\n",
            "안니용\n",
            "안니용\n",
            "안니용\n",
            "안니용\n",
            "안니용\n",
            "안니용\n",
            "안니용\n",
            "안니용\n",
            "안니용\n",
            "안니용\n",
            "안니용\n",
            "안니용\n",
            "안니용\n",
            "안니용\n",
            "안니용\n",
            "안니용\n",
            "안니용\n",
            "안니용\n",
            "안니용\n",
            "안니용\n",
            "안니용\n",
            "안니용\n",
            "안니용\n",
            "안니용\n",
            "안니용\n",
            "안니용\n",
            "안니용\n",
            "안니용\n",
            "안니용\n",
            "안니용\n",
            "안니용\n",
            "안니용\n",
            "안니용\n",
            "안니용\n",
            "안니용\n",
            "안니용\n",
            "안니용\n",
            "안니용\n",
            "안니용\n",
            "안니용\n",
            "안니용\n",
            "안니용\n",
            "안니용\n",
            "안니용\n",
            "안니용\n",
            "안니용\n",
            "안니용\n",
            "안니용\n",
            "안니용\n",
            "안니용\n",
            "안니용\n",
            "안니용\n",
            "안니용\n",
            "안니용\n",
            "안니용\n",
            "안니용\n",
            "안니용\n",
            "안니용\n",
            "안니용\n",
            "안니용\n",
            "안니용\n",
            "안니용\n",
            "안니용\n",
            "안니용\n",
            "안니용\n",
            "안니용\n",
            "안니용\n",
            "안니용\n",
            "안니용\n",
            "안니용\n",
            "안니용\n",
            "안니용\n",
            "안니용\n",
            "안니용\n",
            "안니용\n",
            "안니용\n",
            "안니용\n",
            "안니용\n",
            "안니용\n",
            "안니용\n",
            "안니용\n",
            "안니용\n",
            "안니용\n",
            "안니용\n",
            "안니용\n",
            "안니용\n",
            "안니용\n",
            "안니용\n",
            "안니용\n",
            "안니용\n",
            "안니용\n",
            "안니용\n",
            "안니용\n",
            "안니용\n",
            "안니용\n",
            "안니용\n",
            "안니용\n",
            "안니용\n",
            "안니용\n",
            "안니용\n",
            "안니용\n",
            "안니용\n",
            "안니용\n",
            "안니용\n",
            "안니용\n",
            "안니용\n",
            "안니용\n",
            "안니용\n",
            "안니용\n",
            "안니용\n",
            "안니용\n",
            "안니용\n",
            "안니용\n",
            "안니용\n",
            "안니용\n",
            "안니용\n",
            "안니용\n",
            "안니용\n",
            "안니용\n",
            "안니용\n",
            "안니용\n",
            "안니용\n",
            "안니용\n",
            "안니용\n",
            "안니용\n",
            "안니용\n",
            "안니용\n",
            "안니용\n",
            "안니용\n",
            "안니용\n",
            "안니용\n",
            "안니용\n",
            "안니용\n",
            "안니용\n",
            "안니용\n",
            "안니용\n",
            "안니용\n",
            "안니용\n",
            "안니용\n",
            "안니용\n",
            "안니용\n",
            "안니용\n",
            "안니용\n",
            "안니용\n",
            "안니용\n",
            "안니용\n",
            "안니용\n",
            "안니용\n",
            "안니용\n",
            "안니용\n",
            "안니용\n",
            "안니용\n",
            "안니용\n",
            "안니용\n",
            "안니용\n",
            "안니용\n",
            "안니용\n",
            "안니용\n",
            "안니용\n",
            "안니용\n",
            "안니용\n",
            "안니용\n",
            "안니용\n",
            "안니용\n",
            "안니용\n",
            "안니용\n",
            "안니용\n",
            "안니용\n",
            "안니용\n",
            "안니용\n",
            "안니용\n",
            "안니용\n",
            "안니용\n",
            "안니용\n",
            "안니용\n",
            "안니용\n",
            "안니용\n",
            "안니용\n",
            "안니용\n",
            "안니용\n",
            "안니용\n",
            "안니용\n",
            "안니용\n",
            "안니용\n",
            "안니용\n",
            "안니용\n",
            "안니용\n",
            "안니용\n",
            "안니용\n",
            "안니용\n",
            "안니용\n",
            "안니용\n",
            "안니용\n",
            "안니용\n",
            "안니용\n",
            "안니용\n",
            "안니용\n",
            "안니용\n",
            "안니용\n",
            "안니용\n",
            "안니용\n",
            "안니용\n",
            "안니용\n",
            "안니용\n",
            "안니용\n",
            "안니용\n"
          ]
        }
      ]
    },
    {
      "cell_type": "code",
      "source": [
        "repeat_message('hello', 11)"
      ],
      "metadata": {
        "colab": {
          "base_uri": "https://localhost:8080/"
        },
        "id": "i3hRigdLBfFK",
        "outputId": "13d62870-4938-4449-c207-11cdd2245667"
      },
      "execution_count": null,
      "outputs": [
        {
          "output_type": "stream",
          "name": "stdout",
          "text": [
            "hello\n",
            "hello\n",
            "hello\n",
            "hello\n",
            "hello\n",
            "hello\n",
            "hello\n",
            "hello\n",
            "hello\n",
            "hello\n",
            "hello\n"
          ]
        }
      ]
    },
    {
      "cell_type": "markdown",
      "source": [
        "## 2개 이상의 값을 반환하는 함수 선언"
      ],
      "metadata": {
        "id": "2dSRXYlSBlKA"
      }
    },
    {
      "cell_type": "code",
      "source": [
        "def plus_and_minus(x, y):\n",
        "  \"\"\"\n",
        "  두 숫자들의 덧셈과 뺄셈 결과를 반환하는 함수\n",
        "\n",
        "  @param x - 숫자 타입(int or float)\n",
        "  @param y - 숫자 타입(int or float)\n",
        "  @return x + y, x - y\n",
        "  \"\"\"\n",
        "  return x + y, x - y\n"
      ],
      "metadata": {
        "id": "fN0gjeN0B2uN"
      },
      "execution_count": null,
      "outputs": []
    },
    {
      "cell_type": "code",
      "source": [
        "a, b = plus_and_minus(3, 1)\n",
        "print(a, b)"
      ],
      "metadata": {
        "colab": {
          "base_uri": "https://localhost:8080/"
        },
        "id": "51o-1HugCsOS",
        "outputId": "2cbe3d10-ca65-4e1b-e856-09f6fa40b598"
      },
      "execution_count": null,
      "outputs": [
        {
          "output_type": "stream",
          "name": "stdout",
          "text": [
            "4 2\n"
          ]
        }
      ]
    },
    {
      "cell_type": "code",
      "source": [
        "result = plus_and_minus(3, 1)\n",
        "print(result)                  # -> tuple형식으로 저장\n",
        "print(type(result))\n",
        "print(result + result)"
      ],
      "metadata": {
        "colab": {
          "base_uri": "https://localhost:8080/"
        },
        "id": "3lz5tBavDnr1",
        "outputId": "5ce2cb5a-55bb-447a-f43a-406b70f9b47e"
      },
      "execution_count": null,
      "outputs": [
        {
          "output_type": "stream",
          "name": "stdout",
          "text": [
            "(4, 2)\n",
            "<class 'tuple'>\n",
            "(4, 2, 4, 2)\n"
          ]
        }
      ]
    },
    {
      "cell_type": "markdown",
      "source": [
        "## 연습문제1. make_list\n",
        " * 기능: [start, end) 범위의 정수 난수 n개를 갖는 리스트를 리턴\n",
        " * 파라미터: start(정수), end(정수), n(0 또는 양의 정수)"
      ],
      "metadata": {
        "id": "86h9QZvobH8f"
      }
    },
    {
      "cell_type": "code",
      "source": [
        "## 문제 1.\n",
        "\n",
        "import random\n",
        "\n",
        "def make_list(start, end, n):\n",
        "  \"\"\"\n",
        "  [start, end) 범위의 정수 난수 n개를 갖는 리스트를 리턴\n",
        "\n",
        "  @ param start - 정수, 난수의 시작 범위\n",
        "  @ param end - 정수, 난수의 끝 범위\n",
        "  @ param n - 0 or 양의 정수, 반복할 횟수\n",
        "  @ return - [start, end) 범위의 정수 난수 n개를 갖는 리스트\n",
        "  \"\"\"\n",
        "  return [random.randrange(start, end) for _ in range(n)]\n",
        "\n",
        "aaa = make_list(1, 123, 5)\n",
        "print(aaa)"
      ],
      "metadata": {
        "colab": {
          "base_uri": "https://localhost:8080/"
        },
        "id": "sctAzFjYbdRU",
        "outputId": "b1e41cc6-0be8-497d-9e4a-fb1ee1286b97"
      },
      "execution_count": null,
      "outputs": [
        {
          "output_type": "stream",
          "name": "stdout",
          "text": [
            "[13, 67, 36, 109, 103]\n"
          ]
        }
      ]
    },
    {
      "cell_type": "code",
      "source": [
        "## 문제 1. (다른 방식)\n",
        "\n",
        "import random\n",
        "\n",
        "def make_list(start, end, n):\n",
        "  \"\"\"\n",
        "  [start, end) 범위의 정수 난수 n개를 갖는 리스트를 리턴\n",
        "\n",
        "  @ param start - 정수, 난수의 시작 범위\n",
        "  @ param end - 정수, 난수의 끝 범위\n",
        "  @ param n - 0 or 양의 정수, 반복할 횟수\n",
        "  @ return - [start, end) 범위의 정수 난수 n개를 갖는 리스트\n",
        "  \"\"\"\n",
        "  array = []\n",
        "  for _ in range(n):\n",
        "    array.append(random.randrange(start, end))\n",
        "\n",
        "  return array\n",
        "\n",
        "aaa = make_list(1, 123, 5)\n",
        "print(aaa)"
      ],
      "metadata": {
        "colab": {
          "base_uri": "https://localhost:8080/"
        },
        "id": "YweEYvQVmo9L",
        "outputId": "48fe92ea-270d-4057-f3a9-ed53a17ba694"
      },
      "execution_count": null,
      "outputs": [
        {
          "output_type": "stream",
          "name": "stdout",
          "text": [
            "[48, 85, 2, 31, 57]\n"
          ]
        }
      ]
    },
    {
      "cell_type": "markdown",
      "source": [
        "## 연습문제2. calculate_sum\n",
        "* 기능: 숫자(정수, 실수)들을 원소로 갖는 리스트를 전달받아서, 그 리스트의 모든 원소들의 합계를 리턴\n",
        "* 파라미터: array(리스트)"
      ],
      "metadata": {
        "id": "agAnBYCAbQH2"
      }
    },
    {
      "cell_type": "code",
      "source": [
        "## 문제 2.\n",
        "\n",
        "def calculate_sum(array):\n",
        "  \"\"\"\n",
        "  숫자(정수, 실수)들을 원소로 갖는 리스트를 전달받아서, 그 리스트의 모든 원소들의 합계를 리턴\n",
        "\n",
        "  :arg array: 숫자들을 원소로 갖는 리스트\n",
        "  :return: 리스트의 모든 원소들의 합계\n",
        "  \"\"\"\n",
        "\n",
        "  return(sum(array))\n",
        "\n",
        "result = [1, 2, 4, 5, 6, 7, 312]\n",
        "print(result)\n",
        "summm = calculate_sum(result)\n",
        "print(summm)"
      ],
      "metadata": {
        "colab": {
          "base_uri": "https://localhost:8080/"
        },
        "id": "DC41B5CWcvKN",
        "outputId": "fed1d49c-c24a-45a8-bc3a-eddacdbd092c"
      },
      "execution_count": null,
      "outputs": [
        {
          "output_type": "stream",
          "name": "stdout",
          "text": [
            "[1, 2, 4, 5, 6, 7, 312]\n",
            "337\n"
          ]
        }
      ]
    },
    {
      "cell_type": "code",
      "source": [
        "## 문제 2. (다른 방식)\n",
        "\n",
        "def calculate_sum(array):\n",
        "  \"\"\"\n",
        "  숫자(정수, 실수)들을 원소로 갖는 리스트를 전달받아서, 그 리스트의 모든 원소들의 합계를 리턴\n",
        "\n",
        "  @ param array - 리스트\n",
        "  @ return - 리스트의 모든 원소들의 합계\n",
        "  \"\"\"\n",
        "\n",
        "  i = 0\n",
        "  for x in array:\n",
        "    i+=x\n",
        "  return i\n",
        "\n",
        "result = [1, 2, 4, 5, 6, 7, 312]\n",
        "print(result)\n",
        "summm = calculate_sum(result)\n",
        "print(summm)"
      ],
      "metadata": {
        "colab": {
          "base_uri": "https://localhost:8080/"
        },
        "id": "JYqoDRCjm9Tq",
        "outputId": "c81e2f0f-1a33-4827-9b3f-17528d928e24"
      },
      "execution_count": null,
      "outputs": [
        {
          "output_type": "stream",
          "name": "stdout",
          "text": [
            "[1, 2, 4, 5, 6, 7, 312]\n",
            "337\n"
          ]
        }
      ]
    },
    {
      "cell_type": "markdown",
      "source": [
        "## 연습문제3. calculate_mean\n",
        "* 기능: 숫자(정수, 실수)들을 원소로 갖는 리스트를 전달받아서, 그 리스트의 모든 원소들의 평균을 리턴\n",
        "* 파라미터: array(리스트)"
      ],
      "metadata": {
        "id": "yTRx0LxUbQgf"
      }
    },
    {
      "cell_type": "code",
      "source": [
        "## 문제 3.\n",
        "\n",
        "def calculate_mean(array):\n",
        "  \"\"\"\n",
        "  숫자(정수, 실수)들을 원소로 갖는 리스트를 전달받아서, 그 리스트의 모든 원소들의 평균을 리턴\n",
        "\n",
        "  @ param array - 리스트\n",
        "  @ return - 리스트의 모든 원소들의 평균\n",
        "  \"\"\"\n",
        "  return(sum(array) / len(array))\n",
        "\n",
        "result = [1, 2, 4, 5, 6, 7, 312]\n",
        "print(result)\n",
        "mean = calculate_mean(result)\n",
        "print(mean)"
      ],
      "metadata": {
        "colab": {
          "base_uri": "https://localhost:8080/"
        },
        "id": "xQlhucc3cvwD",
        "outputId": "e0c484be-adb3-486e-af11-8d4ffb336a75"
      },
      "execution_count": null,
      "outputs": [
        {
          "output_type": "stream",
          "name": "stdout",
          "text": [
            "[1, 2, 4, 5, 6, 7, 312]\n",
            "48.142857142857146\n"
          ]
        }
      ]
    },
    {
      "cell_type": "code",
      "source": [
        "## 문제 3. (다른 방식)\n",
        "\n",
        "def calculate_mean(array):\n",
        "  \"\"\"\n",
        "  숫자(정수, 실수)들을 원소로 갖는 리스트를 전달받아서, 그 리스트의 모든 원소들의 평균을 리턴\n",
        "\n",
        "  :param array: 리스트\n",
        "  :return: 리스트의 모든 원소들의 평균\n",
        "  \"\"\"\n",
        "\n",
        "  i = 0\n",
        "  for x in array:\n",
        "    i+=x\n",
        "  i /= len(array)\n",
        "  return i\n",
        "\n",
        "result = [1, 2, 4, 5, 6, 7, 312]\n",
        "print(result)\n",
        "mean = calculate_mean(result)\n",
        "print(mean)"
      ],
      "metadata": {
        "colab": {
          "base_uri": "https://localhost:8080/"
        },
        "id": "pkHtXl-HnQv4",
        "outputId": "6502b0e8-da86-4402-db3a-f75949920ff0"
      },
      "execution_count": null,
      "outputs": [
        {
          "output_type": "stream",
          "name": "stdout",
          "text": [
            "[1, 2, 4, 5, 6, 7, 312]\n",
            "48.142857142857146\n"
          ]
        }
      ]
    },
    {
      "cell_type": "code",
      "source": [
        "my_list = make_list(1, 100, 10)\n",
        "print(my_list)"
      ],
      "metadata": {
        "colab": {
          "base_uri": "https://localhost:8080/"
        },
        "id": "5omJGYI1sTLt",
        "outputId": "e27fa737-6465-46fd-e668-35e9d443c06c"
      },
      "execution_count": null,
      "outputs": [
        {
          "output_type": "stream",
          "name": "stdout",
          "text": [
            "[27, 54, 97, 94, 43, 99, 80, 85, 50, 37]\n"
          ]
        }
      ]
    },
    {
      "cell_type": "markdown",
      "source": [
        "연습문제 4. find_min_and_max\n",
        "* 기능: 숫자들을 원소로 갖는 리스트를 argument로 전달받아, 리스트 원소들의 최솟값과 최댓값을 리턴"
      ],
      "metadata": {
        "id": "haU6K8vosdNF"
      }
    },
    {
      "cell_type": "code",
      "source": [
        "## 문제 4.\n",
        "\n",
        "def  find_min_and_max(list):\n",
        "  \"\"\"\n",
        "  숫자들을 원소로 갖는 리스트를 argument로 전달받아, 리스트 원소들의 최솟값과 최댓값을 리턴\n",
        "  \"\"\"\n",
        "\n",
        "  x = min(list)\n",
        "  y = max(list)\n",
        "  return (f'최솟값은: {x} , 최댓값은: {y}')\n",
        "\n",
        "find_min_and_max(my_list)"
      ],
      "metadata": {
        "colab": {
          "base_uri": "https://localhost:8080/",
          "height": 35
        },
        "id": "nVvi3PeJtypT",
        "outputId": "de1b0bb3-b2f4-47aa-edeb-9d7f8e10fdee"
      },
      "execution_count": null,
      "outputs": [
        {
          "output_type": "execute_result",
          "data": {
            "text/plain": [
              "'최솟값은: 27 , 최댓값은: 99'"
            ],
            "application/vnd.google.colaboratory.intrinsic+json": {
              "type": "string"
            }
          },
          "metadata": {},
          "execution_count": 24
        }
      ]
    },
    {
      "cell_type": "code",
      "source": [
        "## 문제 4. (다른 방식)\n",
        "\n",
        "def  find_min_and_max(list):\n",
        "  \"\"\"\n",
        "  숫자들을 원소로 갖는 리스트를 argument로 전달받아, 리스트 원소들의 최솟값과 최댓값을 리턴\n",
        "  \"\"\"\n",
        "\n",
        "  min_array = list[0]                                          # 리스트의 첫 번째 원소를 최솟값이라고 가정\n",
        "  max_array = list[0]                                          # 리스트의 첫 번째 원소를 최댓값이라고 가정\n",
        "  for x in list:                                               # 리스트의 모든 원소들을 순서대로 반복하면서\n",
        "    if x < min_array:                                          # 리스트에서 찾은 값이 최솟값보다 작다면\n",
        "      min_array = x                                            # 최솟값을 리스트에서 찾은 값으로 변경\n",
        "    if x > max_array:                                          # 리스트에서 찾은 값이 최솟값보다 크다면\n",
        "      max_array = x                                            # 최댓값을 리스트에서 찾은 값으로 변경\n",
        "  return (f'최솟값은: {min_array} , 최댓값은: {max_array}')    # 최솟값, 최댓값 출력\n",
        "\n",
        "myy_list = make_list(-100, 101, 10)\n",
        "print(myy_list)\n",
        "find_min_and_max(myy_list)"
      ],
      "metadata": {
        "colab": {
          "base_uri": "https://localhost:8080/",
          "height": 54
        },
        "id": "DA-k6M1ruoAW",
        "outputId": "bf052c0f-5e98-4e75-da38-5c75a6b54e90"
      },
      "execution_count": null,
      "outputs": [
        {
          "output_type": "stream",
          "name": "stdout",
          "text": [
            "[26, 18, 58, 98, -54, -82, 12, 89, -90, -62]\n"
          ]
        },
        {
          "output_type": "execute_result",
          "data": {
            "text/plain": [
              "'최솟값은: -90 , 최댓값은: 98'"
            ],
            "application/vnd.google.colaboratory.intrinsic+json": {
              "type": "string"
            }
          },
          "metadata": {},
          "execution_count": 25
        }
      ]
    },
    {
      "cell_type": "code",
      "source": [
        "# sorted(list): list의 원소들을 오름차순으로 정렬해주는 함수\n",
        "# sorted(list, reverse=False): 오름차순\n",
        "# sorted(list, reverse=True): 오름차순\n",
        "\n",
        "p = sorted(myy_list)\n",
        "pp = sorted(myy_list, reverse=True)\n",
        "print(p)\n",
        "print(pp)"
      ],
      "metadata": {
        "colab": {
          "base_uri": "https://localhost:8080/"
        },
        "id": "6nOqOQzhwqbe",
        "outputId": "a7de08cc-bb82-4a17-a2b8-7575db7abff3"
      },
      "execution_count": null,
      "outputs": [
        {
          "output_type": "stream",
          "name": "stdout",
          "text": [
            "[-90, -82, -62, -54, 12, 18, 26, 58, 89, 98]\n",
            "[98, 89, 58, 26, 18, 12, -54, -62, -82, -90]\n"
          ]
        }
      ]
    },
    {
      "cell_type": "code",
      "source": [
        "def find_min_and_max2(array):\n",
        "  sorted_array = sorted(array)\n",
        "  return sorted_array[0], sorted_array[-1]\n",
        "\n",
        "print(myy_list)\n",
        "find_min_and_max(myy_list)"
      ],
      "metadata": {
        "colab": {
          "base_uri": "https://localhost:8080/",
          "height": 54
        },
        "id": "lBFxoOczxP5S",
        "outputId": "74c79fa8-a312-4d2e-96af-fb35c5048721"
      },
      "execution_count": null,
      "outputs": [
        {
          "output_type": "stream",
          "name": "stdout",
          "text": [
            "[26, 18, 58, 98, -54, -82, 12, 89, -90, -62]\n"
          ]
        },
        {
          "output_type": "execute_result",
          "data": {
            "text/plain": [
              "'최솟값은: -90 , 최댓값은: 98'"
            ],
            "application/vnd.google.colaboratory.intrinsic+json": {
              "type": "string"
            }
          },
          "metadata": {},
          "execution_count": 27
        }
      ]
    },
    {
      "cell_type": "markdown",
      "source": [
        "# Default Argument(기본 인수)"
      ],
      "metadata": {
        "id": "cqJTdVqJ3DmI"
      }
    },
    {
      "cell_type": "markdown",
      "source": [
        "Default Argument(기본 인수):\n",
        "* 함수를 선언할 때 파라미터에 설정하는 기본값\n",
        " * Default parameter: 기본값이 설정된 파라미터(매개변수)\n",
        "* 함수를 호출할 때 Default parameter에 값을 전달하지 않으면 Default Argument가 기본값으로 사용됨\n",
        "* 함수를 호출할 때 Default parameter에 값을 전달하면, 기본값은 무시되고 전달한 Argument가 사용됨"
      ],
      "metadata": {
        "id": "SnDfBGIS3Qw_"
      }
    },
    {
      "cell_type": "code",
      "source": [
        "def repeat_message2(msg, n=1):\n",
        "  for _ in range(n):\n",
        "    print(msg)"
      ],
      "metadata": {
        "id": "-qe6Vg9N38Sg"
      },
      "execution_count": null,
      "outputs": []
    },
    {
      "cell_type": "code",
      "source": [
        "# Default parameter에 값을 전달하지 않는 경우:\n",
        "repeat_message2('hello')   ## -> # Default argument가 1이기 때문에 한 번 반복하여 출력"
      ],
      "metadata": {
        "colab": {
          "base_uri": "https://localhost:8080/"
        },
        "id": "lUK-fdMy4xuA",
        "outputId": "df74e906-fecf-4dad-c821-a6365899d1d4"
      },
      "execution_count": null,
      "outputs": [
        {
          "output_type": "stream",
          "name": "stdout",
          "text": [
            "hello\n"
          ]
        }
      ]
    },
    {
      "cell_type": "code",
      "source": [
        "# Default parameter에 값을 전달하는 경우:\n",
        "repeat_message2('hello', 10) ## > 인수를 전달하였기 때문에 기본값은 무시하고 전달한 인수(10)만큼 반복하여 출력"
      ],
      "metadata": {
        "colab": {
          "base_uri": "https://localhost:8080/"
        },
        "id": "eq41mET_4_Kp",
        "outputId": "8c8d2e3d-0913-441b-edbd-0f6edbf18822"
      },
      "execution_count": null,
      "outputs": [
        {
          "output_type": "stream",
          "name": "stdout",
          "text": [
            "hello\n",
            "hello\n",
            "hello\n",
            "hello\n",
            "hello\n",
            "hello\n",
            "hello\n",
            "hello\n",
            "hello\n",
            "hello\n"
          ]
        }
      ]
    },
    {
      "cell_type": "markdown",
      "source": [
        "**(주의)**\n",
        "Default parameter들은 반드시 기본값을 갖지 않는 파라미터들 뒤에 선언해야함\n",
        "\n",
        "기본값을 갖는 파라미터가 기본값을 갖지 않는 파라미터보다 먼저 선언되면 문법 오류가 발생!"
      ],
      "metadata": {
        "id": "4N4-mZnK6Jcx"
      }
    },
    {
      "cell_type": "code",
      "source": [
        "def test(x, y=9):\n",
        "  pass"
      ],
      "metadata": {
        "id": "q3PiomW06hMa"
      },
      "execution_count": null,
      "outputs": []
    },
    {
      "cell_type": "code",
      "source": [
        "def test_error(x=8, y):   # error발생 -> SyntaxError: non-default argument follows default argument\n",
        "  pass"
      ],
      "metadata": {
        "colab": {
          "base_uri": "https://localhost:8080/",
          "height": 110
        },
        "id": "WrgCNk2v60Xy",
        "outputId": "359c2e68-9b5b-4f21-c804-a5fecffb0a98"
      },
      "execution_count": null,
      "outputs": [
        {
          "output_type": "error",
          "ename": "SyntaxError",
          "evalue": "non-default argument follows default argument (<ipython-input-32-71b136b6236a>, line 1)",
          "traceback": [
            "\u001b[0;36m  File \u001b[0;32m\"<ipython-input-32-71b136b6236a>\"\u001b[0;36m, line \u001b[0;32m1\u001b[0m\n\u001b[0;31m    def test_error(x=8, y):   # error발생 -> SyntaxError: non-default argument follows default argument\u001b[0m\n\u001b[0m                        ^\u001b[0m\n\u001b[0;31mSyntaxError\u001b[0m\u001b[0;31m:\u001b[0m non-default argument follows default argument\n"
          ]
        }
      ]
    },
    {
      "cell_type": "code",
      "source": [
        "def test2(x=8, y=1):\n",
        "\n",
        "  prnt(f'x={x}, y={y}')"
      ],
      "metadata": {
        "id": "AeATrTCK7RwT"
      },
      "execution_count": null,
      "outputs": []
    },
    {
      "cell_type": "markdown",
      "source": [
        "argument 전달 방법:\n",
        "함수를 호출할 때 argument(들)을넘겨주는 방법\n",
        "* **positional argument**: 선언된 파라미터 순서대로 argument들을 전달\n",
        "* **keyword argument**:  param_name = value형식으로 argument를 전달하는 방식\n",
        " * keyword argument 방식을 사용할 때는 파라미터 순서를 지키지 않아도 됨\n",
        "* **(주의)**: 함수를 호출할 때 위의 두 방식을 혼용하는 경우에는, 반드시 positional argument를 먼저 전달하고 keyword argument들은 positional argument방식이 모두 끝난 후에 사용해야 함"
      ],
      "metadata": {
        "id": "YrMuN6y28t4T"
      }
    },
    {
      "cell_type": "code",
      "source": [
        "# 파라미터는 기본적으로 순서대로 값이 전달\n",
        "\n",
        "test2(123)  ## -> positional argument"
      ],
      "metadata": {
        "id": "kEjTT7ta8You"
      },
      "execution_count": null,
      "outputs": []
    },
    {
      "cell_type": "code",
      "source": [
        "# 하지만 앞의 파라미터는 기본값을 사용하고 뒤의 파라미터에만 값을 전달하고 싶을 땐\n",
        "## (파라미터명 = 전달한 인자) 꼴로 전달\n",
        "\n",
        "test2(y=123)   ### -> keyword argument"
      ],
      "metadata": {
        "id": "tTAK3lcN7iri"
      },
      "execution_count": null,
      "outputs": []
    },
    {
      "cell_type": "code",
      "source": [
        "test2(y=123, x=124142)   ### -> keyword argument는 순서를 지키지 않아도 된다. 단, param_name은 정확해야 한다."
      ],
      "metadata": {
        "id": "CnEDAHWc96P8"
      },
      "execution_count": null,
      "outputs": []
    },
    {
      "cell_type": "code",
      "source": [
        "test2(1, y = 123)   # x=1, y=123  출력\n",
        "test2(x=1, 123)     # SyntaxError: positional argument follows keyword argument"
      ],
      "metadata": {
        "id": "8oRWSdqx-m0b"
      },
      "execution_count": null,
      "outputs": []
    },
    {
      "cell_type": "markdown",
      "source": [
        "# Variable-Length Algument(가변길이 인수)"
      ],
      "metadata": {
        "id": "4PfHOlNnWOjz"
      }
    },
    {
      "cell_type": "markdown",
      "source": [
        "* 함수의 argument개수가 임의로 변할 수 있는 것 -> 함수를 호출할 때 argument를 몇 개를 전달해도 상관x\n",
        "  * argumrnt를 한 개도 전달하지 않아도 됨\n",
        "* 함수를 선언할 때 파라미터 이름 앞에 `*`를 사용하면 가변길이 인수를 의미\n",
        "* 함수 내부에서 가변길이 인수는 튜플(tuple)로 취급\n",
        "  * 가변길이 인수는 인덱스를 가짐\n",
        "  * 가변길이 인수는 for-in 구문에서 사용할 수 있음\n",
        "* 가변길이 인수는 keyword argumrnt방식으로 값을 전달할 수 없음\n",
        "* 함수를 선언할 때 가변길이 인수를 저장하는 파라미터는 오직 1개만 선언할 수 있음\n",
        "* 가변길이 인수를 갖는 파라미터 뒤에 선언된 다른 파라미터들은 오직 keyword argument방식으로만 값을 전달할 수 있음"
      ],
      "metadata": {
        "id": "JTn7wcv5WV0F"
      }
    },
    {
      "cell_type": "code",
      "source": [
        "print('안녕')   # argumrnt 1개를 전달.\n",
        "print('안녕', 'hello', 'python') # argumrnt 3개를 전달"
      ],
      "metadata": {
        "id": "scxa87YuS6Ui"
      },
      "execution_count": null,
      "outputs": []
    },
    {
      "cell_type": "code",
      "source": [
        "def add_all(*args):\n",
        "  \"\"\"argument로 전달된 모든 숫자들의 함계를 리턴. argument가 없는 경우에는 0을 리턴\"\"\"\n",
        "  result = 0\n",
        "  for x in args:\n",
        "    result+=x\n",
        "\n",
        "  return result"
      ],
      "metadata": {
        "id": "SPyuq7rvYVYc"
      },
      "execution_count": null,
      "outputs": []
    },
    {
      "cell_type": "code",
      "source": [
        "add_all()"
      ],
      "metadata": {
        "id": "bjy473f2Z-eq"
      },
      "execution_count": null,
      "outputs": []
    },
    {
      "cell_type": "code",
      "source": [
        "add_all(123, 123, 123, 123)"
      ],
      "metadata": {
        "id": "FJMZHbiraYCN"
      },
      "execution_count": null,
      "outputs": []
    },
    {
      "cell_type": "code",
      "source": [
        "def fn_test(x, *y):\n",
        "  print('x = ', x)\n",
        "  print('y = ', y)"
      ],
      "metadata": {
        "id": "HxNCaOeafKQb"
      },
      "execution_count": null,
      "outputs": []
    },
    {
      "cell_type": "code",
      "source": [
        "# fn_test() >> TypeError 발생 - 파라미터 x에는 반드시 값을 전달해야 하기 때문\n",
        "fn_test(1) # > 가변길이 인수 y에는 값을 전달하지 않아도 됨\n",
        "fn_test(x=100)\n",
        "# fn_test(x=9, 2) >> SyntaxError(문법 오류) 발생 - keyword argument는 positional argument보다 먼저 사용될 수 없음\n",
        "# fn_test(x=1, y=(1, 2, 3, 4, 5, 6)) >> 가변길이 인수는  keyword방식으로 전달할 수 없음\n",
        "fn_test(1, 1, 2, 3, 4, 5, 6)"
      ],
      "metadata": {
        "id": "2fYKRMgIfzg-"
      },
      "execution_count": null,
      "outputs": []
    },
    {
      "cell_type": "code",
      "source": [
        "# def fn_error(*x, *y):    ## >> SyntaxError: * argument may appear only once\n",
        "#   pass"
      ],
      "metadata": {
        "id": "4jAoA6LBirv6"
      },
      "execution_count": null,
      "outputs": []
    },
    {
      "cell_type": "code",
      "source": [
        "def fn_test2(*args, x):\n",
        "  print('args = ', args)\n",
        "  print('x = ', x)"
      ],
      "metadata": {
        "id": "UOGdqLHhi-2C"
      },
      "execution_count": null,
      "outputs": []
    },
    {
      "cell_type": "code",
      "source": [
        "# fn_test2(1, 2, 3, 4, 5, 2)  >> TypeError: fn_test2() missing 1 required keyword-only argument: 'x'\n",
        "fn_test2(1, 2, 3, 4, 5, 2, x = 1)"
      ],
      "metadata": {
        "id": "oz2ikwUbjKgg"
      },
      "execution_count": null,
      "outputs": []
    },
    {
      "cell_type": "code",
      "source": [
        "print('a', 'b', 'c', sep=' : ')"
      ],
      "metadata": {
        "id": "1nPtDWkzj4qH"
      },
      "execution_count": null,
      "outputs": []
    },
    {
      "cell_type": "markdown",
      "source": [
        "## 연습문제:\n"
      ],
      "metadata": {
        "id": "DFYMcQMdkWso"
      }
    },
    {
      "cell_type": "code",
      "source": [
        "def calculate(*values, op):\n",
        "  \"\"\"\n",
        "  op가 '+'인 경우, values에 전달된 모든 숫자들의 합을 리턴\n",
        "  ex) calculate(1, 2, 3, op='+') -> 6\n",
        "  op가 '*'인 경우, values에 전달된 모든 숫자들의 곱을 리턴\n",
        "  ex) calculate(1, 2, 3, 4, op='*') -> 24\n",
        "  op가 '+'이거나 '*'가 아닌 경우에는 ValueError를 발생(raise TypeError())\n",
        "  values가 없으면 0을 리턴\n",
        "\n",
        "  \"\"\"\n",
        "  x = 0\n",
        "  y = 1\n",
        "  if op == '+':\n",
        "    for i in values:\n",
        "      x+=i\n",
        "    return x\n",
        "  elif op == '*':\n",
        "    for j in values:\n",
        "      y*=j\n",
        "    return y\n",
        "  else:\n",
        "    raise ValueError(\"op must be '+' or '*'\")\n",
        "\n",
        "\n"
      ],
      "metadata": {
        "id": "DuyPPyGtkWSc"
      },
      "execution_count": null,
      "outputs": []
    },
    {
      "cell_type": "code",
      "source": [
        "calculate(1, 3, 4, 6, 7, 8, op='+')"
      ],
      "metadata": {
        "id": "7bLJOFzXl_d0"
      },
      "execution_count": null,
      "outputs": []
    },
    {
      "cell_type": "code",
      "source": [
        "calculate(1, 3, 4, 6, 7, 8, op='*')"
      ],
      "metadata": {
        "id": "RrSQN4VhmXjm"
      },
      "execution_count": null,
      "outputs": []
    },
    {
      "cell_type": "code",
      "source": [
        "calculate(1, 3, 4, 6, 7, 4, op='#')"
      ],
      "metadata": {
        "id": "gw6fAPABmYMl"
      },
      "execution_count": null,
      "outputs": []
    },
    {
      "cell_type": "code",
      "source": [
        "calculate(op='+')"
      ],
      "metadata": {
        "id": "dDOy0Iv8mafS"
      },
      "execution_count": null,
      "outputs": []
    },
    {
      "cell_type": "code",
      "source": [
        "calculate(op='*')"
      ],
      "metadata": {
        "id": "Vg6dHQ7ume1s"
      },
      "execution_count": null,
      "outputs": []
    },
    {
      "cell_type": "markdown",
      "source": [
        "# Variable-Length keyword Arguments(가변길이 키워드 인수)"
      ],
      "metadata": {
        "id": "0hNRUpjmtzDE"
      }
    },
    {
      "cell_type": "markdown",
      "source": [
        "* 함수를 선언할 때 파라미터 이름 앞에 `**`를 사용\n",
        "\n",
        "* 함수를 호출할 때는 `param1 = value1, param2 = value, ...`와 같은 형식으로 argument들을 전달함\n",
        "  * 가변길이 인수이기 때문에 전달하는 argument 개수에 제한x\n",
        "  * 키워드 인수이기 때문에 키워드(파라미터 이름)과 함께 아규먼트를 전달해야 함\n",
        "    * 키워드 이름은 자유롭게 만들 수 있음\n",
        "\n",
        "* 함수 내부에서 가변길이 키워드 인수는 dict타입 객체로 취급\n",
        "  * 파라미터 이름이 dict의 키가 되고, argument가 dict의 값이 됨\n",
        "\n",
        "* 가변길이 키워드 인수는 함수에서 오직 한 개만 선언 가능   "
      ],
      "metadata": {
        "id": "JoI_cli6uDWT"
      }
    },
    {
      "cell_type": "code",
      "source": [
        "def fn_test3(*args, **kwargs):\n",
        "  print('args = ', args)             # 가변길이 인수 -> tuple\n",
        "  print('keyword args = ', kwargs)   # 가변길이 키워드 인수 -> dict"
      ],
      "metadata": {
        "id": "2fhCaM7wvhNl"
      },
      "execution_count": null,
      "outputs": []
    },
    {
      "cell_type": "code",
      "source": [
        "fn_test3(1, 2, 'a', 'sdfsadf', 123, 4, x=1, y = 2, z = 'aaa')"
      ],
      "metadata": {
        "id": "2cblnbj2v9HU"
      },
      "execution_count": null,
      "outputs": []
    },
    {
      "cell_type": "code",
      "source": [
        "def make_student_info(stu_no, stu_name, **kwargs):\n",
        "  student = {'no': stu_no, 'name': stu_name}\n",
        "  for k, v in kwargs.items():\n",
        "    # 가변길이 키워드 argument 중에서 key가 email이거나 phone인 경우에만 dict에 추가\n",
        "    if (k == 'email') or (k == 'phone'):\n",
        "      student[k] = v\n",
        "  return student"
      ],
      "metadata": {
        "id": "eL4FOEiEw3bs"
      },
      "execution_count": null,
      "outputs": []
    },
    {
      "cell_type": "code",
      "source": [
        "make_student_info(1234, '홍길동')"
      ],
      "metadata": {
        "id": "GFRV1-rZyL4P"
      },
      "execution_count": null,
      "outputs": []
    },
    {
      "cell_type": "code",
      "source": [
        "make_student_info(2233, 'oh T', phone = '010-1234-1243', email = 'jakeoh@itwillcom', age = 16, gender = 'male')"
      ],
      "metadata": {
        "id": "paNGeCgcyi-F"
      },
      "execution_count": null,
      "outputs": []
    }
  ]
}