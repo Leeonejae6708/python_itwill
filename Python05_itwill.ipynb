{
  "nbformat": 4,
  "nbformat_minor": 0,
  "metadata": {
    "colab": {
      "provenance": [],
      "authorship_tag": "ABX9TyOhEBQrgEl09w806Uv8BmYA",
      "include_colab_link": true
    },
    "kernelspec": {
      "name": "python3",
      "display_name": "Python 3"
    },
    "language_info": {
      "name": "python"
    }
  },
  "cells": [
    {
      "cell_type": "markdown",
      "metadata": {
        "id": "view-in-github",
        "colab_type": "text"
      },
      "source": [
        "<a href=\"https://colab.research.google.com/github/Leeonejae6708/python_itwill/blob/main/Python05_itwill.ipynb\" target=\"_parent\"><img src=\"https://colab.research.google.com/assets/colab-badge.svg\" alt=\"Open In Colab\"/></a>"
      ]
    },
    {
      "cell_type": "markdown",
      "source": [
        "# for 반복문"
      ],
      "metadata": {
        "id": "d0wuIAOtKHyw"
      }
    },
    {
      "cell_type": "markdown",
      "source": [
        "## 문법\n",
        "```\n",
        "for 변수 in Iterable-type:\n",
        "  반복하여 실행 할 코드 블록\n",
        "```\n",
        "\n",
        "* Iterable-type: 반복(iteration)이 가능한 데이터 타입.\n",
        "  * str(문자열), range, list, tuple, dict 등등..\n",
        "\n",
        "* for 반복문은  iterable-type이 객체에서 원소들을 하나씩 순서대로 꺼내서 변수에 저장하고, 코드 블록을 수핻.\n",
        "\n",
        "* for 반복문은 iterable-type이 객체에서 더 이상 꺼낼 원소가 없을 때 반복을 종료."
      ],
      "metadata": {
        "id": "1ZsgS_q2KNdv"
      }
    },
    {
      "cell_type": "code",
      "execution_count": null,
      "metadata": {
        "colab": {
          "base_uri": "https://localhost:8080/"
        },
        "id": "tI72l8tX9TI1",
        "outputId": "8909822a-d441-4cf4-8f7d-3e3408b592da"
      },
      "outputs": [
        {
          "output_type": "stream",
          "name": "stdout",
          "text": [
            "안\n",
            "녕\n",
            "하\n",
            "세\n",
            "요\n",
            ".\n"
          ]
        }
      ],
      "source": [
        "for i in '안녕하세요.':\n",
        "  print(i)"
      ]
    },
    {
      "cell_type": "markdown",
      "source": [
        "## `range()`함수와 for 반복문"
      ],
      "metadata": {
        "id": "pIHdaL1TMw9J"
      }
    },
    {
      "cell_type": "code",
      "source": [
        "# range(start, stop): Iteration을 할 때마다 start <= x < stop 범위의 1씩 증가하는 정수를 생성.\n",
        "for i in range(1, 6):\n",
        "  print(i)"
      ],
      "metadata": {
        "colab": {
          "base_uri": "https://localhost:8080/"
        },
        "id": "3OIApQqXMI99",
        "outputId": "ba596075-0a45-4e5e-9dbc-2c6388f0b012"
      },
      "execution_count": null,
      "outputs": [
        {
          "output_type": "stream",
          "name": "stdout",
          "text": [
            "1\n",
            "2\n",
            "3\n",
            "4\n",
            "5\n"
          ]
        }
      ]
    },
    {
      "cell_type": "code",
      "source": [
        "# range(stop): iteration할 때 마다 0 <= x <stop 범위의 1씩 증가하는 정수를 생성함.\n",
        "for i in range(5):\n",
        "  print(i)"
      ],
      "metadata": {
        "colab": {
          "base_uri": "https://localhost:8080/"
        },
        "id": "QEySuKMaMJkT",
        "outputId": "4c548424-8453-4809-de57-12e99ddb3917"
      },
      "execution_count": null,
      "outputs": [
        {
          "output_type": "stream",
          "name": "stdout",
          "text": [
            "0\n",
            "1\n",
            "2\n",
            "3\n",
            "4\n"
          ]
        }
      ]
    },
    {
      "cell_type": "code",
      "source": [
        "# range(start, stop, step): 1) step이 양수인 경우 - iteration할 때 마다 start <= x <stop 범위의 step만큼씩 증가하는 정수를 생성함.\n",
        "\n",
        "for i in range(0, 10, 2):\n",
        "  print(i)"
      ],
      "metadata": {
        "colab": {
          "base_uri": "https://localhost:8080/"
        },
        "id": "YjUeOX9eMJ7s",
        "outputId": "78ce2945-0692-4304-8c9d-9880daca470a"
      },
      "execution_count": null,
      "outputs": [
        {
          "output_type": "stream",
          "name": "stdout",
          "text": [
            "0\n",
            "2\n",
            "4\n",
            "6\n",
            "8\n",
            "---------------\n",
            "15\n",
            "13\n",
            "11\n",
            "9\n",
            "7\n",
            "5\n",
            "3\n"
          ]
        }
      ]
    },
    {
      "cell_type": "code",
      "source": [
        "# range(start, stop, step): 2) step이 음수인 경우 - iteration할 때 마다 start >= x stop 범위의 step만큼씩 감소하는 정수를 생성함\n",
        "\n",
        "for i in range(10, 0, -2):\n",
        "  print(i)"
      ],
      "metadata": {
        "colab": {
          "base_uri": "https://localhost:8080/"
        },
        "id": "eAqY4EarMKFc",
        "outputId": "b888dc67-82d5-4a96-f286-e8e2c02edfbc"
      },
      "execution_count": null,
      "outputs": [
        {
          "output_type": "stream",
          "name": "stdout",
          "text": [
            "10\n",
            "8\n",
            "6\n",
            "4\n",
            "2\n"
          ]
        }
      ]
    },
    {
      "cell_type": "markdown",
      "source": [
        "연습문제:\n",
        "1 이상 10 미만의 홀수들을 내림차순으로 출력"
      ],
      "metadata": {
        "id": "SmrqquHIQ8LD"
      }
    },
    {
      "cell_type": "code",
      "source": [
        "for i in range(9, 0, -2):\n",
        "  print(i)"
      ],
      "metadata": {
        "colab": {
          "base_uri": "https://localhost:8080/"
        },
        "id": "wdWqoOe5MKOS",
        "outputId": "052a40bf-e432-4db7-fbf1-2be9df7c5e01"
      },
      "execution_count": null,
      "outputs": [
        {
          "output_type": "stream",
          "name": "stdout",
          "text": [
            "9\n",
            "7\n",
            "5\n",
            "3\n",
            "1\n"
          ]
        }
      ]
    },
    {
      "cell_type": "markdown",
      "source": [
        "연습문제:\n",
        "```\n",
        "*\n",
        "**\n",
        "***\n",
        "****\n",
        "*****\n",
        "```"
      ],
      "metadata": {
        "id": "FQt3VpGxRlxj"
      }
    },
    {
      "cell_type": "code",
      "source": [
        "for i in range(1,6):\n",
        "  print('*' * i)"
      ],
      "metadata": {
        "colab": {
          "base_uri": "https://localhost:8080/"
        },
        "id": "IK2xnybBMKXt",
        "outputId": "e1ab0cf9-713e-45c5-e781-a89414dffe23"
      },
      "execution_count": null,
      "outputs": [
        {
          "output_type": "stream",
          "name": "stdout",
          "text": [
            "*\n",
            "**\n",
            "***\n",
            "****\n",
            "*****\n"
          ]
        }
      ]
    },
    {
      "cell_type": "code",
      "source": [
        "# 반대로!\n",
        "for i in range(5, 0, -1):\n",
        "  print('*' * i)"
      ],
      "metadata": {
        "colab": {
          "base_uri": "https://localhost:8080/"
        },
        "id": "msMZI9NsMKht",
        "outputId": "27a22579-d90b-4f53-e009-ddcf11497515"
      },
      "execution_count": null,
      "outputs": [
        {
          "output_type": "stream",
          "name": "stdout",
          "text": [
            "*****\n",
            "****\n",
            "***\n",
            "**\n",
            "*\n"
          ]
        }
      ]
    },
    {
      "cell_type": "markdown",
      "source": [
        "## 중첩 for문"
      ],
      "metadata": {
        "id": "_3ZAuuBeW-49"
      }
    },
    {
      "cell_type": "code",
      "source": [
        "for i in range(1, 10):\n",
        "  print(f'----{i}단----')\n",
        "  for j in range(1, 10):\n",
        "    print(f'{i} X {j} = {i*j}')"
      ],
      "metadata": {
        "colab": {
          "base_uri": "https://localhost:8080/"
        },
        "id": "vJ9UvYsyMKrl",
        "outputId": "4027349c-3f37-4d0f-d488-f6ac915e7e35"
      },
      "execution_count": null,
      "outputs": [
        {
          "output_type": "stream",
          "name": "stdout",
          "text": [
            "----1단----\n",
            "1 X 1 = 1\n",
            "1 X 2 = 2\n",
            "1 X 3 = 3\n",
            "1 X 4 = 4\n",
            "1 X 5 = 5\n",
            "1 X 6 = 6\n",
            "1 X 7 = 7\n",
            "1 X 8 = 8\n",
            "1 X 9 = 9\n",
            "----2단----\n",
            "2 X 1 = 2\n",
            "2 X 2 = 4\n",
            "2 X 3 = 6\n",
            "2 X 4 = 8\n",
            "2 X 5 = 10\n",
            "2 X 6 = 12\n",
            "2 X 7 = 14\n",
            "2 X 8 = 16\n",
            "2 X 9 = 18\n",
            "----3단----\n",
            "3 X 1 = 3\n",
            "3 X 2 = 6\n",
            "3 X 3 = 9\n",
            "3 X 4 = 12\n",
            "3 X 5 = 15\n",
            "3 X 6 = 18\n",
            "3 X 7 = 21\n",
            "3 X 8 = 24\n",
            "3 X 9 = 27\n",
            "----4단----\n",
            "4 X 1 = 4\n",
            "4 X 2 = 8\n",
            "4 X 3 = 12\n",
            "4 X 4 = 16\n",
            "4 X 5 = 20\n",
            "4 X 6 = 24\n",
            "4 X 7 = 28\n",
            "4 X 8 = 32\n",
            "4 X 9 = 36\n",
            "----5단----\n",
            "5 X 1 = 5\n",
            "5 X 2 = 10\n",
            "5 X 3 = 15\n",
            "5 X 4 = 20\n",
            "5 X 5 = 25\n",
            "5 X 6 = 30\n",
            "5 X 7 = 35\n",
            "5 X 8 = 40\n",
            "5 X 9 = 45\n",
            "----6단----\n",
            "6 X 1 = 6\n",
            "6 X 2 = 12\n",
            "6 X 3 = 18\n",
            "6 X 4 = 24\n",
            "6 X 5 = 30\n",
            "6 X 6 = 36\n",
            "6 X 7 = 42\n",
            "6 X 8 = 48\n",
            "6 X 9 = 54\n",
            "----7단----\n",
            "7 X 1 = 7\n",
            "7 X 2 = 14\n",
            "7 X 3 = 21\n",
            "7 X 4 = 28\n",
            "7 X 5 = 35\n",
            "7 X 6 = 42\n",
            "7 X 7 = 49\n",
            "7 X 8 = 56\n",
            "7 X 9 = 63\n",
            "----8단----\n",
            "8 X 1 = 8\n",
            "8 X 2 = 16\n",
            "8 X 3 = 24\n",
            "8 X 4 = 32\n",
            "8 X 5 = 40\n",
            "8 X 6 = 48\n",
            "8 X 7 = 56\n",
            "8 X 8 = 64\n",
            "8 X 9 = 72\n",
            "----9단----\n",
            "9 X 1 = 9\n",
            "9 X 2 = 18\n",
            "9 X 3 = 27\n",
            "9 X 4 = 36\n",
            "9 X 5 = 45\n",
            "9 X 6 = 54\n",
            "9 X 7 = 63\n",
            "9 X 8 = 72\n",
            "9 X 9 = 81\n"
          ]
        }
      ]
    },
    {
      "cell_type": "markdown",
      "source": [
        "## break, continue\n",
        "* `break`: 만나는 즉시 반복 종료\n",
        "* `continue`: 만나는 즉시 현재 작업을 멈추고 다음 반복을 수행"
      ],
      "metadata": {
        "id": "y6Qjz_pvY8um"
      }
    },
    {
      "cell_type": "code",
      "source": [
        "for i in range(1, 6):\n",
        "  if i == 3:\n",
        "    break\n",
        "  print(i)"
      ],
      "metadata": {
        "colab": {
          "base_uri": "https://localhost:8080/"
        },
        "id": "LDj2IvIpXq-L",
        "outputId": "b52ab03a-a932-489b-903f-ba66673fa805"
      },
      "execution_count": null,
      "outputs": [
        {
          "output_type": "stream",
          "name": "stdout",
          "text": [
            "1\n",
            "2\n"
          ]
        }
      ]
    },
    {
      "cell_type": "code",
      "source": [
        "for i in range(1, 6):\n",
        "  if i == 3:\n",
        "    continue\n",
        "  print(i)"
      ],
      "metadata": {
        "colab": {
          "base_uri": "https://localhost:8080/"
        },
        "id": "GywEB9rKZeei",
        "outputId": "fd319c0f-97c3-4986-aa32-0d38b98302be"
      },
      "execution_count": null,
      "outputs": [
        {
          "output_type": "stream",
          "name": "stdout",
          "text": [
            "1\n",
            "2\n",
            "4\n",
            "5\n"
          ]
        }
      ]
    },
    {
      "cell_type": "markdown",
      "source": [
        "구구단을 출력할 때 1단은 1X1까지 / 2단은 2X2까지 ... 9단은 9X9까지 출력\n",
        "* break문장을 사용하는 방법\n",
        "* break문장을 사용하는지 않는 방법"
      ],
      "metadata": {
        "id": "a1cGHOSTbB_W"
      }
    },
    {
      "cell_type": "code",
      "source": [
        "# 방법 1\n",
        "for i in range(1, 10):\n",
        "  print(f'----{i}단----')\n",
        "  for j in range(1, 10):\n",
        "    if j > i:\n",
        "      break\n",
        "    print(f'{i} X {j} = {i*j}')\n"
      ],
      "metadata": {
        "colab": {
          "base_uri": "https://localhost:8080/"
        },
        "id": "p9HjmjqsZnoX",
        "outputId": "eb4d3266-92d3-4876-ba3d-0e5b50205f9e"
      },
      "execution_count": null,
      "outputs": [
        {
          "output_type": "stream",
          "name": "stdout",
          "text": [
            "----1단----\n",
            "1 X 1 = 1\n",
            "----2단----\n",
            "2 X 1 = 2\n",
            "2 X 2 = 4\n",
            "----3단----\n",
            "3 X 1 = 3\n",
            "3 X 2 = 6\n",
            "3 X 3 = 9\n",
            "----4단----\n",
            "4 X 1 = 4\n",
            "4 X 2 = 8\n",
            "4 X 3 = 12\n",
            "4 X 4 = 16\n",
            "----5단----\n",
            "5 X 1 = 5\n",
            "5 X 2 = 10\n",
            "5 X 3 = 15\n",
            "5 X 4 = 20\n",
            "5 X 5 = 25\n",
            "----6단----\n",
            "6 X 1 = 6\n",
            "6 X 2 = 12\n",
            "6 X 3 = 18\n",
            "6 X 4 = 24\n",
            "6 X 5 = 30\n",
            "6 X 6 = 36\n",
            "----7단----\n",
            "7 X 1 = 7\n",
            "7 X 2 = 14\n",
            "7 X 3 = 21\n",
            "7 X 4 = 28\n",
            "7 X 5 = 35\n",
            "7 X 6 = 42\n",
            "7 X 7 = 49\n",
            "----8단----\n",
            "8 X 1 = 8\n",
            "8 X 2 = 16\n",
            "8 X 3 = 24\n",
            "8 X 4 = 32\n",
            "8 X 5 = 40\n",
            "8 X 6 = 48\n",
            "8 X 7 = 56\n",
            "8 X 8 = 64\n",
            "----9단----\n",
            "9 X 1 = 9\n",
            "9 X 2 = 18\n",
            "9 X 3 = 27\n",
            "9 X 4 = 36\n",
            "9 X 5 = 45\n",
            "9 X 6 = 54\n",
            "9 X 7 = 63\n",
            "9 X 8 = 72\n",
            "9 X 9 = 81\n"
          ]
        }
      ]
    },
    {
      "cell_type": "code",
      "source": [
        "# 방법 2\n",
        "for i in range(1, 10):\n",
        "  print(f'----{i}단----')\n",
        "  for j in range(1, i+1):\n",
        "    print(f'{i} X {j} = {i*j}')"
      ],
      "metadata": {
        "colab": {
          "base_uri": "https://localhost:8080/"
        },
        "id": "_z-DfxXHbiC-",
        "outputId": "4713a0de-56d6-4fa7-c4ee-7ff2ac5dc9c8"
      },
      "execution_count": null,
      "outputs": [
        {
          "output_type": "stream",
          "name": "stdout",
          "text": [
            "----1단----\n",
            "1 X 1 = 1\n",
            "----2단----\n",
            "2 X 1 = 2\n",
            "2 X 2 = 4\n",
            "----3단----\n",
            "3 X 1 = 3\n",
            "3 X 2 = 6\n",
            "3 X 3 = 9\n",
            "----4단----\n",
            "4 X 1 = 4\n",
            "4 X 2 = 8\n",
            "4 X 3 = 12\n",
            "4 X 4 = 16\n",
            "----5단----\n",
            "5 X 1 = 5\n",
            "5 X 2 = 10\n",
            "5 X 3 = 15\n",
            "5 X 4 = 20\n",
            "5 X 5 = 25\n",
            "----6단----\n",
            "6 X 1 = 6\n",
            "6 X 2 = 12\n",
            "6 X 3 = 18\n",
            "6 X 4 = 24\n",
            "6 X 5 = 30\n",
            "6 X 6 = 36\n",
            "----7단----\n",
            "7 X 1 = 7\n",
            "7 X 2 = 14\n",
            "7 X 3 = 21\n",
            "7 X 4 = 28\n",
            "7 X 5 = 35\n",
            "7 X 6 = 42\n",
            "7 X 7 = 49\n",
            "----8단----\n",
            "8 X 1 = 8\n",
            "8 X 2 = 16\n",
            "8 X 3 = 24\n",
            "8 X 4 = 32\n",
            "8 X 5 = 40\n",
            "8 X 6 = 48\n",
            "8 X 7 = 56\n",
            "8 X 8 = 64\n",
            "----9단----\n",
            "9 X 1 = 9\n",
            "9 X 2 = 18\n",
            "9 X 3 = 27\n",
            "9 X 4 = 36\n",
            "9 X 5 = 45\n",
            "9 X 6 = 54\n",
            "9 X 7 = 63\n",
            "9 X 8 = 72\n",
            "9 X 9 = 81\n"
          ]
        }
      ]
    },
    {
      "cell_type": "markdown",
      "source": [
        "연습문제:\n",
        "1부터 10까지 정수들을 한 줄로 출력"
      ],
      "metadata": {
        "id": "A-K1TS0Hezfw"
      }
    },
    {
      "cell_type": "code",
      "source": [
        "for i in range(1, 11):\n",
        "  print(i, end=' ')"
      ],
      "metadata": {
        "colab": {
          "base_uri": "https://localhost:8080/"
        },
        "id": "RMU83w3Ye4_3",
        "outputId": "49a3e57e-12c0-4aa5-845c-3a327c37a686"
      },
      "execution_count": null,
      "outputs": [
        {
          "output_type": "stream",
          "name": "stdout",
          "text": [
            "1 2 3 4 5 6 7 8 9 10 "
          ]
        }
      ]
    },
    {
      "cell_type": "code",
      "source": [
        "## 문제 1\n",
        "i = 1\n",
        "while i <= 10:\n",
        "  if i % 3 == 0:\n",
        "    print(f'{i} little indian')\n",
        "  elif i == 10:\n",
        "    print(f'{i} little indian boys !')\n",
        "  else:\n",
        "    print(f'{i} little', end = ' ')\n",
        "  i+=1\n"
      ],
      "metadata": {
        "colab": {
          "base_uri": "https://localhost:8080/"
        },
        "id": "zQeOdrfuw4Uh",
        "outputId": "163c33d9-1572-4936-e511-a62d47ac16d5"
      },
      "execution_count": null,
      "outputs": [
        {
          "output_type": "stream",
          "name": "stdout",
          "text": [
            "1 little 2 little 3 little indian\n",
            "4 little 5 little 6 little indian\n",
            "7 little 8 little 9 little indian\n",
            "10 little indian boys !\n"
          ]
        }
      ]
    },
    {
      "cell_type": "code",
      "source": [
        "## 문제 1 (다른방식)\n",
        "for i in range(1, 11):\n",
        "  if i % 3 == 0:\n",
        "    print(f'{i} little indian')\n",
        "  elif i == 10:\n",
        "    print(f'{i} little indian boys !')\n",
        "  else:\n",
        "    print(f'{i} little', end = ' ')\n",
        "  i+=1"
      ],
      "metadata": {
        "colab": {
          "base_uri": "https://localhost:8080/"
        },
        "id": "8z50oUAp_bsk",
        "outputId": "4c867899-5e1e-4f50-ee24-67be42a393d2"
      },
      "execution_count": null,
      "outputs": [
        {
          "output_type": "stream",
          "name": "stdout",
          "text": [
            "1 little 2 little 3 little indian\n",
            "4 little 5 little 6 little indian\n",
            "7 little 8 little 9 little indian\n",
            "10 little indian boys !\n"
          ]
        }
      ]
    },
    {
      "cell_type": "code",
      "source": [
        "## 문제 2\n",
        "for i in range(1, 101):\n",
        "  if 0 < i < 10:\n",
        "    if i % 3 ==0:\n",
        "      print('*', end = ' ')\n",
        "    else:\n",
        "      print(i, end = '  ')\n",
        "  elif 20 < i < 30 or 50 < i < 60 or 80 < i <90:\n",
        "      if i % 3 == 2:\n",
        "        print('*', end = ' ')\n",
        "      else:\n",
        "        print(i, end = ' ')\n",
        "  elif 30 <= i < 40 or 60 <= i < 70 or 90 <= i < 100:\n",
        "    if i % 10 == 0:\n",
        "      print('*')\n",
        "    else:\n",
        "      print('*', end = '  ')\n",
        "  elif i % 10 == 0:\n",
        "    print(i)\n",
        "  else:                                                   #개행...\n",
        "    if i % 3 == 1:\n",
        "      print('*', end = \" \")\n",
        "    else:\n",
        "      print(i, end = \" \")"
      ],
      "metadata": {
        "colab": {
          "base_uri": "https://localhost:8080/"
        },
        "id": "iAM3YvC6w4zD",
        "outputId": "18e2acf0-dd0a-4042-eff8-43012f2eee4a"
      },
      "execution_count": null,
      "outputs": [
        {
          "output_type": "stream",
          "name": "stdout",
          "text": [
            "1  2  * 4  5  * 7  8  * 10\n",
            "11 12 * 14 15 * 17 18 * 20\n",
            "21 22 * 24 25 * 27 28 * *\n",
            "*  *  *  *  *  *  *  *  *  40\n",
            "41 42 * 44 45 * 47 48 * 50\n",
            "51 52 * 54 55 * 57 58 * *\n",
            "*  *  *  *  *  *  *  *  *  70\n",
            "71 72 * 74 75 * 77 78 * 80\n",
            "81 82 * 84 85 * 87 88 * *\n",
            "*  *  *  *  *  *  *  *  *  100\n"
          ]
        }
      ]
    },
    {
      "cell_type": "code",
      "source": [
        "## 문제 2 (다른 방식)\n",
        "for i in range(1, 101):\n",
        "  if i % 10 == 3 or i % 10 ==6 or i % 10 ==9:\n",
        "    print('*', end = \"\\t\")\n",
        "  elif 30 <= i < 40 or 90 <= i < 70 or 90 <= i < 100:\n",
        "    print('*', end = \"\\t\")\n",
        "  else:\n",
        "    print(i, end = '\\t')\n",
        "  if i % 10 == 0:\n",
        "    print()"
      ],
      "metadata": {
        "colab": {
          "base_uri": "https://localhost:8080/"
        },
        "id": "Wd31tpuIy98n",
        "outputId": "6e09237e-1200-4193-b1f3-2b96fe71c072"
      },
      "execution_count": null,
      "outputs": [
        {
          "output_type": "stream",
          "name": "stdout",
          "text": [
            "1\t2\t*\t4\t5\t*\t7\t8\t*\t10\t\n",
            "11\t12\t*\t14\t15\t*\t17\t18\t*\t20\t\n",
            "21\t22\t*\t24\t25\t*\t27\t28\t*\t*\t\n",
            "*\t*\t*\t*\t*\t*\t*\t*\t*\t40\t\n",
            "41\t42\t*\t44\t45\t*\t47\t48\t*\t50\t\n",
            "51\t52\t*\t54\t55\t*\t57\t58\t*\t60\t\n",
            "61\t62\t*\t64\t65\t*\t67\t68\t*\t70\t\n",
            "71\t72\t*\t74\t75\t*\t77\t78\t*\t80\t\n",
            "81\t82\t*\t84\t85\t*\t87\t88\t*\t*\t\n",
            "*\t*\t*\t*\t*\t*\t*\t*\t*\t100\t\n"
          ]
        }
      ]
    },
    {
      "cell_type": "code",
      "source": [
        "## 문제 2 (다른 방식)\n",
        "for i in range(1, 101):\n",
        "  i_1 = i % 10                                                                      # i_1에 i를 10으로 나눈 나머지를 저장 -> 일의 자릿수\n",
        "  i_10 = i // 10                                                                    # i_1에 i를 10으로 나눈 몫 -> 십의 자릿수\n",
        "  if i_1 == 3 or i_1 == 6 or i_1 == 9 or i_10 == 3 or i_10 == 6 or i_10 ==9:        # 일의 자릿수 또는 십의 자릿수가 3 또는 6 또는 9일때\n",
        "    print('*', end = \"\\t\")                                                          # '*' 출력\n",
        "  else:\n",
        "    print(i, end = '\\t')\n",
        "  if i % 10 == 0:\n",
        "    print()"
      ],
      "metadata": {
        "colab": {
          "base_uri": "https://localhost:8080/"
        },
        "id": "zixmYJ9ZDNRk",
        "outputId": "8a0f888e-86ea-4aff-c5d0-5fa70dddd5ac"
      },
      "execution_count": null,
      "outputs": [
        {
          "output_type": "stream",
          "name": "stdout",
          "text": [
            "1\t2\t*\t4\t5\t*\t7\t8\t*\t10\t\n",
            "11\t12\t*\t14\t15\t*\t17\t18\t*\t20\t\n",
            "21\t22\t*\t24\t25\t*\t27\t28\t*\t*\t\n",
            "*\t*\t*\t*\t*\t*\t*\t*\t*\t40\t\n",
            "41\t42\t*\t44\t45\t*\t47\t48\t*\t50\t\n",
            "51\t52\t*\t54\t55\t*\t57\t58\t*\t*\t\n",
            "*\t*\t*\t*\t*\t*\t*\t*\t*\t70\t\n",
            "71\t72\t*\t74\t75\t*\t77\t78\t*\t80\t\n",
            "81\t82\t*\t84\t85\t*\t87\t88\t*\t*\t\n",
            "*\t*\t*\t*\t*\t*\t*\t*\t*\t100\t\n"
          ]
        }
      ]
    },
    {
      "cell_type": "code",
      "source": [
        "## 문제 2 (다른 방식)\n",
        "for i in range(1, 101):\n",
        "  i_1 = i % 10                                                                          # i_1에 i를 10으로 나눈 나머지를 저장 -> 일의 자릿수\n",
        "  i_10 = i // 10                                                                        # i_1에 i를 10으로 나눈 몫 -> 십의 자릿수\n",
        "  condition1 = i_1 == 3 or i_1 == 6 or i_1 == 9                                         # 일의 자릿수가 3 또는 6 또는 9인 경우\n",
        "  condition2 = i_10 == 3 or i_10 == 6 or i_10 ==9                                       # 십의 자릿수가 3 또는 6 또는 9인 경우\n",
        "  if condition1 or condition2:\n",
        "    print('*', end = \"\\t\")                                                              # '*' 출력\n",
        "  else:\n",
        "    print(i, end = '\\t')\n",
        "  if i % 10 == 0:\n",
        "    print()"
      ],
      "metadata": {
        "colab": {
          "base_uri": "https://localhost:8080/"
        },
        "id": "cBXbUTfLE-YR",
        "outputId": "17e28e37-7290-4ae4-b7b4-c3be16b637b3"
      },
      "execution_count": null,
      "outputs": [
        {
          "output_type": "stream",
          "name": "stdout",
          "text": [
            "1\t2\t*\t4\t5\t*\t7\t8\t*\t10\t\n",
            "11\t12\t*\t14\t15\t*\t17\t18\t*\t20\t\n",
            "21\t22\t*\t24\t25\t*\t27\t28\t*\t*\t\n",
            "*\t*\t*\t*\t*\t*\t*\t*\t*\t40\t\n",
            "41\t42\t*\t44\t45\t*\t47\t48\t*\t50\t\n",
            "51\t52\t*\t54\t55\t*\t57\t58\t*\t*\t\n",
            "*\t*\t*\t*\t*\t*\t*\t*\t*\t70\t\n",
            "71\t72\t*\t74\t75\t*\t77\t78\t*\t80\t\n",
            "81\t82\t*\t84\t85\t*\t87\t88\t*\t*\t\n",
            "*\t*\t*\t*\t*\t*\t*\t*\t*\t100\t\n"
          ]
        }
      ]
    },
    {
      "cell_type": "code",
      "source": [
        "## 문제 2 (다른방식)\n",
        "for i in range(1, 101):\n",
        "  i_1 = i % 10\n",
        "  i_10 = i // 10\n",
        "  if i_1 !=0 and i_1 % 3 ==0 or i_10 != 0 and i_10 % 3 ==0:\n",
        "    print('*', end = \"\\t\")\n",
        "  else:\n",
        "    print(i, end = '\\t')\n",
        "  if i % 10 ==0:\n",
        "    print()"
      ],
      "metadata": {
        "colab": {
          "base_uri": "https://localhost:8080/"
        },
        "id": "eP2DZbf2F5s2",
        "outputId": "c428a195-ee07-491b-f446-d797cb96480b"
      },
      "execution_count": null,
      "outputs": [
        {
          "output_type": "stream",
          "name": "stdout",
          "text": [
            "1\t2\t*\t4\t5\t*\t7\t8\t*\t10\t\n",
            "11\t12\t*\t14\t15\t*\t17\t18\t*\t20\t\n",
            "21\t22\t*\t24\t25\t*\t27\t28\t*\t*\t\n",
            "*\t*\t*\t*\t*\t*\t*\t*\t*\t40\t\n",
            "41\t42\t*\t44\t45\t*\t47\t48\t*\t50\t\n",
            "51\t52\t*\t54\t55\t*\t57\t58\t*\t*\t\n",
            "*\t*\t*\t*\t*\t*\t*\t*\t*\t70\t\n",
            "71\t72\t*\t74\t75\t*\t77\t78\t*\t80\t\n",
            "81\t82\t*\t84\t85\t*\t87\t88\t*\t*\t\n",
            "*\t*\t*\t*\t*\t*\t*\t*\t*\t100\t\n"
          ]
        }
      ]
    },
    {
      "cell_type": "markdown",
      "source": [
        "`in` 연산자: 배열과 유사한 객체에 원소로 포함되는지 여부(True/False)를 알려주는 연산자"
      ],
      "metadata": {
        "id": "mXRvOrdoJDfe"
      }
    },
    {
      "cell_type": "code",
      "source": [
        "5 in range(1, 11)"
      ],
      "metadata": {
        "colab": {
          "base_uri": "https://localhost:8080/"
        },
        "id": "XH9Q72mlJOdY",
        "outputId": "c32e7e46-1971-4335-a691-83b2cbfd7ee0"
      },
      "execution_count": null,
      "outputs": [
        {
          "output_type": "execute_result",
          "data": {
            "text/plain": [
              "True"
            ]
          },
          "metadata": {},
          "execution_count": 136
        }
      ]
    },
    {
      "cell_type": "code",
      "source": [
        "11 in range(1,11)"
      ],
      "metadata": {
        "colab": {
          "base_uri": "https://localhost:8080/"
        },
        "id": "ptZkbugsJheA",
        "outputId": "9c1f1fb3-1ad6-412b-ed1e-9ba6c9946045"
      },
      "execution_count": null,
      "outputs": [
        {
          "output_type": "execute_result",
          "data": {
            "text/plain": [
              "False"
            ]
          },
          "metadata": {},
          "execution_count": 135
        }
      ]
    },
    {
      "cell_type": "code",
      "source": [
        "'h' in 'hello'"
      ],
      "metadata": {
        "colab": {
          "base_uri": "https://localhost:8080/"
        },
        "id": "_e8WiqrJJnI6",
        "outputId": "98171b5a-800d-4c39-c095-b4197cdcc30a"
      },
      "execution_count": null,
      "outputs": [
        {
          "output_type": "execute_result",
          "data": {
            "text/plain": [
              "True"
            ]
          },
          "metadata": {},
          "execution_count": 147
        }
      ]
    },
    {
      "cell_type": "code",
      "source": [
        "3 in (3, 6, 9) # tuple"
      ],
      "metadata": {
        "colab": {
          "base_uri": "https://localhost:8080/"
        },
        "id": "6y16OL-gJ9So",
        "outputId": "33133877-c47a-4bef-c44d-32b554583f98"
      },
      "execution_count": null,
      "outputs": [
        {
          "output_type": "execute_result",
          "data": {
            "text/plain": [
              "True"
            ]
          },
          "metadata": {},
          "execution_count": 148
        }
      ]
    },
    {
      "cell_type": "code",
      "source": [
        "8 in [3, 6, 9] # list"
      ],
      "metadata": {
        "colab": {
          "base_uri": "https://localhost:8080/"
        },
        "id": "a_z1Hq6PKCHn",
        "outputId": "edb483af-f3f0-4312-c664-4834cd7e988d"
      },
      "execution_count": null,
      "outputs": [
        {
          "output_type": "execute_result",
          "data": {
            "text/plain": [
              "False"
            ]
          },
          "metadata": {},
          "execution_count": 150
        }
      ]
    },
    {
      "cell_type": "code",
      "source": [
        "for n in range(1, 101):\n",
        "  n_1 = n % 10\n",
        "  n_10 = n //10\n",
        "  if n_1 in (3, 6, 9) or n_10 in (3, 6, 9):\n",
        "    print('*', end = '\\t')\n",
        "  else:\n",
        "    print(n, end = '\\t')\n",
        "  if n_1 == 0:\n",
        "    print()"
      ],
      "metadata": {
        "colab": {
          "base_uri": "https://localhost:8080/"
        },
        "id": "dyb-3yKjKMUD",
        "outputId": "8d4c6dfa-57bb-4cac-fd95-b3372ad1c01d"
      },
      "execution_count": null,
      "outputs": [
        {
          "output_type": "stream",
          "name": "stdout",
          "text": [
            "1\t2\t*\t4\t5\t*\t7\t8\t*\t10\t\n",
            "11\t12\t*\t14\t15\t*\t17\t18\t*\t20\t\n",
            "21\t22\t*\t24\t25\t*\t27\t28\t*\t*\t\n",
            "*\t*\t*\t*\t*\t*\t*\t*\t*\t40\t\n",
            "41\t42\t*\t44\t45\t*\t47\t48\t*\t50\t\n",
            "51\t52\t*\t54\t55\t*\t57\t58\t*\t*\t\n",
            "*\t*\t*\t*\t*\t*\t*\t*\t*\t70\t\n",
            "71\t72\t*\t74\t75\t*\t77\t78\t*\t80\t\n",
            "81\t82\t*\t84\t85\t*\t87\t88\t*\t*\t\n",
            "*\t*\t*\t*\t*\t*\t*\t*\t*\t100\t\n"
          ]
        }
      ]
    },
    {
      "cell_type": "code",
      "source": [
        "for n in range(1, 101):\n",
        "  n_str = str(n)\n",
        "  if '3' in n_str or '6' in n_str or '9' in n_str:\n",
        "    print('*', end = '\\t')\n",
        "  else:\n",
        "    print(n, end = '\\t')\n",
        "  if n % 10 == 0:\n",
        "    print()"
      ],
      "metadata": {
        "colab": {
          "base_uri": "https://localhost:8080/"
        },
        "id": "iGRSB49dLHP5",
        "outputId": "0cd88c06-9625-4311-fbe9-266b3f4ffd76"
      },
      "execution_count": null,
      "outputs": [
        {
          "output_type": "stream",
          "name": "stdout",
          "text": [
            "1\t2\t*\t4\t5\t*\t7\t8\t*\t10\t\n",
            "11\t12\t*\t14\t15\t*\t17\t18\t*\t20\t\n",
            "21\t22\t*\t24\t25\t*\t27\t28\t*\t*\t\n",
            "*\t*\t*\t*\t*\t*\t*\t*\t*\t40\t\n",
            "41\t42\t*\t44\t45\t*\t47\t48\t*\t50\t\n",
            "51\t52\t*\t54\t55\t*\t57\t58\t*\t*\t\n",
            "*\t*\t*\t*\t*\t*\t*\t*\t*\t70\t\n",
            "71\t72\t*\t74\t75\t*\t77\t78\t*\t80\t\n",
            "81\t82\t*\t84\t85\t*\t87\t88\t*\t*\t\n",
            "*\t*\t*\t*\t*\t*\t*\t*\t*\t100\t\n"
          ]
        }
      ]
    }
  ]
}