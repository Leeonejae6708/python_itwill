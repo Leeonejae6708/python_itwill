{
  "nbformat": 4,
  "nbformat_minor": 0,
  "metadata": {
    "colab": {
      "provenance": [],
      "authorship_tag": "ABX9TyOOLr/NRkWTY31CmHyspUjw",
      "include_colab_link": true
    },
    "kernelspec": {
      "name": "python3",
      "display_name": "Python 3"
    },
    "language_info": {
      "name": "python"
    }
  },
  "cells": [
    {
      "cell_type": "markdown",
      "metadata": {
        "id": "view-in-github",
        "colab_type": "text"
      },
      "source": [
        "<a href=\"https://colab.research.google.com/github/Leeonejae6708/python_itwill/blob/main/Python04_itwill.ipynb\" target=\"_parent\"><img src=\"https://colab.research.google.com/assets/colab-badge.svg\" alt=\"Open In Colab\"/></a>"
      ]
    },
    {
      "cell_type": "markdown",
      "source": [
        "# while 반복문"
      ],
      "metadata": {
        "id": "0W871FoFIJGL"
      }
    },
    {
      "cell_type": "markdown",
      "source": [
        "## 문법\n",
        "```\n",
        "[초기화 문장]\n",
        "while 조건식:\n",
        "  조건식이 True인 동안 반복하여 실행할 코드 블록\n",
        "  [조건식의 결과를 바꿀 수 있는 문장 - 탈출 문장]   ##[ ]는 필수 x\n",
        "```\n",
        "* 'while 조건식' 다음에는 반드시 콜론(:)을 써야 함.\n",
        "* 조건식의 결과가 True인 동안 블록 내부를 실행.\n",
        "* 조건식의 결과가 False가 되면 while문 탈출  -> 반복 멈춤"
      ],
      "metadata": {
        "id": "ss-RGRn_IcXz"
      }
    },
    {
      "cell_type": "code",
      "execution_count": null,
      "metadata": {
        "colab": {
          "base_uri": "https://localhost:8080/"
        },
        "id": "F6u0hfP6IDoL",
        "outputId": "03336dbf-5485-4190-c137-8fbb3d0f52c6"
      },
      "outputs": [
        {
          "output_type": "stream",
          "name": "stdout",
          "text": [
            "1\n",
            "2\n",
            "3\n",
            "4\n",
            "5\n"
          ]
        }
      ],
      "source": [
        "n = 1             # 초기화 문장\n",
        "while n <= 5:     # 변수 n이 5 이하인 동안에.................\n",
        "  print(n)        # n을 반복하여 출력\n",
        "  n += 1          # 탈출 문장 -> n = n + 1"
      ]
    },
    {
      "cell_type": "code",
      "source": [
        "n = 5\n",
        "while n >= 1:\n",
        "  print(n)\n",
        "  n -= 1"
      ],
      "metadata": {
        "colab": {
          "base_uri": "https://localhost:8080/"
        },
        "id": "XuCx-QzFL8RJ",
        "outputId": "224cd88e-c23e-46d4-c612-e2151b33a908"
      },
      "execution_count": null,
      "outputs": [
        {
          "output_type": "stream",
          "name": "stdout",
          "text": [
            "5\n",
            "4\n",
            "3\n",
            "2\n",
            "1\n"
          ]
        }
      ]
    },
    {
      "cell_type": "code",
      "source": [
        "i = 2\n",
        "while i <= 10:\n",
        "  print(i)\n",
        "  i+=2"
      ],
      "metadata": {
        "colab": {
          "base_uri": "https://localhost:8080/"
        },
        "id": "EOwaNtCGNP_v",
        "outputId": "1069f528-fc4d-48ee-f9f0-4bbd978ec12a"
      },
      "execution_count": null,
      "outputs": [
        {
          "output_type": "stream",
          "name": "stdout",
          "text": [
            "2\n",
            "4\n",
            "6\n",
            "8\n",
            "10\n"
          ]
        }
      ]
    },
    {
      "cell_type": "code",
      "source": [
        "i=0\n",
        "while i < 10:     # i의 값이 10 미만인 동안에\n",
        "  i+=1            # i의 값을 1씩 증가\n",
        "  if i % 2 ==0:   # 만약 i를 2로 나눈 나머지값이 0인 경우에\n",
        "    print(i)      # i 출력\n",
        "  else:           # 나눈 나머지가 0이 아닌 경우\n",
        "    continue      # skip"
      ],
      "metadata": {
        "colab": {
          "base_uri": "https://localhost:8080/"
        },
        "id": "UFdY90nDOd0r",
        "outputId": "45eac3ce-ce9c-4167-f4af-66d40d0aeb06"
      },
      "execution_count": null,
      "outputs": [
        {
          "output_type": "stream",
          "name": "stdout",
          "text": [
            "2\n",
            "4\n",
            "6\n",
            "8\n",
            "10\n"
          ]
        }
      ]
    },
    {
      "cell_type": "markdown",
      "source": [
        "## 구구단 9단 출력\n",
        "```\n",
        "9 X 1 = 9\n",
        "...\n",
        "9 X 9 = 9\n",
        "```"
      ],
      "metadata": {
        "id": "idHgnfNeT0O3"
      }
    },
    {
      "cell_type": "code",
      "source": [
        "i = 1\n",
        "while i <= 9:\n",
        "  print(f'9 X {i} = {9*i}')\n",
        "  i+=1"
      ],
      "metadata": {
        "colab": {
          "base_uri": "https://localhost:8080/"
        },
        "id": "X18u8q4LUGqT",
        "outputId": "231a1cac-4d14-4334-fb25-c6550e440f01"
      },
      "execution_count": null,
      "outputs": [
        {
          "output_type": "stream",
          "name": "stdout",
          "text": [
            "9 X 1 = 9\n",
            "9 X 2 = 18\n",
            "9 X 3 = 27\n",
            "9 X 4 = 36\n",
            "9 X 5 = 45\n",
            "9 X 6 = 54\n",
            "9 X 7 = 63\n",
            "9 X 8 = 72\n",
            "9 X 9 = 81\n"
          ]
        }
      ]
    },
    {
      "cell_type": "markdown",
      "source": [
        "## 중첩 반복문"
      ],
      "metadata": {
        "id": "f7pXPVj-VWjH"
      }
    },
    {
      "cell_type": "code",
      "source": [
        "i = 1\n",
        "j = 1\n",
        "\n",
        "while i < 10:\n",
        "  print(f'-----------{i}단-------------')\n",
        "  while j < 10:\n",
        "    print(f'{i} X {j} = {i*j}')\n",
        "    j+=1\n",
        "  i+=1\n",
        "  j=1"
      ],
      "metadata": {
        "colab": {
          "base_uri": "https://localhost:8080/"
        },
        "id": "eNH9TQPgUq1v",
        "outputId": "92f15792-6b6b-45ab-d2fc-d93cea100fa1"
      },
      "execution_count": null,
      "outputs": [
        {
          "output_type": "stream",
          "name": "stdout",
          "text": [
            "-----------1단-------------\n",
            "1 X 1 = 1\n",
            "1 X 2 = 2\n",
            "1 X 3 = 3\n",
            "1 X 4 = 4\n",
            "1 X 5 = 5\n",
            "1 X 6 = 6\n",
            "1 X 7 = 7\n",
            "1 X 8 = 8\n",
            "1 X 9 = 9\n",
            "-----------2단-------------\n",
            "2 X 1 = 2\n",
            "2 X 2 = 4\n",
            "2 X 3 = 6\n",
            "2 X 4 = 8\n",
            "2 X 5 = 10\n",
            "2 X 6 = 12\n",
            "2 X 7 = 14\n",
            "2 X 8 = 16\n",
            "2 X 9 = 18\n",
            "-----------3단-------------\n",
            "3 X 1 = 3\n",
            "3 X 2 = 6\n",
            "3 X 3 = 9\n",
            "3 X 4 = 12\n",
            "3 X 5 = 15\n",
            "3 X 6 = 18\n",
            "3 X 7 = 21\n",
            "3 X 8 = 24\n",
            "3 X 9 = 27\n",
            "-----------4단-------------\n",
            "4 X 1 = 4\n",
            "4 X 2 = 8\n",
            "4 X 3 = 12\n",
            "4 X 4 = 16\n",
            "4 X 5 = 20\n",
            "4 X 6 = 24\n",
            "4 X 7 = 28\n",
            "4 X 8 = 32\n",
            "4 X 9 = 36\n",
            "-----------5단-------------\n",
            "5 X 1 = 5\n",
            "5 X 2 = 10\n",
            "5 X 3 = 15\n",
            "5 X 4 = 20\n",
            "5 X 5 = 25\n",
            "5 X 6 = 30\n",
            "5 X 7 = 35\n",
            "5 X 8 = 40\n",
            "5 X 9 = 45\n",
            "-----------6단-------------\n",
            "6 X 1 = 6\n",
            "6 X 2 = 12\n",
            "6 X 3 = 18\n",
            "6 X 4 = 24\n",
            "6 X 5 = 30\n",
            "6 X 6 = 36\n",
            "6 X 7 = 42\n",
            "6 X 8 = 48\n",
            "6 X 9 = 54\n",
            "-----------7단-------------\n",
            "7 X 1 = 7\n",
            "7 X 2 = 14\n",
            "7 X 3 = 21\n",
            "7 X 4 = 28\n",
            "7 X 5 = 35\n",
            "7 X 6 = 42\n",
            "7 X 7 = 49\n",
            "7 X 8 = 56\n",
            "7 X 9 = 63\n",
            "-----------8단-------------\n",
            "8 X 1 = 8\n",
            "8 X 2 = 16\n",
            "8 X 3 = 24\n",
            "8 X 4 = 32\n",
            "8 X 5 = 40\n",
            "8 X 6 = 48\n",
            "8 X 7 = 56\n",
            "8 X 8 = 64\n",
            "8 X 9 = 72\n",
            "-----------9단-------------\n",
            "9 X 1 = 9\n",
            "9 X 2 = 18\n",
            "9 X 3 = 27\n",
            "9 X 4 = 36\n",
            "9 X 5 = 45\n",
            "9 X 6 = 54\n",
            "9 X 7 = 63\n",
            "9 X 8 = 72\n",
            "9 X 9 = 81\n"
          ]
        }
      ]
    },
    {
      "cell_type": "markdown",
      "source": [
        "## break, continue\n",
        " * `break`: 반복(iteration)을 종료 / break가 포함된 가장 가까운 반복문만 종료  -> 즉시 탈출\n",
        " * `continnue`: 다음 반복(iteration)을 수행 -> **continue 아래 쪽의 문장들은 건너뛰고** 다음 반복을 수행."
      ],
      "metadata": {
        "id": "rKlyJXIcXuUY"
      }
    },
    {
      "cell_type": "code",
      "source": [
        "n = 1\n",
        "while n <= 5:\n",
        "  if n == 3:  # n이 3이 되었을 때 반복문 탈출\n",
        "    break\n",
        "  print(n)\n",
        "  n+=1"
      ],
      "metadata": {
        "colab": {
          "base_uri": "https://localhost:8080/"
        },
        "id": "GS9ouZfsYmzZ",
        "outputId": "d513bd01-465d-40f5-f93e-9e8195ccb759"
      },
      "execution_count": null,
      "outputs": [
        {
          "output_type": "stream",
          "name": "stdout",
          "text": [
            "1\n",
            "2\n",
            "3\n"
          ]
        }
      ]
    },
    {
      "cell_type": "code",
      "source": [
        "n = 0\n",
        "while n < 5:\n",
        "  n+=1\n",
        "  if n == 3:  # n이 3이 되었을 때 밑의 문장들은 스킵하고 다음 반복으로\n",
        "    continue\n",
        "  print(n)"
      ],
      "metadata": {
        "colab": {
          "base_uri": "https://localhost:8080/"
        },
        "id": "xbNvos9LaGbK",
        "outputId": "b0827ecd-85a7-4e9b-d2b6-c1e6c754206d"
      },
      "execution_count": null,
      "outputs": [
        {
          "output_type": "stream",
          "name": "stdout",
          "text": [
            "1\n",
            "2\n",
            "4\n",
            "5\n"
          ]
        }
      ]
    },
    {
      "cell_type": "code",
      "source": [
        "## 문제 1\n",
        "n = 1\n",
        "while n <= 5:\n",
        "  print('*' * n)\n",
        "  n+=1"
      ],
      "metadata": {
        "id": "PH0Rhp6TeBAi",
        "colab": {
          "base_uri": "https://localhost:8080/"
        },
        "outputId": "7f016820-18c5-42ca-9872-9b90d9d4b2b0"
      },
      "execution_count": null,
      "outputs": [
        {
          "output_type": "stream",
          "name": "stdout",
          "text": [
            "*\n",
            "**\n",
            "***\n",
            "****\n",
            "*****\n"
          ]
        }
      ]
    },
    {
      "cell_type": "code",
      "source": [
        "## 문제 2\n",
        "n = 5\n",
        "while n > 0:\n",
        "  print('*' * n)\n",
        "  n-=1"
      ],
      "metadata": {
        "colab": {
          "base_uri": "https://localhost:8080/"
        },
        "id": "iBWO-0IQgYBz",
        "outputId": "bdb0a2a6-c245-4cc1-b106-b5876e1838ac"
      },
      "execution_count": null,
      "outputs": [
        {
          "output_type": "stream",
          "name": "stdout",
          "text": [
            "*****\n",
            "****\n",
            "***\n",
            "**\n",
            "*\n"
          ]
        }
      ]
    },
    {
      "cell_type": "code",
      "source": [
        "## 문제 3\n",
        "n = 1\n",
        "while n <= 5:\n",
        "  print('*' * n)\n",
        "  n+=1\n",
        "  if n==6:\n",
        "    n=5\n",
        "    while n > 0:\n",
        "      n-=1\n",
        "      print('*' * n)\n",
        "  elif n == 1:\n",
        "    break"
      ],
      "metadata": {
        "colab": {
          "base_uri": "https://localhost:8080/"
        },
        "id": "VHU4-lDRgmqy",
        "outputId": "0cabde04-c2fc-4624-e97c-ef10cfff4bb6"
      },
      "execution_count": null,
      "outputs": [
        {
          "output_type": "stream",
          "name": "stdout",
          "text": [
            "*\n",
            "**\n",
            "***\n",
            "****\n",
            "*****\n",
            "****\n",
            "***\n",
            "**\n",
            "*\n",
            "\n",
            "\n"
          ]
        }
      ]
    },
    {
      "cell_type": "code",
      "source": [
        "## 문제 3 (다른 방식)\n",
        "\n",
        "n=1\n",
        "while n <= 10:\n",
        "  if n <= 5:\n",
        "    print('*' * n)\n",
        "  else:\n",
        "    print('*' * (10-n))\n",
        "  n+=1"
      ],
      "metadata": {
        "colab": {
          "base_uri": "https://localhost:8080/"
        },
        "id": "3VacUA63Atcs",
        "outputId": "0cf7c7c3-3327-4430-8606-c827be1b833c"
      },
      "execution_count": null,
      "outputs": [
        {
          "output_type": "stream",
          "name": "stdout",
          "text": [
            "*\n",
            "**\n",
            "***\n",
            "****\n",
            "*****\n",
            "****\n",
            "***\n",
            "**\n",
            "*\n",
            "\n"
          ]
        }
      ]
    },
    {
      "cell_type": "code",
      "source": [
        "## 문제 4\n",
        "i = 2\n",
        "while i < 10:\n",
        "  print('------------------------')\n",
        "  j = 1\n",
        "  while j <= i:\n",
        "    print(f'{i} X {j} = {i*j}')\n",
        "    j+=1\n",
        "  i+=1"
      ],
      "metadata": {
        "colab": {
          "base_uri": "https://localhost:8080/"
        },
        "id": "mgiQzaajh-pL",
        "outputId": "e3d0d128-1f8e-458e-a362-fc12f03d514a"
      },
      "execution_count": null,
      "outputs": [
        {
          "output_type": "stream",
          "name": "stdout",
          "text": [
            "------------------------\n",
            "2 X 1 = 2\n",
            "2 X 2 = 4\n",
            "------------------------\n",
            "3 X 1 = 3\n",
            "3 X 2 = 6\n",
            "3 X 3 = 9\n",
            "------------------------\n",
            "4 X 1 = 4\n",
            "4 X 2 = 8\n",
            "4 X 3 = 12\n",
            "4 X 4 = 16\n",
            "------------------------\n",
            "5 X 1 = 5\n",
            "5 X 2 = 10\n",
            "5 X 3 = 15\n",
            "5 X 4 = 20\n",
            "5 X 5 = 25\n",
            "------------------------\n",
            "6 X 1 = 6\n",
            "6 X 2 = 12\n",
            "6 X 3 = 18\n",
            "6 X 4 = 24\n",
            "6 X 5 = 30\n",
            "6 X 6 = 36\n",
            "------------------------\n",
            "7 X 1 = 7\n",
            "7 X 2 = 14\n",
            "7 X 3 = 21\n",
            "7 X 4 = 28\n",
            "7 X 5 = 35\n",
            "7 X 6 = 42\n",
            "7 X 7 = 49\n",
            "------------------------\n",
            "8 X 1 = 8\n",
            "8 X 2 = 16\n",
            "8 X 3 = 24\n",
            "8 X 4 = 32\n",
            "8 X 5 = 40\n",
            "8 X 6 = 48\n",
            "8 X 7 = 56\n",
            "8 X 8 = 64\n",
            "------------------------\n",
            "9 X 1 = 9\n",
            "9 X 2 = 18\n",
            "9 X 3 = 27\n",
            "9 X 4 = 36\n",
            "9 X 5 = 45\n",
            "9 X 6 = 54\n",
            "9 X 7 = 63\n",
            "9 X 8 = 72\n",
            "9 X 9 = 81\n"
          ]
        }
      ]
    }
  ]
}