{
  "nbformat": 4,
  "nbformat_minor": 0,
  "metadata": {
    "colab": {
      "provenance": [],
      "authorship_tag": "ABX9TyOgxpvb1zC5XKBSmryM4GN1",
      "include_colab_link": true
    },
    "kernelspec": {
      "name": "python3",
      "display_name": "Python 3"
    },
    "language_info": {
      "name": "python"
    }
  },
  "cells": [
    {
      "cell_type": "markdown",
      "metadata": {
        "id": "view-in-github",
        "colab_type": "text"
      },
      "source": [
        "<a href=\"https://colab.research.google.com/github/Leeonejae6708/python_itwill/blob/main/Python14_itwill.ipynb\" target=\"_parent\"><img src=\"https://colab.research.google.com/assets/colab-badge.svg\" alt=\"Open In Colab\"/></a>"
      ]
    },
    {
      "cell_type": "markdown",
      "source": [
        "## Ex1. Score\n",
        "* 속성(attributes):\n",
        "  * 국어, 영어, 수학 점수\n",
        "  * 국어, 영어, 수학 점수의 기본값은 0\n",
        "\n",
        "\n",
        "* 기능(functionality):\n",
        " * `__str__`: `Score(korean=100, english=100, math=100)` 포맷의 문자열을 리턴\n",
        " * `__repr__`: `점수(국어=100, 영어=100, 수학=100)` 포맷의 문자열을 리턴\n",
        " * `calculate_sum`: 세 과목의 총점 리턴\n",
        " * `calculate_mean`: 세 과목의 평균 리턴"
      ],
      "metadata": {
        "id": "qqiRYWOWH5Zq"
      }
    },
    {
      "cell_type": "code",
      "execution_count": 63,
      "metadata": {
        "id": "eT-oB0uv8E0c"
      },
      "outputs": [],
      "source": [
        "class Score:\n",
        "  def __init__(self, korean = 0, english = 0, math = 0):\n",
        "    self.korean = korean\n",
        "    self.english = english\n",
        "    self.math = math\n",
        "\n",
        "  def __str__(self):\n",
        "    return f'Score(korean={self.korean}, english={self.english}, math={self.math})'\n",
        "\n",
        "  def __repr__(self):\n",
        "    return f'점수(국어 = {self.korean}, 영어 = {self.english}, 수학 = {self.math})'\n",
        "\n",
        "  def calculate_sum(self):\n",
        "    return self.korean + self.english + self.math\n",
        "\n",
        "  # def calculate_mean(self):\n",
        "  #   return (self.korean + self.english + self.math) / 3\n",
        "\n",
        "  def calculate_mean(self):\n",
        "    return self.calculate_sum() / 3"
      ]
    },
    {
      "cell_type": "code",
      "source": [
        "score = Score(100, 90, 80)       # 생성자 호출 -> 객체 생성\n",
        "print(score)\n",
        "print(repr(score))\n",
        "\n",
        "score1 = Score()\n",
        "print(score1)\n",
        "print(repr(score1))\n",
        "\n",
        "sumsum = score.calculate_sum()\n",
        "print(sumsum)\n",
        "\n",
        "avgavg = score.calculate_mean()\n",
        "print(avgavg)"
      ],
      "metadata": {
        "colab": {
          "base_uri": "https://localhost:8080/"
        },
        "id": "Bit4ucB0DxXO",
        "outputId": "c46572b5-fe1b-41e6-b3b0-8cacef7d9ab2"
      },
      "execution_count": 51,
      "outputs": [
        {
          "output_type": "stream",
          "name": "stdout",
          "text": [
            "Score(korean=100, english=90, math=80)\n",
            "점수(국어 = 100, 영어 = 90, 수학 = 80)\n",
            "Score(korean=0, english=0, math=0)\n",
            "점수(국어 = 0, 영어 = 0, 수학 = 0)\n",
            "270\n",
            "90.0\n"
          ]
        }
      ]
    },
    {
      "cell_type": "markdown",
      "source": [
        "`print(obj)` 호출하면, `object.__str__` 메서드가 리턴하는 문자열을 출력"
      ],
      "metadata": {
        "id": "qowdAK44PibR"
      }
    },
    {
      "cell_type": "code",
      "source": [
        "score1"
      ],
      "metadata": {
        "colab": {
          "base_uri": "https://localhost:8080/"
        },
        "id": "1k9ntMCOP7sH",
        "outputId": "5c580a0b-615f-49e2-bf8f-84332a394436"
      },
      "execution_count": 41,
      "outputs": [
        {
          "output_type": "execute_result",
          "data": {
            "text/plain": [
              "점수(국어 = 0, 영어 = 0, 수학 = 0)"
            ]
          },
          "metadata": {},
          "execution_count": 41
        }
      ]
    },
    {
      "cell_type": "markdown",
      "source": [
        "파이썬 노트북(*.pynb 파일)의 코드 셀은 가장 마지막 라인의 변수 혹은 식(expression)을 자동으로 출력해 주는 기능을 가지고 있음\n",
        "\n",
        "가장 마지막 라인이 객체인 경우, 그 객체의 `__repr__()` 메서드가 리턴하는 문자열을 출력"
      ],
      "metadata": {
        "id": "aUg3EsQdP-Z_"
      }
    },
    {
      "cell_type": "markdown",
      "source": [
        "## Ex2. Student\n",
        "* 속성(attributes):\n",
        "  * 학생 번호, 학생 이름, 점수(Score 객체)\n",
        "\n",
        "* 기능(functionality):\n",
        " * `__str__`: `Student(name: 홍길동, score: Score(korean=100, english=100, math=100))` 포맷의 문자열을 리\n",
        " * `__repr__`: `학생(name: 홍길동, score: 점수(국어=100, 영어=100, 수학=100))` 포맷의 문자열을 리턴\n",
        "\n",
        "* 테스트\n",
        " * Student 객체(인스턴스)를 생성.\n",
        " * Student 인스턴스를 출력.\n",
        " * 생성된 객체에서 총점, 평균을 계산하는 메서드를 호출."
      ],
      "metadata": {
        "id": "hfBmdX9hH80R"
      }
    },
    {
      "cell_type": "code",
      "source": [
        "class Student:\n",
        "  def __init__(self, st_no, name, score):\n",
        "    self.st_no = st_no\n",
        "    self.name = name\n",
        "    # self.korean = other.korean\n",
        "    # self.english = other.english\n",
        "    # self.math = other.math\n",
        "    self.score = score\n",
        "\n",
        "  def __str__(self):\n",
        "    # f'(object)' 사용하면, object.__str__ 메서드가 리턴하는 문자열로 만들어짐\n",
        "    return f'Student(no: {self.st_no}, name: {self.name}, Score: {self.score})'\n",
        "\n",
        "  def __repr__(self):\n",
        "   return f'학생(no: {self.st_no}, name: {self.name}, 점수: {self.score.__repr__()})'"
      ],
      "metadata": {
        "id": "tWZQpY8yEtM6"
      },
      "execution_count": 55,
      "outputs": []
    },
    {
      "cell_type": "code",
      "source": [
        "st = Student(1001, '오쌤', score)\n",
        "print(st)\n",
        "print(repr(st))\n",
        "\n",
        "ss = score.calculate_sum()\n",
        "print('총점:', ss)\n",
        "\n",
        "aa = score.calculate_mean()\n",
        "print('평균:', aa)"
      ],
      "metadata": {
        "colab": {
          "base_uri": "https://localhost:8080/"
        },
        "id": "8egoGW-gF28q",
        "outputId": "32935a4a-ce88-4b3b-9209-512c784c2309"
      },
      "execution_count": 59,
      "outputs": [
        {
          "output_type": "stream",
          "name": "stdout",
          "text": [
            "Student(no: 1001, name: 오쌤, Score: Score(korean=100, english=90, math=80))\n",
            "학생(no: 1001, name: 오쌤, 점수: 점수(국어 = 100, 영어 = 90, 수학 = 80))\n",
            "총점: 270\n",
            "평균: 90.0\n"
          ]
        }
      ]
    },
    {
      "cell_type": "code",
      "source": [
        "st2 = Student(1002, '홍길동', score1)\n",
        "print(st2)\n",
        "print('총점:', st2.score.calculate_sum())\n",
        "print('총점:', st2.score.calculate_mean())\n",
        "st2"
      ],
      "metadata": {
        "colab": {
          "base_uri": "https://localhost:8080/"
        },
        "id": "_LSaKw40L30M",
        "outputId": "daf7660d-f646-4e31-9ee4-b432a624fa4b"
      },
      "execution_count": 61,
      "outputs": [
        {
          "output_type": "stream",
          "name": "stdout",
          "text": [
            "Student(no: 1002, name: 홍길동, Score: Score(korean=0, english=0, math=0))\n",
            "총점: 0\n",
            "총점: 0.0\n"
          ]
        },
        {
          "output_type": "execute_result",
          "data": {
            "text/plain": [
              "학생(no: 1002, name: 홍길동, 점수: 점수(국어 = 0, 영어 = 0, 수학 = 0))"
            ]
          },
          "metadata": {},
          "execution_count": 61
        }
      ]
    },
    {
      "cell_type": "code",
      "source": [
        "st3 = Student(2001, 'Scott', Score(99, 85, 98))\n",
        "print(st3)\n",
        "print('총점:', st3.score.calculate_sum())\n",
        "print('총점:', st3.score.calculate_mean())\n",
        "st3"
      ],
      "metadata": {
        "colab": {
          "base_uri": "https://localhost:8080/"
        },
        "id": "wbGh8w9JWUue",
        "outputId": "c4bdda41-76a0-431c-b2f1-44cf2828b672"
      },
      "execution_count": 67,
      "outputs": [
        {
          "output_type": "stream",
          "name": "stdout",
          "text": [
            "Student(no: 2001, name: Scott, Score: Score(korean=99, english=85, math=98))\n",
            "총점: 282\n",
            "총점: 94.0\n"
          ]
        },
        {
          "output_type": "execute_result",
          "data": {
            "text/plain": [
              "학생(no: 2001, name: Scott, 점수: 점수(국어 = 99, 영어 = 85, 수학 = 98))"
            ]
          },
          "metadata": {},
          "execution_count": 67
        }
      ]
    }
  ]
}