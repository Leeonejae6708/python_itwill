{
  "nbformat": 4,
  "nbformat_minor": 0,
  "metadata": {
    "colab": {
      "provenance": [],
      "toc_visible": true,
      "authorship_tag": "ABX9TyN51k+6keqsyenJeDNKFHxT",
      "include_colab_link": true
    },
    "kernelspec": {
      "name": "python3",
      "display_name": "Python 3"
    },
    "language_info": {
      "name": "python"
    }
  },
  "cells": [
    {
      "cell_type": "markdown",
      "metadata": {
        "id": "view-in-github",
        "colab_type": "text"
      },
      "source": [
        "<a href=\"https://colab.research.google.com/github/Leeonejae6708/python_itwill/blob/main/Python02_itwill.ipynb\" target=\"_parent\"><img src=\"https://colab.research.google.com/assets/colab-badge.svg\" alt=\"Open In Colab\"/></a>"
      ]
    },
    {
      "cell_type": "markdown",
      "source": [
        "# 파이썬의 자료형(Python data type)"
      ],
      "metadata": {
        "id": "bmqWRSuSbima"
      }
    },
    {
      "cell_type": "markdown",
      "source": [
        "* 숫자 타입\n",
        "  * 정수형: int\n",
        "  * 실수형: float\n",
        "* 문자열 타입: str\n",
        "* 논리 타입: bool"
      ],
      "metadata": {
        "id": "md1JgblYbo6x"
      }
    },
    {
      "cell_type": "code",
      "execution_count": null,
      "metadata": {
        "colab": {
          "base_uri": "https://localhost:8080/"
        },
        "id": "epUTmuSMakVs",
        "outputId": "e71ec167-7239-43c7-d033-683ac1897e9a"
      },
      "outputs": [
        {
          "output_type": "stream",
          "name": "stdout",
          "text": [
            "123\n",
            "<class 'int'>\n"
          ]
        }
      ],
      "source": [
        "n = 123        # 변수 n에 정수 123을 저장\n",
        "print(n)       # 변수 n을 출력\n",
        "print(type(n)) # 변수 n의 타입 출력"
      ]
    },
    {
      "cell_type": "code",
      "source": [
        "pi = 3.141592   # 변수 pi에 실수 3.141592를 저장\n",
        "print(pi)       # 변수 pi를 출력\n",
        "print(type(pi)) # 변수 pi의 타입 출력"
      ],
      "metadata": {
        "colab": {
          "base_uri": "https://localhost:8080/"
        },
        "id": "D6RX8esHd_JH",
        "outputId": "187289b2-bd7d-4f31-d6d5-f740185d5b86"
      },
      "execution_count": null,
      "outputs": [
        {
          "output_type": "stream",
          "name": "stdout",
          "text": [
            "3.141592\n",
            "<class 'float'>\n"
          ]
        }
      ]
    },
    {
      "cell_type": "code",
      "source": [
        "s='안녕하세요'   # 변수 s에 문자열 '안녕하세요' 저장\n",
        "print(s)         # 변수 s를 출력\n",
        "print(type(s))   # 변수 s의 타입 출력"
      ],
      "metadata": {
        "colab": {
          "base_uri": "https://localhost:8080/"
        },
        "id": "96MSZHLbeq8X",
        "outputId": "69481ab6-4f8a-4303-e675-68f39e6b5bf4"
      },
      "execution_count": null,
      "outputs": [
        {
          "output_type": "stream",
          "name": "stdout",
          "text": [
            "안녕하세요\n",
            "<class 'str'>\n"
          ]
        }
      ]
    },
    {
      "cell_type": "markdown",
      "source": [
        "논리 타입: 참(`True`) 또는 거짓(`False`)을 저장하는 타입."
      ],
      "metadata": {
        "id": "ue-efW5rfIqj"
      }
    },
    {
      "cell_type": "code",
      "source": [
        "b1 = True   # True -> 예약어\n",
        "b2 = False  # False -> 예약어\n",
        "print(b1)\n",
        "print(type(b1))\n",
        "print(b2)\n",
        "print(type(b2))"
      ],
      "metadata": {
        "colab": {
          "base_uri": "https://localhost:8080/"
        },
        "id": "gyqG4JyGfFkY",
        "outputId": "941fceb0-8f5b-42e6-f3a8-9e4315dbcff4"
      },
      "execution_count": null,
      "outputs": [
        {
          "output_type": "stream",
          "name": "stdout",
          "text": [
            "True\n",
            "<class 'bool'>\n",
            "False\n",
            "<class 'bool'>\n"
          ]
        }
      ]
    },
    {
      "cell_type": "code",
      "source": [
        "b1 = 10 > 5\n",
        "print(b1)"
      ],
      "metadata": {
        "colab": {
          "base_uri": "https://localhost:8080/"
        },
        "id": "tkwVkgqpgVfJ",
        "outputId": "330552fe-8420-46ea-c0b9-98c40a7fe624"
      },
      "execution_count": null,
      "outputs": [
        {
          "output_type": "stream",
          "name": "stdout",
          "text": [
            "True\n"
          ]
        }
      ]
    },
    {
      "cell_type": "markdown",
      "source": [
        "## 명시적 타입 변환"
      ],
      "metadata": {
        "id": "pm6c47jlhQzM"
      }
    },
    {
      "cell_type": "markdown",
      "source": [
        "* `int(arg)`: argument로 전달된 값을 정수로 변환해주는 함수\n",
        " * 문자열 -> 정수\n",
        " * 실수 -> 정수  \n",
        "*`float(arg)`: argument로 전달된 값을 실수로 변환해주는 함수\n",
        " * 문자열 -> 실수\n",
        " * 정수 -> 실수\n",
        "*`str(arg)`: argument로 전달된 값을 문자열로 변환해주는 함수\n",
        " * 정수, 실수 등등 -> 문자열"
      ],
      "metadata": {
        "id": "TKUlq0eDhVSU"
      }
    },
    {
      "cell_type": "code",
      "source": [
        "num_str = '123'\n",
        "print(type(num_str)) # str형\n",
        "num = int(num_str)   # 문자열을 정수로 변환해서 num에 할당\n",
        "print(type(num))     # int형\n",
        "print(num, num_str)"
      ],
      "metadata": {
        "colab": {
          "base_uri": "https://localhost:8080/"
        },
        "id": "IfVTxa0DiyGE",
        "outputId": "b2069150-0527-4024-d2f3-e912eb4954f4"
      },
      "execution_count": null,
      "outputs": [
        {
          "output_type": "stream",
          "name": "stdout",
          "text": [
            "<class 'str'>\n",
            "<class 'int'>\n",
            "123 123\n"
          ]
        }
      ]
    },
    {
      "cell_type": "code",
      "source": [
        "pi_int = int(pi)\n",
        "print(pi_int)\n",
        "print(pi)\n",
        "print(type(pi_int))"
      ],
      "metadata": {
        "colab": {
          "base_uri": "https://localhost:8080/"
        },
        "id": "dfr9UQHdjxPq",
        "outputId": "fe6a8182-00f0-403a-b916-ce15a2172e8a"
      },
      "execution_count": null,
      "outputs": [
        {
          "output_type": "stream",
          "name": "stdout",
          "text": [
            "3\n",
            "3.141592\n",
            "<class 'int'>\n"
          ]
        }
      ]
    },
    {
      "cell_type": "markdown",
      "source": [
        "# 연산자(Operator)"
      ],
      "metadata": {
        "id": "g2ZOYiNIpT6f"
      }
    },
    {
      "cell_type": "markdown",
      "source": [
        "## 할당연산자(assignment operator)\n",
        "* `=`: 오른쪽의 값을 왼쪽 변수에 할당하는 용도\n"
      ],
      "metadata": {
        "id": "88kgtkUXpYrX"
      }
    },
    {
      "cell_type": "markdown",
      "source": [
        "## 산술 연산자(arithmetic operator)\n",
        "- 일반적으로 숫자타입(int, float)의 값에서 사용 가능.\n",
        "\n",
        " -> 일부 산술 연산자는 문자열과 같은 타입에서도 사용 가능.\n",
        "* `+`: 더하기\n",
        "* `-`: 빼기\n",
        "* `*`: 곱하기\n",
        "* `**`: 거듭제곱\n",
        "* `/`: 나누기(실수형태로 출력)\n",
        "* `//`: 나누기(정수형태로 출력 - 몫만출력)\n",
        "* `%`: 모듈러연산(나누고 나머지값 출력)"
      ],
      "metadata": {
        "id": "gF-lMl1nqFDP"
      }
    },
    {
      "cell_type": "code",
      "source": [
        "x, y = 10, 3\n",
        "print(f'{x} + {y} = {x+y}')\n",
        "print(f'{x} - {y} = {x-y}')\n",
        "print(f'{x} x {y} = {x*y}')\n",
        "print(f'{x}의 {y}제곱 = {x**y}')\n",
        "print(f'{x} / {y} = {x/y}')\n",
        "print(f'{x}을 {y}로 나눈 몫 = {x//y}')\n",
        "print(f'{x}을 {y}로 나눈 나머지값 = {x%y}')"
      ],
      "metadata": {
        "colab": {
          "base_uri": "https://localhost:8080/"
        },
        "id": "k2p_kQrikjRX",
        "outputId": "9e5086e8-cd53-4c32-97fa-2db0e1a9f76c"
      },
      "execution_count": null,
      "outputs": [
        {
          "output_type": "stream",
          "name": "stdout",
          "text": [
            "10 + 3 = 13\n",
            "10 - 3 = 7\n",
            "10 x 3 = 30\n",
            "10의 3제곱 = 1000\n",
            "10 / 3 = 3.3333333333333335\n",
            "10을 3로 나눈 몫 = 3\n",
            "10을 3로 나눈 나머지값 = 1\n"
          ]
        }
      ]
    },
    {
      "cell_type": "markdown",
      "source": [
        "문자열에서 사용할 수 있는 산술연산자\n",
        "* `+`: 두 문자열을 붙여서 출력(concat)\n",
        "* `*`: 문자열은 n번 연속해서 출력(replicate)"
      ],
      "metadata": {
        "id": "kv_9tPltt9DI"
      }
    },
    {
      "cell_type": "code",
      "source": [
        "'Hello' + 'Python' # 문자열 + 문자열"
      ],
      "metadata": {
        "colab": {
          "base_uri": "https://localhost:8080/",
          "height": 35
        },
        "id": "nZ8Tu11Xt8D5",
        "outputId": "0df99f6f-6b52-4724-8281-15ab5051dc2c"
      },
      "execution_count": null,
      "outputs": [
        {
          "output_type": "execute_result",
          "data": {
            "text/plain": [
              "'HelloPython'"
            ],
            "application/vnd.google.colaboratory.intrinsic+json": {
              "type": "string"
            }
          },
          "metadata": {},
          "execution_count": 9
        }
      ]
    },
    {
      "cell_type": "code",
      "source": [
        "'Hello'*5 # 문자열 * 정수"
      ],
      "metadata": {
        "colab": {
          "base_uri": "https://localhost:8080/",
          "height": 35
        },
        "id": "Wv8CsJfAvDdx",
        "outputId": "90524e37-89a1-4fba-e273-d480e890a6bc"
      },
      "execution_count": null,
      "outputs": [
        {
          "output_type": "execute_result",
          "data": {
            "text/plain": [
              "'HelloHelloHelloHelloHello'"
            ],
            "application/vnd.google.colaboratory.intrinsic+json": {
              "type": "string"
            }
          },
          "metadata": {},
          "execution_count": 10
        }
      ]
    },
    {
      "cell_type": "code",
      "source": [
        "'hello' + str(1123123)  # 'hello' + '1'도 같은 결과를 출력"
      ],
      "metadata": {
        "colab": {
          "base_uri": "https://localhost:8080/",
          "height": 35
        },
        "id": "eK7PhMLFvr_T",
        "outputId": "55b4963a-155b-4618-b5f2-e4292b002fba"
      },
      "execution_count": null,
      "outputs": [
        {
          "output_type": "execute_result",
          "data": {
            "text/plain": [
              "'hello1123123'"
            ],
            "application/vnd.google.colaboratory.intrinsic+json": {
              "type": "string"
            }
          },
          "metadata": {},
          "execution_count": 11
        }
      ]
    },
    {
      "cell_type": "markdown",
      "source": [
        "## 비교 연산자 , 논리 연산자\n",
        "* 비교 연산자\n",
        " * `==`: 왼쪽, 오른쪽 값이 같다.\n",
        " * '!=': 왼쪽, 오른쪽 값이 같지 않다.\n",
        " *`<`: 왼쪽값이 오른쪽 값보다 작다.\n",
        " * `<=`: 왼쪽값이 오른쪽 값보다 작거나 같다.\n",
        " *`>`: 왼쪽값이 오른쪽 값보다 크다.\n",
        " * `>=`: 왼쪽값이 오른쪽 값보다 크거나 같다.\n",
        "* 논리 연산자\n",
        " * `and`: 왼쪽, 오른쪽 모두 True\n",
        " * `or`: 왼쪽, 오른쪽 둘 중 하나 이상 True\n",
        " * `not`: True를 False, False를 True로"
      ],
      "metadata": {
        "id": "rd9TghGbwIhK"
      }
    },
    {
      "cell_type": "code",
      "source": [
        "x, y = 100, 200\n",
        "print(x==y)\n",
        "print(x!=y)\n",
        "print(x<y)\n",
        "print(x<=y)\n",
        "print(x>y)\n",
        "print(x>=y)"
      ],
      "metadata": {
        "colab": {
          "base_uri": "https://localhost:8080/"
        },
        "id": "qUiTzrmYwHuh",
        "outputId": "6805f11c-c6ea-4ab1-cd3a-585730c0ff13"
      },
      "execution_count": null,
      "outputs": [
        {
          "output_type": "stream",
          "name": "stdout",
          "text": [
            "False\n",
            "True\n",
            "True\n",
            "True\n",
            "False\n",
            "False\n"
          ]
        }
      ]
    },
    {
      "cell_type": "code",
      "source": [
        "print((x > 50) and (x < 150))  # 둘 다 참이니 True 반환\n",
        "print((x > 100) and (x < 150)) # 둘 중 하나만 참이니 False 반환\n",
        "print((x > 100) or (x < 150))  # 둘 중 하나 이상 참이니 True 반환\n",
        "print(not(x > 100))            # x>100은 거짓이니 not연산에 의해 True 반환"
      ],
      "metadata": {
        "colab": {
          "base_uri": "https://localhost:8080/"
        },
        "id": "wbeJsVVrx0hD",
        "outputId": "af9cae55-21b3-45f6-9125-300b4aa7bdab"
      },
      "execution_count": null,
      "outputs": [
        {
          "output_type": "stream",
          "name": "stdout",
          "text": [
            "True\n",
            "False\n",
            "True\n",
            "True\n"
          ]
        }
      ]
    },
    {
      "cell_type": "markdown",
      "source": [
        "## 복합 할당 연산자\n",
        " * 종류: `+=`, `-=`, `*=`, `/=`, `**=`, `//=`, `%=`\n",
        " * 산술 연산자와 할당 연산자를 합쳐서 만들어진 연산자"
      ],
      "metadata": {
        "id": "9AU152Jq3j59"
      }
    },
    {
      "cell_type": "code",
      "source": [
        "x = 10\n",
        "print(x)\n",
        "x += 1    # x = x + 1 -> (1): x +1 계산 (2): (1)의 결과를 변수 x에 할당\n",
        "print(x)\n",
        "x -= 1    # x = x - 1\n",
        "print(x)\n",
        "x *= 2    # x = x * 2\n",
        "print(x)\n",
        "x //= 2   # x = x // 2\n",
        "print(x)\n",
        "x **= 2   # x = x ** 2\n",
        "print(x)\n",
        "x /= 2    # x = x / 2\n",
        "print(x)\n",
        "x %= 2    # x = x % 2 (실수형이 나오는 이유는 실수형 % 정수형을 하였기 때문에 실수형으로 출력)\n",
        "print(x)\n",
        "print(int(x))"
      ],
      "metadata": {
        "colab": {
          "base_uri": "https://localhost:8080/"
        },
        "id": "yrjixE8J3ZiO",
        "outputId": "8ee0cda8-5d09-4b00-be6d-a2abee849fb4"
      },
      "execution_count": null,
      "outputs": [
        {
          "output_type": "stream",
          "name": "stdout",
          "text": [
            "10\n",
            "11\n",
            "10\n",
            "20\n",
            "10\n",
            "100\n",
            "50.0\n",
            "0.0\n",
            "0\n"
          ]
        }
      ]
    },
    {
      "cell_type": "markdown",
      "source": [
        "# 콘솔 입력"
      ],
      "metadata": {
        "id": "tYs87iEp6JK9"
      }
    },
    {
      "cell_type": "code",
      "source": [
        "name = input('이름을 입력하세요>>>: ')\n",
        "print(type(name))\n",
        "print(f'안녕하세요, {name}!')"
      ],
      "metadata": {
        "colab": {
          "base_uri": "https://localhost:8080/"
        },
        "id": "PEXJtB_O6ITz",
        "outputId": "88bdcdd9-6b41-4316-edab-6dfd51f92e6e"
      },
      "execution_count": null,
      "outputs": [
        {
          "output_type": "stream",
          "name": "stdout",
          "text": [
            "이름을 입력하세요>>>: 이원재\n",
            "<class 'str'>\n",
            "안녕하세요, 이원재!\n"
          ]
        }
      ]
    },
    {
      "cell_type": "markdown",
      "source": [
        "연습문제:\n",
        " * 섭씨온도를 입력받아서 화씨온도로 변환하여 출력하는 코드를 작성하시오.\n",
        " * 계산식: `화씨 = 섭씨 * 1.8 +32`"
      ],
      "metadata": {
        "id": "jv1uNZrW8qM2"
      }
    },
    {
      "cell_type": "code",
      "source": [
        "from ctypes import sizeof\n",
        "a=input('섭씨 온도를 입력하세요>>> : ')\n",
        "b=float(a) * 1.8 + 32\n",
        "print(f'화씨 온도는 {b}도 입니다.')"
      ],
      "metadata": {
        "colab": {
          "base_uri": "https://localhost:8080/"
        },
        "id": "dBDca83P826-",
        "outputId": "0b45539c-eb66-4a28-e0e1-635dff7d87c0"
      },
      "execution_count": null,
      "outputs": [
        {
          "output_type": "stream",
          "name": "stdout",
          "text": [
            "섭씨 온도를 입력하세요>>> : 22\n",
            "화씨 온도는 71.6도 입니다.\n"
          ]
        }
      ]
    }
  ]
}