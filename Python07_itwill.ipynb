{
  "nbformat": 4,
  "nbformat_minor": 0,
  "metadata": {
    "colab": {
      "provenance": [],
      "authorship_tag": "ABX9TyMR5xpofOc2MtfNijnGQEI1",
      "include_colab_link": true
    },
    "kernelspec": {
      "name": "python3",
      "display_name": "Python 3"
    },
    "language_info": {
      "name": "python"
    }
  },
  "cells": [
    {
      "cell_type": "markdown",
      "metadata": {
        "id": "view-in-github",
        "colab_type": "text"
      },
      "source": [
        "<a href=\"https://colab.research.google.com/github/Leeonejae6708/python_itwill/blob/main/Python07_itwill.ipynb\" target=\"_parent\"><img src=\"https://colab.research.google.com/assets/colab-badge.svg\" alt=\"Open In Colab\"/></a>"
      ]
    },
    {
      "cell_type": "markdown",
      "source": [
        "# tuple(튜플)"
      ],
      "metadata": {
        "id": "bIypg7R4YqT4"
      }
    },
    {
      "cell_type": "markdown",
      "source": [
        "* 초기화된 값들을 변경 X -> 비어있는 튜플을 생성하면 그 튜플에는 새로운 값 추가 불가\n",
        "* 인덱스 기반의 데이터 타입 -> 리스트와 마찬가지\n",
        "  * indexing: 해당 인덱스 위치의 값을 읽음\n",
        "  * slicing: 해당 인덱스 범위의 아이템들로 이루어진 튜플을 잘라내어 새로 생성 가능 -> 이것은 새로운 튜플을 생성하는 것이기에 가능\n",
        "* append(), pop() 등과 같은 아이템을 추가하거나 삭제하는 함수(메서드)들은 제공X  \n",
        "* 튜플은 소괄호() 사용"
      ],
      "metadata": {
        "id": "F-K8q-RHYto2"
      }
    },
    {
      "cell_type": "code",
      "execution_count": null,
      "metadata": {
        "colab": {
          "base_uri": "https://localhost:8080/"
        },
        "id": "jTSpC3G0Cfdf",
        "outputId": "dfd797d4-660d-481e-ef74-17f5640c8462"
      },
      "outputs": [
        {
          "output_type": "stream",
          "name": "stdout",
          "text": [
            "<class 'tuple'>\n",
            "(1, 2, 10, 20)\n"
          ]
        }
      ],
      "source": [
        "num = (1, 2,10, 20)\n",
        "print(type(num))\n",
        "print(num)"
      ]
    },
    {
      "cell_type": "code",
      "source": [
        "# tuple명.count(value): 튜플 안에 해당 value가 몇 개 있는지 개수를 return(반환)\n",
        "print(num.count(2))\n",
        "\n",
        "# tuple명.index(value): 튜플 안에 해당 value가 가장 처음 위치한 index를 return(반환)\n",
        "print(num.index(2))"
      ],
      "metadata": {
        "colab": {
          "base_uri": "https://localhost:8080/"
        },
        "id": "eNVZDt41a091",
        "outputId": "607f24d5-6111-4d79-8a8a-0f08a899a0ad"
      },
      "execution_count": null,
      "outputs": [
        {
          "output_type": "stream",
          "name": "stdout",
          "text": [
            "1\n",
            "1\n"
          ]
        }
      ]
    },
    {
      "cell_type": "markdown",
      "source": [
        "## indexing"
      ],
      "metadata": {
        "id": "Q4jnH94KcRew"
      }
    },
    {
      "cell_type": "code",
      "source": [
        "print(num)\n",
        "print(num[0])  # 튜플 num의 첫 번째 아이템 -> 인덱스를 표현할 때에는 반드시 대활호[] ->> 어떤 자료형에서도\n",
        "print(num[-1]) # 튜플 num의 마지막 아이템"
      ],
      "metadata": {
        "colab": {
          "base_uri": "https://localhost:8080/"
        },
        "id": "ziilQLdUcVjO",
        "outputId": "26bb0dd5-81f2-4a09-9b0a-b544e2381304"
      },
      "execution_count": null,
      "outputs": [
        {
          "output_type": "stream",
          "name": "stdout",
          "text": [
            "(1, 2, 10, 20)\n",
            "1\n",
            "20\n"
          ]
        }
      ]
    },
    {
      "cell_type": "markdown",
      "source": [
        "## slicing"
      ],
      "metadata": {
        "id": "2UTUC9VQdEUp"
      }
    },
    {
      "cell_type": "code",
      "source": [
        "print(num[:3])    # 튜플 num에서 첫 3개 원소를 잘라냄\n",
        "print(num[-3:])   # 튜플 num에서 마지막 3개 원소를 잘라냄"
      ],
      "metadata": {
        "colab": {
          "base_uri": "https://localhost:8080/"
        },
        "id": "6FNTrZN5dHRr",
        "outputId": "19112872-b32e-42d1-9844-d0dde29a8615"
      },
      "execution_count": null,
      "outputs": [
        {
          "output_type": "stream",
          "name": "stdout",
          "text": [
            "(1, 2, 10)\n",
            "(2, 10, 20)\n"
          ]
        }
      ]
    },
    {
      "cell_type": "markdown",
      "source": [
        "## decomposition(분해)"
      ],
      "metadata": {
        "id": "5jNERkVfeCEh"
      }
    },
    {
      "cell_type": "code",
      "source": [
        "integers = (1, 2, 3)\n",
        "# x = integers[0]\n",
        "# y = integers[1]\n",
        "# z = integers[2]\n",
        "\n",
        "x, y, z = integers\n",
        "print(x, y, z)"
      ],
      "metadata": {
        "colab": {
          "base_uri": "https://localhost:8080/"
        },
        "id": "ez33ao7WeKqW",
        "outputId": "26c13ab7-5ee8-4ad0-ef75-627478fce61b"
      },
      "execution_count": null,
      "outputs": [
        {
          "output_type": "stream",
          "name": "stdout",
          "text": [
            "1 2 3\n"
          ]
        }
      ]
    },
    {
      "cell_type": "code",
      "source": [
        "names = ['홍길동', '오쌤']\n",
        "# xx = names[0]\n",
        "# yy = names[1]\n",
        "\n",
        "xx, yy = names\n",
        "print(xx, yy)\n"
      ],
      "metadata": {
        "colab": {
          "base_uri": "https://localhost:8080/"
        },
        "id": "SxmPRtP7fBkF",
        "outputId": "502ae2db-c074-4cb1-e27e-6f85f934e809"
      },
      "execution_count": null,
      "outputs": [
        {
          "output_type": "stream",
          "name": "stdout",
          "text": [
            "홍길동 오쌤\n"
          ]
        }
      ]
    },
    {
      "cell_type": "markdown",
      "source": [
        "## tuple과 for 반복문"
      ],
      "metadata": {
        "id": "DZwALPvIfp7h"
      }
    },
    {
      "cell_type": "code",
      "source": [
        "for x in (1, 10, 2, -20, 100):\n",
        "  print(x)"
      ],
      "metadata": {
        "colab": {
          "base_uri": "https://localhost:8080/"
        },
        "id": "IhL3YXMvftF8",
        "outputId": "32e964e2-847b-4131-c5d3-d72425de1c93"
      },
      "execution_count": null,
      "outputs": [
        {
          "output_type": "stream",
          "name": "stdout",
          "text": [
            "1\n",
            "10\n",
            "2\n",
            "-20\n",
            "100\n"
          ]
        }
      ]
    },
    {
      "cell_type": "code",
      "source": [
        "mtrx = (\n",
        "    (1, 2, 3),\n",
        "    (4, 5, 6)\n",
        ")\n",
        "print(mtrx)         # 튜플 mtrx 출력\n",
        "print(len(mtrx))    # 튜플 mtrx의 길이 출력\n",
        "print(len(mtrx[0])) # 튜플 mtrx[0]의 길이  출력"
      ],
      "metadata": {
        "colab": {
          "base_uri": "https://localhost:8080/"
        },
        "id": "YvlQ35XKgPcA",
        "outputId": "9b230f51-98dd-44c1-e668-6b541bfba072"
      },
      "execution_count": null,
      "outputs": [
        {
          "output_type": "stream",
          "name": "stdout",
          "text": [
            "((1, 2, 3), (4, 5, 6))\n",
            "2\n",
            "3\n"
          ]
        }
      ]
    },
    {
      "cell_type": "code",
      "source": [
        "print(mtrx[0])\n",
        "print(mtrx[0][0])"
      ],
      "metadata": {
        "colab": {
          "base_uri": "https://localhost:8080/"
        },
        "id": "u-wgnmsRgsb_",
        "outputId": "9a0afca6-9372-4552-c310-d25384fa3885"
      },
      "execution_count": null,
      "outputs": [
        {
          "output_type": "stream",
          "name": "stdout",
          "text": [
            "(1, 2, 3)\n",
            "1\n"
          ]
        }
      ]
    },
    {
      "cell_type": "code",
      "source": [
        "for i in mtrx:\n",
        "  for j in i:\n",
        "    print(j, end='\\t')\n",
        "  print()"
      ],
      "metadata": {
        "colab": {
          "base_uri": "https://localhost:8080/"
        },
        "id": "UNpbkfU6g8aa",
        "outputId": "9b69f91e-cdd6-4bf4-e2d0-99b79d2f5bdf"
      },
      "execution_count": null,
      "outputs": [
        {
          "output_type": "stream",
          "name": "stdout",
          "text": [
            "1\t2\t3\t\n",
            "4\t5\t6\t\n"
          ]
        }
      ]
    }
  ]
}