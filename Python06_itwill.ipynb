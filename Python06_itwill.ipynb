{
  "nbformat": 4,
  "nbformat_minor": 0,
  "metadata": {
    "colab": {
      "provenance": [],
      "authorship_tag": "ABX9TyNkx9WOEqmtZcgEQrAUMZ9x",
      "include_colab_link": true
    },
    "kernelspec": {
      "name": "python3",
      "display_name": "Python 3"
    },
    "language_info": {
      "name": "python"
    }
  },
  "cells": [
    {
      "cell_type": "markdown",
      "metadata": {
        "id": "view-in-github",
        "colab_type": "text"
      },
      "source": [
        "<a href=\"https://colab.research.google.com/github/Leeonejae6708/python_itwill/blob/main/Python06_itwill.ipynb\" target=\"_parent\"><img src=\"https://colab.research.google.com/assets/colab-badge.svg\" alt=\"Open In Colab\"/></a>"
      ]
    },
    {
      "cell_type": "markdown",
      "source": [
        "# 리스트(List)\n",
        "* `list`: 여러 개의 값들을 하나의 변수에 저장하기 위한 데이터 타입\n",
        "* element(원소, 요소): 리스트에 저장된 각각의 값\n",
        "* index(인덱스): 리스트에서 각각의 원소들이 저장된 위치(번호)   \n",
        " * 리스트의 인덱스는 **0** 부터 시작\n",
        " * 리스트의 마지막 인덱스는 **(원소개수-1)**\n",
        " * 리스트는 원소들을 변경 가능(추가, 삭제) -> `tuple`과 다름\n",
        " * 순서 O\n",
        " * 중복 허용\n",
        " * 대괄호 [ ]로 표현"
      ],
      "metadata": {
        "id": "E7dWq5m_P843"
      }
    },
    {
      "cell_type": "code",
      "execution_count": null,
      "metadata": {
        "colab": {
          "base_uri": "https://localhost:8080/"
        },
        "id": "K2qYf2mFP3rc",
        "outputId": "d0786b56-3bfd-4585-d9fd-90c1922b0899"
      },
      "outputs": [
        {
          "output_type": "stream",
          "name": "stdout",
          "text": [
            "<class 'list'>\n",
            "[1, 2, 3, 4, 5, 6, -5, -4]\n",
            "[]\n"
          ]
        }
      ],
      "source": [
        "# 숫자를 저장하는 list\n",
        "numbers = [1, 2, 3, 4, 5, 6, -5, -4]\n",
        "num = []                      # 값 할당해주지 않으면 비어있는 리스트 생성\n",
        "print(type(numbers))\n",
        "print(numbers)\n",
        "print(num)"
      ]
    },
    {
      "cell_type": "code",
      "source": [
        "# 여러가지 타입의 원소들을 저장하는 list\n",
        "values = [1, 2, 3, 'a', 'b', 'c', True, False]\n",
        "print(values)\n",
        "for i in values:\n",
        "    print(i, type(i))                        # 각 리스트 원소들의 타입 출력\n",
        "    if type(i) == str:                       # 각 리스트 원소들의 타입이 str이면 원소 출력\n",
        "        print(i)"
      ],
      "metadata": {
        "colab": {
          "base_uri": "https://localhost:8080/"
        },
        "id": "4SZNBJFkTqg_",
        "outputId": "ec16a4f6-9acb-4928-a5ab-db215a155d78"
      },
      "execution_count": null,
      "outputs": [
        {
          "output_type": "stream",
          "name": "stdout",
          "text": [
            "[1, 2, 3, 'a', 'b', 'c', True, False]\n",
            "1 <class 'int'>\n",
            "2 <class 'int'>\n",
            "3 <class 'int'>\n",
            "a <class 'str'>\n",
            "a\n",
            "b <class 'str'>\n",
            "b\n",
            "c <class 'str'>\n",
            "c\n",
            "True <class 'bool'>\n",
            "False <class 'bool'>\n"
          ]
        }
      ]
    },
    {
      "cell_type": "markdown",
      "source": [
        "## Indexing"
      ],
      "metadata": {
        "id": "ikM27hqhULMh"
      }
    },
    {
      "cell_type": "markdown",
      "source": [
        "인덱스를 사용해서 리스트의 원소를 사용하는 방법"
      ],
      "metadata": {
        "id": "u5kPZlwZUPOx"
      }
    },
    {
      "cell_type": "code",
      "source": [
        "numbers[0] # 리스트 numbers의 첫번째 원소"
      ],
      "metadata": {
        "colab": {
          "base_uri": "https://localhost:8080/"
        },
        "id": "AybzQ6dFVibx",
        "outputId": "9fc9b48e-0485-469e-f2ab-3f07570cee3f"
      },
      "execution_count": null,
      "outputs": [
        {
          "output_type": "execute_result",
          "data": {
            "text/plain": [
              "1"
            ]
          },
          "metadata": {},
          "execution_count": 72
        }
      ]
    },
    {
      "cell_type": "code",
      "source": [
        "numbers[7] # 리스트 numbers의 마지막 원소"
      ],
      "metadata": {
        "colab": {
          "base_uri": "https://localhost:8080/"
        },
        "id": "udc131DxWOXj",
        "outputId": "3c85e83e-c874-4c4d-e7ee-c002195a63b8"
      },
      "execution_count": null,
      "outputs": [
        {
          "output_type": "execute_result",
          "data": {
            "text/plain": [
              "-4"
            ]
          },
          "metadata": {},
          "execution_count": 73
        }
      ]
    },
    {
      "cell_type": "code",
      "source": [
        "numbers[3] # 리스트 numbers에서 인덱스가 3인 원소 - > 4번째 원소"
      ],
      "metadata": {
        "colab": {
          "base_uri": "https://localhost:8080/"
        },
        "id": "9ylQ-hnQWZlN",
        "outputId": "cefc981c-112d-44e7-ffac-aae602c87702"
      },
      "execution_count": null,
      "outputs": [
        {
          "output_type": "execute_result",
          "data": {
            "text/plain": [
              "4"
            ]
          },
          "metadata": {},
          "execution_count": 74
        }
      ]
    },
    {
      "cell_type": "code",
      "source": [
        "numbers[-1]  # 리스트 numbers의 마지막 원소"
      ],
      "metadata": {
        "colab": {
          "base_uri": "https://localhost:8080/"
        },
        "id": "5pD6togAWugZ",
        "outputId": "4aa5b310-c814-4a58-b786-d93a95c53148"
      },
      "execution_count": null,
      "outputs": [
        {
          "output_type": "execute_result",
          "data": {
            "text/plain": [
              "-4"
            ]
          },
          "metadata": {},
          "execution_count": 75
        }
      ]
    },
    {
      "cell_type": "code",
      "source": [
        "numbers[-2]  # 리스트 numbers의 끝에서 두번째 원소"
      ],
      "metadata": {
        "colab": {
          "base_uri": "https://localhost:8080/"
        },
        "id": "QrtYht27XS7V",
        "outputId": "caf3639e-538d-436a-f87c-ff7d6a3fd9d6"
      },
      "execution_count": null,
      "outputs": [
        {
          "output_type": "execute_result",
          "data": {
            "text/plain": [
              "-5"
            ]
          },
          "metadata": {},
          "execution_count": 76
        }
      ]
    },
    {
      "cell_type": "markdown",
      "source": [
        "Slicing"
      ],
      "metadata": {
        "id": "NIf9gjTgcHL8"
      }
    },
    {
      "cell_type": "markdown",
      "source": [
        "`List명[start:end]`\n",
        "* list에서 index가 strat <= index < end 범위의 원소들을 잘라내는 방법\n",
        "* 시작 인덱스(start)를 생략하면 시작 인덱스는 0번 -> [0]이 default값\n",
        "* 마지막 인덱스(end)를 생략하면 리스트의 마지막 원소까지 잘라냄\n",
        "* slicing의 결과는 **새로운 리스트**를 생성 -> slicing된 새로운 리스트가 생성되는 것"
      ],
      "metadata": {
        "id": "PYoSv1SocNIT"
      }
    },
    {
      "cell_type": "code",
      "source": [
        "numbers"
      ],
      "metadata": {
        "colab": {
          "base_uri": "https://localhost:8080/"
        },
        "id": "kVLymMRyeg7q",
        "outputId": "cd6f8005-1809-499e-b7d9-62b8b4830e24"
      },
      "execution_count": null,
      "outputs": [
        {
          "output_type": "execute_result",
          "data": {
            "text/plain": [
              "[1, 2, 3, 4, 5, 6, -5, -4]"
            ]
          },
          "metadata": {},
          "execution_count": 77
        }
      ]
    },
    {
      "cell_type": "code",
      "source": [
        "numbers[1:4] # 두번째 요소[1] ~ 4번째 요소[3]까지 잘라냄"
      ],
      "metadata": {
        "colab": {
          "base_uri": "https://localhost:8080/"
        },
        "id": "ppMC1PeXcJgF",
        "outputId": "aa273b21-7b63-49bc-e924-b5ee2b94017b"
      },
      "execution_count": null,
      "outputs": [
        {
          "output_type": "execute_result",
          "data": {
            "text/plain": [
              "[2, 3, 4]"
            ]
          },
          "metadata": {},
          "execution_count": 78
        }
      ]
    },
    {
      "cell_type": "code",
      "source": [
        "numbers[:3] # 첫번째 요소[0] ~ 3번째 요소[2]까지 잘라냄"
      ],
      "metadata": {
        "colab": {
          "base_uri": "https://localhost:8080/"
        },
        "id": "NOnVRAfsd84R",
        "outputId": "4a8ac93f-5dc7-44d2-d08c-9687a6f8fe57"
      },
      "execution_count": null,
      "outputs": [
        {
          "output_type": "execute_result",
          "data": {
            "text/plain": [
              "[1, 2, 3]"
            ]
          },
          "metadata": {},
          "execution_count": 79
        }
      ]
    },
    {
      "cell_type": "code",
      "source": [
        "numbers[3:] # 네번째 요소[3] ~ 끝까지 잘라냄"
      ],
      "metadata": {
        "colab": {
          "base_uri": "https://localhost:8080/"
        },
        "id": "Z-UtPQL7eJN8",
        "outputId": "499046eb-0ae9-4a0f-a78c-137de1521641"
      },
      "execution_count": null,
      "outputs": [
        {
          "output_type": "execute_result",
          "data": {
            "text/plain": [
              "[4, 5, 6, -5, -4]"
            ]
          },
          "metadata": {},
          "execution_count": 80
        }
      ]
    },
    {
      "cell_type": "code",
      "source": [
        "numbers[:] # 첫번째 요소[0] ~ 끝까지 잘라냄 -> 리스트 전체 출력"
      ],
      "metadata": {
        "colab": {
          "base_uri": "https://localhost:8080/"
        },
        "id": "Ndpv3f2DekBf",
        "outputId": "0d41ae44-e3f3-4c0c-a0e5-dd220806e958"
      },
      "execution_count": null,
      "outputs": [
        {
          "output_type": "execute_result",
          "data": {
            "text/plain": [
              "[1, 2, 3, 4, 5, 6, -5, -4]"
            ]
          },
          "metadata": {},
          "execution_count": 81
        }
      ]
    },
    {
      "cell_type": "code",
      "source": [
        "# 리스트 numbers에서 마지막 2개 원소만 선택(slicing)\n",
        "if numbers[-2:] == numbers[6:]:\n",
        "  print(2)\n",
        "else:\n",
        "  print(1231)"
      ],
      "metadata": {
        "colab": {
          "base_uri": "https://localhost:8080/"
        },
        "id": "J7p3d1Q8fI53",
        "outputId": "7ee1e26b-117b-4d74-c8e4-afaad1337d51"
      },
      "execution_count": null,
      "outputs": [
        {
          "output_type": "stream",
          "name": "stdout",
          "text": [
            "2\n"
          ]
        }
      ]
    },
    {
      "cell_type": "code",
      "source": [
        "print(numbers[0])     # indexing: 리스트에서 해당 인덱스의 원소(값)을 가져옴\n",
        "print(numbers[0:1])   # slicing: 리스트에서 일부분을 잘라 새로운 리스트형식으로 가져옴\n",
        "numbers[0] == numbers[0:1]  # 둘은 다르기 때문에 False출력"
      ],
      "metadata": {
        "colab": {
          "base_uri": "https://localhost:8080/"
        },
        "id": "aOz0R4RUgDbq",
        "outputId": "2c638cb5-f933-42cd-e1fd-d9ba65fb4e65"
      },
      "execution_count": null,
      "outputs": [
        {
          "output_type": "stream",
          "name": "stdout",
          "text": [
            "1\n",
            "[1]\n"
          ]
        },
        {
          "output_type": "execute_result",
          "data": {
            "text/plain": [
              "False"
            ]
          },
          "metadata": {},
          "execution_count": 83
        }
      ]
    },
    {
      "cell_type": "markdown",
      "source": [
        "## 문자열(Srting): 문자들의 리스트\n",
        "\n",
        "* 문자열도 인덱스를 사용 가능\n",
        " * indexing: 해당 인덱스의 문자 1개를 선택\n",
        " * slicing:  문자열의 일부를 잘라냄\n",
        "* 문자열 리스트의 맨 마지막 요소는 \\n(null)"
      ],
      "metadata": {
        "id": "zn_Re4gXhFOe"
      }
    },
    {
      "cell_type": "code",
      "source": [
        "message = '안녕, Python'     # 문자 11개를 갖는 문자열 -> 11개의 문자들을 원소로 갖는 리스트\n",
        "print(message)\n",
        "for i in message:\n",
        "  print(i)"
      ],
      "metadata": {
        "colab": {
          "base_uri": "https://localhost:8080/"
        },
        "id": "DkjkGmTyhnWg",
        "outputId": "033b666d-4a48-4e4d-c5ef-79bb0ca06ee3"
      },
      "execution_count": null,
      "outputs": [
        {
          "output_type": "stream",
          "name": "stdout",
          "text": [
            "안녕, Python\n",
            "안\n",
            "녕\n",
            ",\n",
            " \n",
            "P\n",
            "y\n",
            "t\n",
            "h\n",
            "o\n",
            "n\n"
          ]
        }
      ]
    },
    {
      "cell_type": "code",
      "source": [
        "message[0]     # 문자열 message에서 첫번째[0] 문자를 선택"
      ],
      "metadata": {
        "colab": {
          "base_uri": "https://localhost:8080/",
          "height": 35
        },
        "id": "zwHfK1-PiLFo",
        "outputId": "84ac579a-3dfa-4b38-daf9-62f4254b57af"
      },
      "execution_count": null,
      "outputs": [
        {
          "output_type": "execute_result",
          "data": {
            "text/plain": [
              "'안'"
            ],
            "application/vnd.google.colaboratory.intrinsic+json": {
              "type": "string"
            }
          },
          "metadata": {},
          "execution_count": 85
        }
      ]
    },
    {
      "cell_type": "code",
      "source": [
        "message[-1]     # 문자열 message에서 마지막[10] 문자를 선택"
      ],
      "metadata": {
        "colab": {
          "base_uri": "https://localhost:8080/",
          "height": 35
        },
        "id": "FO1HwQsuiUg2",
        "outputId": "3f2b56f7-84e2-49e1-8c98-9ee825448869"
      },
      "execution_count": null,
      "outputs": [
        {
          "output_type": "execute_result",
          "data": {
            "text/plain": [
              "'n'"
            ],
            "application/vnd.google.colaboratory.intrinsic+json": {
              "type": "string"
            }
          },
          "metadata": {},
          "execution_count": 86
        }
      ]
    },
    {
      "cell_type": "code",
      "source": [
        "message[:2]     # 문자열 message에서 처음 두 문자를 slicing"
      ],
      "metadata": {
        "colab": {
          "base_uri": "https://localhost:8080/",
          "height": 35
        },
        "id": "6BIwIYuSidmz",
        "outputId": "95e95003-8fbe-41aa-e34b-e59c1646d144"
      },
      "execution_count": null,
      "outputs": [
        {
          "output_type": "execute_result",
          "data": {
            "text/plain": [
              "'안녕'"
            ],
            "application/vnd.google.colaboratory.intrinsic+json": {
              "type": "string"
            }
          },
          "metadata": {},
          "execution_count": 87
        }
      ]
    },
    {
      "cell_type": "code",
      "source": [
        "message[-3:]     # 문자열 message에서 마지막 세 문자를 slicing"
      ],
      "metadata": {
        "colab": {
          "base_uri": "https://localhost:8080/",
          "height": 35
        },
        "id": "_R9Tfi-Kivcy",
        "outputId": "2ab0d826-90fe-4e02-81eb-2d5ca5122115"
      },
      "execution_count": null,
      "outputs": [
        {
          "output_type": "execute_result",
          "data": {
            "text/plain": [
              "'hon'"
            ],
            "application/vnd.google.colaboratory.intrinsic+json": {
              "type": "string"
            }
          },
          "metadata": {},
          "execution_count": 88
        }
      ]
    },
    {
      "cell_type": "markdown",
      "source": [
        "## llist의 산술연산"
      ],
      "metadata": {
        "id": "fGC0ofHbjP0G"
      }
    },
    {
      "cell_type": "code",
      "source": [
        "# 문자열의 +\n",
        "'hello' + '안녕'"
      ],
      "metadata": {
        "colab": {
          "base_uri": "https://localhost:8080/",
          "height": 35
        },
        "id": "YnHHlOeGjwEB",
        "outputId": "c7f2eca7-e377-439b-dcd9-e6192b205420"
      },
      "execution_count": null,
      "outputs": [
        {
          "output_type": "execute_result",
          "data": {
            "text/plain": [
              "'hello안녕'"
            ],
            "application/vnd.google.colaboratory.intrinsic+json": {
              "type": "string"
            }
          },
          "metadata": {},
          "execution_count": 89
        }
      ]
    },
    {
      "cell_type": "code",
      "source": [
        "# list의 +\n",
        "[1, 2, 3] + [100, 200, 300]"
      ],
      "metadata": {
        "colab": {
          "base_uri": "https://localhost:8080/"
        },
        "id": "uIYM8H9ej2hp",
        "outputId": "45137f83-80d1-44ce-a14d-ea339ac4188f"
      },
      "execution_count": null,
      "outputs": [
        {
          "output_type": "execute_result",
          "data": {
            "text/plain": [
              "[1, 2, 3, 100, 200, 300]"
            ]
          },
          "metadata": {},
          "execution_count": 91
        }
      ]
    },
    {
      "cell_type": "code",
      "source": [
        "# 문자열의 *\n",
        "'안녕 ' * 5"
      ],
      "metadata": {
        "colab": {
          "base_uri": "https://localhost:8080/",
          "height": 35
        },
        "id": "-foC8ow6kEop",
        "outputId": "1997d5d1-3e48-4a25-fcfd-5baa36ff6928"
      },
      "execution_count": null,
      "outputs": [
        {
          "output_type": "execute_result",
          "data": {
            "text/plain": [
              "'안녕 안녕 안녕 안녕 안녕 '"
            ],
            "application/vnd.google.colaboratory.intrinsic+json": {
              "type": "string"
            }
          },
          "metadata": {},
          "execution_count": 1
        }
      ]
    },
    {
      "cell_type": "code",
      "source": [
        "# list의 *\n",
        "[1, 2, 3] * 5"
      ],
      "metadata": {
        "colab": {
          "base_uri": "https://localhost:8080/"
        },
        "id": "NFmKR_DakJXH",
        "outputId": "c92fbdd3-54d9-4d55-9cf5-0214e51135dc"
      },
      "execution_count": null,
      "outputs": [
        {
          "output_type": "execute_result",
          "data": {
            "text/plain": [
              "[1, 2, 3, 1, 2, 3, 1, 2, 3, 1, 2, 3, 1, 2, 3]"
            ]
          },
          "metadata": {},
          "execution_count": 93
        }
      ]
    },
    {
      "cell_type": "markdown",
      "source": [
        "# list의 기능들 - 함수(메서드)"
      ],
      "metadata": {
        "id": "6dJ2-k3pHgIo"
      }
    },
    {
      "cell_type": "markdown",
      "source": [
        "## 원소 추가"
      ],
      "metadata": {
        "id": "Cr8fIAGcHxq4"
      }
    },
    {
      "cell_type": "code",
      "source": [
        "numbers = [1, 2, 3, 4, 5]\n",
        "numbers"
      ],
      "metadata": {
        "colab": {
          "base_uri": "https://localhost:8080/"
        },
        "id": "qAUPhYJEH2kq",
        "outputId": "e00ab24a-3318-4238-e46c-e06e2f84258a"
      },
      "execution_count": null,
      "outputs": [
        {
          "output_type": "execute_result",
          "data": {
            "text/plain": [
              "[1, 2, 3, 4, 5]"
            ]
          },
          "metadata": {},
          "execution_count": 2
        }
      ]
    },
    {
      "cell_type": "code",
      "source": [
        "# list명.append(값): 리스트의 끝에 값을 추가\n",
        "numbers.append(6)\n",
        "numbers"
      ],
      "metadata": {
        "colab": {
          "base_uri": "https://localhost:8080/"
        },
        "id": "SpyRioZfIHGi",
        "outputId": "95d2ed30-fc20-48d3-d961-642d0be520b1"
      },
      "execution_count": null,
      "outputs": [
        {
          "output_type": "execute_result",
          "data": {
            "text/plain": [
              "[1, 2, 3, 4, 5, 6]"
            ]
          },
          "metadata": {},
          "execution_count": 3
        }
      ]
    },
    {
      "cell_type": "code",
      "source": [
        "# list명.insert(인덱스, 값): 리스트의 특정 인덱스 위치에 값을 추가\n",
        "numbers.insert(3, 4)\n",
        "numbers"
      ],
      "metadata": {
        "colab": {
          "base_uri": "https://localhost:8080/"
        },
        "id": "YTONjxrZJYm-",
        "outputId": "c480f6cd-2da3-4730-d3fe-1975666616cd"
      },
      "execution_count": null,
      "outputs": [
        {
          "output_type": "execute_result",
          "data": {
            "text/plain": [
              "[1, 2, 3, 4, 4, 5, 6, 7, 8, 9, 10]"
            ]
          },
          "metadata": {},
          "execution_count": 6
        }
      ]
    },
    {
      "cell_type": "code",
      "source": [
        "# list명.extend(리스트): 리스트의 끝에 리스트를 추가 -> + 연산자와 유사 (list명 + list명)\n",
        "numbers.extend([6, 7, 8])\n",
        "numbers"
      ],
      "metadata": {
        "colab": {
          "base_uri": "https://localhost:8080/"
        },
        "id": "DQ6av14zISIT",
        "outputId": "6eb04079-d5cb-4226-f6a1-1606952adc07"
      },
      "execution_count": null,
      "outputs": [
        {
          "output_type": "execute_result",
          "data": {
            "text/plain": [
              "[1, 2, 3, 4, 4, 5, 6, 7, 8]"
            ]
          },
          "metadata": {},
          "execution_count": 21
        }
      ]
    },
    {
      "cell_type": "code",
      "source": [
        "# list명.append([값, 값, ...]): 리스트의 끝에 추가할 리스트가 원소형태로 추가 -> extend()와는 다름!\n",
        "numbers.append([111, 222])\n",
        "numbers"
      ],
      "metadata": {
        "colab": {
          "base_uri": "https://localhost:8080/"
        },
        "id": "ZRkF3zwHJqlX",
        "outputId": "a55fe933-803a-4361-dfe9-805187bb9944"
      },
      "execution_count": null,
      "outputs": [
        {
          "output_type": "execute_result",
          "data": {
            "text/plain": [
              "[1, 2, 3, 4, 4, 5, 6, 7, 8, [111, 222]]"
            ]
          },
          "metadata": {},
          "execution_count": 24
        }
      ]
    },
    {
      "cell_type": "markdown",
      "source": [
        "## 원소 삭제"
      ],
      "metadata": {
        "id": "8uJCkc7rNOgN"
      }
    },
    {
      "cell_type": "code",
      "source": [
        "number = [1, 2, 3, 10, 20, 30, 1, 2, 3]\n",
        "number"
      ],
      "metadata": {
        "colab": {
          "base_uri": "https://localhost:8080/"
        },
        "id": "9XcykctJNeK6",
        "outputId": "e73d8268-e999-4909-aea0-42bed5087e2e"
      },
      "execution_count": null,
      "outputs": [
        {
          "output_type": "execute_result",
          "data": {
            "text/plain": [
              "[1, 2, 3, 10, 20, 30, 1, 2, 3]"
            ]
          },
          "metadata": {},
          "execution_count": 26
        }
      ]
    },
    {
      "cell_type": "code",
      "source": [
        "# list명.pop(): list의 가장 마지막 원소 삭제\n",
        "##              -> default값이 -1이기 때문에 인덱스 값을 소괄호 안에 넣지 않으면 맨 마지막 요소를 삭제\n",
        "number.pop()\n",
        "number"
      ],
      "metadata": {
        "colab": {
          "base_uri": "https://localhost:8080/"
        },
        "id": "rA2VWw9LNhuH",
        "outputId": "650e7224-3d82-454b-ffaa-11aed0cda0ae"
      },
      "execution_count": null,
      "outputs": [
        {
          "output_type": "execute_result",
          "data": {
            "text/plain": [
              "[1, 3, 10, 20, 30, 1]"
            ]
          },
          "metadata": {},
          "execution_count": 29
        }
      ]
    },
    {
      "cell_type": "code",
      "source": [
        "# list명.pop(인덱스): list의 특정 인덱스의 원소 삭제\n",
        "number.pop(1)\n",
        "number"
      ],
      "metadata": {
        "colab": {
          "base_uri": "https://localhost:8080/"
        },
        "id": "6q6nHe5VOPR6",
        "outputId": "93a0c768-a950-4c1b-afde-977249ea73ba"
      },
      "execution_count": null,
      "outputs": [
        {
          "output_type": "execute_result",
          "data": {
            "text/plain": [
              "[1, 3, 10, 20, 30, 1, 2]"
            ]
          },
          "metadata": {},
          "execution_count": 28
        }
      ]
    },
    {
      "cell_type": "code",
      "source": [
        "# list명.remove(value): list에서 처음 만나는 특정 값을 삭제\n",
        "number.remove(1)\n",
        "number"
      ],
      "metadata": {
        "colab": {
          "base_uri": "https://localhost:8080/"
        },
        "id": "eOoJgtIqOeRu",
        "outputId": "1a147687-ea99-4a10-ccb1-392462e5a5b5"
      },
      "execution_count": null,
      "outputs": [
        {
          "output_type": "execute_result",
          "data": {
            "text/plain": [
              "[3, 10, 20, 30, 1]"
            ]
          },
          "metadata": {},
          "execution_count": 31
        }
      ]
    },
    {
      "cell_type": "code",
      "source": [
        "# list명.clear(): list의 모든 원소 삭제\n",
        "number.clear()\n",
        "number"
      ],
      "metadata": {
        "colab": {
          "base_uri": "https://localhost:8080/"
        },
        "id": "XAsrMd21PoTQ",
        "outputId": "eac7e735-6b93-47c3-ab5b-f39b8c0e3d3e"
      },
      "execution_count": null,
      "outputs": [
        {
          "output_type": "execute_result",
          "data": {
            "text/plain": [
              "[]"
            ]
          },
          "metadata": {},
          "execution_count": 33
        }
      ]
    },
    {
      "cell_type": "markdown",
      "source": [
        "## 특정 인덱스의 원소 변경"
      ],
      "metadata": {
        "id": "VWBgkcLWVdQe"
      }
    },
    {
      "cell_type": "code",
      "source": [
        "names = ['홍길동', 'Scott', 'tiger']\n",
        "names"
      ],
      "metadata": {
        "colab": {
          "base_uri": "https://localhost:8080/"
        },
        "id": "YlOuWjq_Vca5",
        "outputId": "4377c4a8-1b72-4e53-b86e-81a4ec7fa3c9"
      },
      "execution_count": null,
      "outputs": [
        {
          "output_type": "execute_result",
          "data": {
            "text/plain": [
              "['홍길동', 'Scott', 'tiger']"
            ]
          },
          "metadata": {},
          "execution_count": 34
        }
      ]
    },
    {
      "cell_type": "code",
      "source": [
        "# list명[index] = value: list의 특정 인덱스의 원소를 value로 재할당\n",
        "names[2] = '오쌤'\n",
        "names"
      ],
      "metadata": {
        "colab": {
          "base_uri": "https://localhost:8080/"
        },
        "id": "31Pt88glV1gi",
        "outputId": "cdfb714f-b6ba-44fd-e6b3-aa250154c481"
      },
      "execution_count": null,
      "outputs": [
        {
          "output_type": "execute_result",
          "data": {
            "text/plain": [
              "['홍길동', 'Scott', '오쌤']"
            ]
          },
          "metadata": {},
          "execution_count": 36
        }
      ]
    },
    {
      "cell_type": "markdown",
      "source": [
        "# list와 for 반복문"
      ],
      "metadata": {
        "id": "oxo84a1EWYfO"
      }
    },
    {
      "cell_type": "code",
      "source": [
        "for i in names:\n",
        "  for j in i:\n",
        "    print(j, end = '\\t')\n",
        "  print()"
      ],
      "metadata": {
        "colab": {
          "base_uri": "https://localhost:8080/"
        },
        "id": "lHGMt9d0Wcbg",
        "outputId": "a54ff290-b118-4ea9-8bde-de720b2c36f8"
      },
      "execution_count": null,
      "outputs": [
        {
          "output_type": "stream",
          "name": "stdout",
          "text": [
            "홍\t길\t동\t\n",
            "S\tc\to\tt\tt\t\n",
            "오\t쌤\t\n"
          ]
        }
      ]
    },
    {
      "cell_type": "code",
      "source": [
        "numbers = [1, 2, 3, 10, 20, 30]\n",
        "# list의 값들을 순서대로 반복:\n",
        "for x in numbers:\n",
        "  print(x)"
      ],
      "metadata": {
        "colab": {
          "base_uri": "https://localhost:8080/"
        },
        "id": "-Ivje1uSXKUJ",
        "outputId": "63f823ea-53fe-464c-e6bb-54a127686d24"
      },
      "execution_count": null,
      "outputs": [
        {
          "output_type": "stream",
          "name": "stdout",
          "text": [
            "1\n",
            "2\n",
            "3\n",
            "10\n",
            "20\n",
            "30\n"
          ]
        }
      ]
    },
    {
      "cell_type": "code",
      "source": [
        "# list의 인덱스와 아이템들을 순서대로 반복:\n",
        "for index, values in enumerate(numbers):\n",
        "  print(index, \":\" ,values)"
      ],
      "metadata": {
        "colab": {
          "base_uri": "https://localhost:8080/"
        },
        "id": "UOg3uBJPXo04",
        "outputId": "9a3642c3-f34b-4a69-d76a-10521cb22564"
      },
      "execution_count": null,
      "outputs": [
        {
          "output_type": "stream",
          "name": "stdout",
          "text": [
            "0 : 1\n",
            "1 : 2\n",
            "2 : 3\n",
            "3 : 10\n",
            "4 : 20\n",
            "5 : 30\n"
          ]
        }
      ]
    },
    {
      "cell_type": "markdown",
      "source": [
        "연습문제:\n",
        "1. 비어있는 리스트 'numbers' 생성\n",
        "2. 리스트 numbers에 10 미만의 정수 난수 10개 저장.\n",
        "3. numbers 출력\n",
        "4. numbers의 원소들 중에서 짝수들만 찾아서 새로운 리스트 'evens'를 출력\n",
        "5. numbers의 원소들 중에서 홀수들만 찾아서 새로운 리스트 'odds'를 출력"
      ],
      "metadata": {
        "id": "8iYWaDvTZB-f"
      }
    },
    {
      "cell_type": "code",
      "source": [
        "## 난수를 직접 리스트에 append하는 방식\n",
        "\n",
        "import random                                   # random 모듈의 함수를 사용하기 위해서 임포트\n",
        "\n",
        "numbers = []                                    # 비어있는 리스트 numbers 생성\n",
        "evens = []                                      # 비어있는 리스트 evens 생성\n",
        "odds = []                                       # 비어있는 리스트 odds 생성\n",
        "\n",
        "for i in range(0, 10):\n",
        "  numbers.append(random.randrange(1, 10))       # 1~9 사이의 정수인 난수를 비어있는 리스트 numbers에 차례대로 대입 -> 10번 반복\n",
        "print(numbers)                                  # 리스트 numbers 출력\n",
        "\n",
        "\n",
        "for i in numbers:\n",
        "  if i % 2 == 0:                                # numbers의 각 원소들을 2로 나눈 나머지가 0이라면 -> 짝수라면\n",
        "    evens.append(i)                             # 그 원소들을 비어있는 리스트 evens에 대입\n",
        "  else:                                         # numbers의 각 원소들을 2로 나눈 나머지가 0이 아니라면 -> 홀수라면\n",
        "    odds.append(i)                              # 그 원소들을 비어있는 리스트 odds에 대입\n",
        "\n",
        "print(evens)                                    # 리스트 evens 출력\n",
        "print(odds)                                     # 리스트 odds 출력"
      ],
      "metadata": {
        "colab": {
          "base_uri": "https://localhost:8080/"
        },
        "id": "DN0w565oZNC8",
        "outputId": "a940a6fe-34d9-4a0c-f3d0-10c924cc8a10"
      },
      "execution_count": null,
      "outputs": [
        {
          "output_type": "stream",
          "name": "stdout",
          "text": [
            "[4, 7, 1, 9, 8, 7, 4, 2, 6, 1]\n",
            "[4, 8, 4, 2, 6]\n",
            "[7, 1, 9, 7, 1]\n"
          ]
        }
      ]
    },
    {
      "cell_type": "code",
      "source": [
        "# # 난수를 변수에 저장하여 그 변수를 리스트에 append하는 방식\n",
        "\n",
        "import random                          # random 모듈의 함수를 사용하기 위해서 임포트\n",
        "\n",
        "numberss = []                          # 비어있는 리스트 numbers 생성\n",
        "evens = []                             # 비어있는 리스트 evens 생성\n",
        "odds = []                              # 비어있는 리스트 odds 생성\n",
        "\n",
        "# for _ in range(stop): range의 값들을 반복 블록에서 사용하지 않을 때, 변수이름 대신 _를 사용하기도 함.\n",
        "for _ in range(10):\n",
        "  ran = random.randrange(1, 10)        # 1~9 사이의 정수인 난수를 변수 ran에 저장\n",
        "  numberss.append(ran)                 # ran을 비어있는 리스트 numbers에 대입\n",
        "\n",
        "print('numbers:', numberss)                        # 리스트 numbers 출력\n",
        "\n",
        "\n",
        "for x in numberss:\n",
        "  if x % 2 == 0:\n",
        "    evens.append(x)\n",
        "  else:\n",
        "    odds.append(x)\n",
        "\n",
        "print('evens:',evens)\n",
        "print('odds:',odds)"
      ],
      "metadata": {
        "colab": {
          "base_uri": "https://localhost:8080/"
        },
        "id": "K2UoAZc1aQYx",
        "outputId": "6562b802-f2d8-4fcc-bff9-b3285f8d757e"
      },
      "execution_count": null,
      "outputs": [
        {
          "output_type": "stream",
          "name": "stdout",
          "text": [
            "numbers: [7, 7, 6, 3, 9, 6, 7, 9, 6, 5]\n",
            "evens: [6, 6, 6]\n",
            "odds: [7, 7, 3, 9, 7, 9, 5]\n"
          ]
        }
      ]
    },
    {
      "cell_type": "markdown",
      "source": [
        "연습문제:\n",
        "1. integers라는 이름의 빈 라스트를 생성\n",
        "2. 리스트 integers에 -10 이상 10 이하의 정수 난수 10개를 저장하고 출력\n",
        "3. is_positive 이름의 빈 리스트를 생성\n",
        "4. integers의 원소가 양수이면 true / 음수이면 false를 is_positive에 저장하고 출력"
      ],
      "metadata": {
        "id": "dUhICR0Al_Y0"
      }
    },
    {
      "cell_type": "code",
      "source": [
        "import random\n",
        "\n",
        "integers = []\n",
        "is_positive = []\n",
        "\n",
        "for _ in range(10):\n",
        "  integers.append(random.randrange(-10, 11))\n",
        "\n",
        "print(integers)\n",
        "\n",
        "for i in integers:\n",
        "  if i > 0:\n",
        "    is_positive.append('True')\n",
        "  else:\n",
        "    is_positive.append('False')\n",
        "\n",
        "print(is_positive)\n"
      ],
      "metadata": {
        "colab": {
          "base_uri": "https://localhost:8080/"
        },
        "id": "i6hr1tZli8UY",
        "outputId": "9f28bf80-7ad6-4cb7-ec34-c8fbeadc416e"
      },
      "execution_count": null,
      "outputs": [
        {
          "output_type": "stream",
          "name": "stdout",
          "text": [
            "[-4, -2, 2, -8, 3, 10, -10, -1, -7, 3]\n",
            "['False', 'False', 'True', 'False', 'True', 'True', 'False', 'False', 'False', 'True']\n"
          ]
        }
      ]
    },
    {
      "cell_type": "markdown",
      "source": [
        "## List comprehension"
      ],
      "metadata": {
        "id": "kRWhI6G-7BjE"
      }
    },
    {
      "cell_type": "code",
      "source": [
        "n = []\n",
        "for i in range(1, 11):\n",
        "  n.append(i)\n",
        "n"
      ],
      "metadata": {
        "colab": {
          "base_uri": "https://localhost:8080/"
        },
        "id": "DOOYIYwz7Mlf",
        "outputId": "c4a498bc-ca0d-4160-b68e-c95522ce12bf"
      },
      "execution_count": null,
      "outputs": [
        {
          "output_type": "execute_result",
          "data": {
            "text/plain": [
              "[1, 2, 3, 4, 5, 6, 7, 8, 9, 10]"
            ]
          },
          "metadata": {},
          "execution_count": 239
        }
      ]
    },
    {
      "cell_type": "code",
      "source": [
        "n = [x for x in range(1, 11)]"
      ],
      "metadata": {
        "colab": {
          "base_uri": "https://localhost:8080/"
        },
        "id": "p4lJE99K7ysn",
        "outputId": "7e5ffd05-b455-4714-d5af-2b21ce5888f8"
      },
      "execution_count": null,
      "outputs": [
        {
          "output_type": "execute_result",
          "data": {
            "text/plain": [
              "[1, 2, 3, 4, 5, 6, 7, 8, 9, 10]"
            ]
          },
          "metadata": {},
          "execution_count": 242
        }
      ]
    },
    {
      "cell_type": "markdown",
      "source": [
        " 연습문제:\n",
        " 1~10 까지의 정수들의 제곱을 저장하는 리스트를 만들고 출력하세요.\n",
        "\n",
        " ```\n",
        "[1. 4. 9. 16. .... 100]\n",
        " ```"
      ],
      "metadata": {
        "id": "-HoP6E9c8iy1"
      }
    },
    {
      "cell_type": "code",
      "source": [
        "n = []\n",
        "for i in range(1, 11):\n",
        "  n.append(i*i)\n",
        "\n",
        "print(n)"
      ],
      "metadata": {
        "colab": {
          "base_uri": "https://localhost:8080/"
        },
        "id": "ViImLHSr8pXX",
        "outputId": "84458bdc-0bd3-4aed-fc7a-b3a9b112bc62"
      },
      "execution_count": null,
      "outputs": [
        {
          "output_type": "stream",
          "name": "stdout",
          "text": [
            "[1, 4, 9, 16, 25, 36, 49, 64, 81, 100]\n"
          ]
        }
      ]
    },
    {
      "cell_type": "code",
      "source": [
        "n = [x**2 for x in range(1, 11)]\n",
        "n"
      ],
      "metadata": {
        "colab": {
          "base_uri": "https://localhost:8080/"
        },
        "id": "ULJ-2cG188Jo",
        "outputId": "fe923c47-0879-4449-b98e-69c535b22621"
      },
      "execution_count": null,
      "outputs": [
        {
          "output_type": "execute_result",
          "data": {
            "text/plain": [
              "[1, 4, 9, 16, 25, 36, 49, 64, 81, 100]"
            ]
          },
          "metadata": {},
          "execution_count": 246
        }
      ]
    },
    {
      "cell_type": "code",
      "source": [
        "n = [x**x for x in range(1, 11)]\n",
        "n"
      ],
      "metadata": {
        "colab": {
          "base_uri": "https://localhost:8080/"
        },
        "id": "2nPqHDKs98hH",
        "outputId": "1f8a9af0-3228-4f20-ddc6-c90f084783ed"
      },
      "execution_count": null,
      "outputs": [
        {
          "output_type": "execute_result",
          "data": {
            "text/plain": [
              "[1, 4, 27, 256, 3125, 46656, 823543, 16777216, 387420489, 10000000000]"
            ]
          },
          "metadata": {},
          "execution_count": 249
        }
      ]
    },
    {
      "cell_type": "markdown",
      "source": [
        "연습문제:\n",
        "100 미만의 정수 난수 10개를 저장하는 리스트를 만들고 출력하세요."
      ],
      "metadata": {
        "id": "ExPMK3kb-SqV"
      }
    },
    {
      "cell_type": "code",
      "source": [
        "rand_numbers = [random.randrange(0, 100) for _ in range(10)]\n",
        "rand_numbers"
      ],
      "metadata": {
        "colab": {
          "base_uri": "https://localhost:8080/"
        },
        "id": "1aEtLlTy-XL5",
        "outputId": "456f9220-4ee8-4ebb-b4f5-f8940968a994"
      },
      "execution_count": null,
      "outputs": [
        {
          "output_type": "execute_result",
          "data": {
            "text/plain": [
              "[17, 51, 34, 96, 78, 83, 16, 0, 25, 6]"
            ]
          },
          "metadata": {},
          "execution_count": 255
        }
      ]
    },
    {
      "cell_type": "markdown",
      "source": [
        "연습문제:\n",
        "rand_numbers에서 짝수들만 선택해서 새로운 리스트를 만들고 출력"
      ],
      "metadata": {
        "id": "Wgz_fVId_sa9"
      }
    },
    {
      "cell_type": "code",
      "source": [
        "rand_numbers = [random.randrange(0, 100) for _ in range(10)]\n",
        "rand_evens = [x for x in rand_numbers if x % 2 == 0]\n",
        "print(rand_numbers)\n",
        "print(rand_evens)"
      ],
      "metadata": {
        "colab": {
          "base_uri": "https://localhost:8080/"
        },
        "id": "gXRkMftE_yTA",
        "outputId": "bb924135-65c7-4535-ee24-561d9d4f77f9"
      },
      "execution_count": null,
      "outputs": [
        {
          "output_type": "stream",
          "name": "stdout",
          "text": [
            "[11, 88, 20, 5, 77, 34, 90, 59, 34, 91]\n",
            "[88, 20, 34, 90, 34]\n"
          ]
        }
      ]
    },
    {
      "cell_type": "markdown",
      "source": [
        "연습문제:\n",
        "rand_numbers에서 홀수들만 선택해서 새로운 리스트를 만들고 출력"
      ],
      "metadata": {
        "id": "Mc7uXLin_2pV"
      }
    },
    {
      "cell_type": "code",
      "source": [
        "rand_numbers = [random.randrange(0, 100) for _ in range(10)]\n",
        "rand_odds = [x for x in rand_numbers if x % 2 == 1]\n",
        "print(rand_numbers)\n",
        "print(rand_odds)"
      ],
      "metadata": {
        "colab": {
          "base_uri": "https://localhost:8080/"
        },
        "id": "q6GHUQ2f_35C",
        "outputId": "0a986ae6-d74b-4ac0-a2c7-7ad13553d547"
      },
      "execution_count": null,
      "outputs": [
        {
          "output_type": "stream",
          "name": "stdout",
          "text": [
            "[92, 16, 1, 0, 2, 39, 12, 51, 73, 34]\n",
            "[1, 39, 51, 73]\n"
          ]
        }
      ]
    },
    {
      "cell_type": "markdown",
      "source": [
        "if-else 표현식\n",
        "\n",
        "```\n",
        "값 1 if 조건식 else 값 2\n",
        "```\n",
        "\n",
        ": 조건식을 만족하면 값 1, 만족하지 않으면 값 2"
      ],
      "metadata": {
        "id": "ssTfrf55CXsu"
      }
    },
    {
      "cell_type": "code",
      "source": [
        "x = 1\n",
        "is_even = True if x % 2 == 0 else False\n",
        "is_even"
      ],
      "metadata": {
        "colab": {
          "base_uri": "https://localhost:8080/"
        },
        "id": "-OdjuSc9C0UZ",
        "outputId": "6d9e2c6e-3686-4680-e892-d88d272c42a2"
      },
      "execution_count": null,
      "outputs": [
        {
          "output_type": "execute_result",
          "data": {
            "text/plain": [
              "False"
            ]
          },
          "metadata": {},
          "execution_count": 372
        }
      ]
    },
    {
      "cell_type": "markdown",
      "source": [
        "연습문제:\n",
        "random.randrange의 값이 짝수이면 True, 홀수이면 False를 저장하는 리스트를 만들고 출력"
      ],
      "metadata": {
        "id": "2DIlkebJD2lA"
      }
    },
    {
      "cell_type": "code",
      "source": [
        "is_evens = [True if x % 2 ==0 else False for x in rand_numbers]\n",
        "is_evens"
      ],
      "metadata": {
        "colab": {
          "base_uri": "https://localhost:8080/"
        },
        "id": "o4MXXnL5DzmJ",
        "outputId": "c3ac24a5-2bfd-4bbb-ff2d-f99259dd1f3d"
      },
      "execution_count": null,
      "outputs": [
        {
          "output_type": "execute_result",
          "data": {
            "text/plain": [
              "[False, True, True, False, False, True, True, False, True, False]"
            ]
          },
          "metadata": {},
          "execution_count": 371
        }
      ]
    },
    {
      "cell_type": "markdown",
      "source": [
        "# 다차원 리스트"
      ],
      "metadata": {
        "id": "5CbSvkNcKnti"
      }
    },
    {
      "cell_type": "markdown",
      "source": [
        "다차원 리스트: 리스트들을 원소로 갖는 리스트"
      ],
      "metadata": {
        "id": "iNbGiALvLHFq"
      }
    },
    {
      "cell_type": "code",
      "source": [
        "matrix = [\n",
        "    [1, 2, 3, 4],\n",
        "    [4, 5, 6, 7],\n",
        "    [7, 8, 9, 10]\n",
        "]"
      ],
      "metadata": {
        "id": "Ig_Yj7vfLNW-"
      },
      "execution_count": null,
      "outputs": []
    },
    {
      "cell_type": "code",
      "source": [
        "print(matrix)"
      ],
      "metadata": {
        "colab": {
          "base_uri": "https://localhost:8080/"
        },
        "id": "IQJIln0iLk78",
        "outputId": "11718572-2f6a-4eb9-8a21-7177a9bccc8c"
      },
      "execution_count": null,
      "outputs": [
        {
          "output_type": "stream",
          "name": "stdout",
          "text": [
            "[[1, 2, 3, 4], [4, 5, 6, 7], [7, 8, 9, 10]]\n",
            "1\t2\t3\t4\t\n",
            "4\t5\t6\t7\t\n",
            "7\t8\t9\t10\t\n"
          ]
        }
      ]
    },
    {
      "cell_type": "code",
      "source": [
        "# len(obj): obj가 갖고 있는 아이템들의 개수를 리턴\n",
        "len(matrix)"
      ],
      "metadata": {
        "colab": {
          "base_uri": "https://localhost:8080/"
        },
        "id": "Ykq7t8_eMLkJ",
        "outputId": "a5149903-fbc1-4dbc-a791-f0756a958202"
      },
      "execution_count": null,
      "outputs": [
        {
          "output_type": "execute_result",
          "data": {
            "text/plain": [
              "3"
            ]
          },
          "metadata": {},
          "execution_count": 384
        }
      ]
    },
    {
      "cell_type": "code",
      "source": [
        "matrix[0][0]"
      ],
      "metadata": {
        "colab": {
          "base_uri": "https://localhost:8080/"
        },
        "id": "S5qAm8VaM9t-",
        "outputId": "f1b05203-a0b0-4ced-bd8c-2501a6bd9938"
      },
      "execution_count": null,
      "outputs": [
        {
          "output_type": "execute_result",
          "data": {
            "text/plain": [
              "1"
            ]
          },
          "metadata": {},
          "execution_count": 391
        }
      ]
    },
    {
      "cell_type": "markdown",
      "source": [
        "## 다차원 배열과 for 반복문"
      ],
      "metadata": {
        "id": "p03g9-2aNXMx"
      }
    },
    {
      "cell_type": "code",
      "source": [
        "for row in matrix:\n",
        "  print(row)"
      ],
      "metadata": {
        "colab": {
          "base_uri": "https://localhost:8080/"
        },
        "id": "gOT8mb4ZNWQz",
        "outputId": "9b64cdbf-5104-4ca6-e3cb-07b338677b3b"
      },
      "execution_count": null,
      "outputs": [
        {
          "output_type": "stream",
          "name": "stdout",
          "text": [
            "[1, 2, 3, 4]\n",
            "[4, 5, 6, 7]\n",
            "[7, 8, 9, 10]\n"
          ]
        }
      ]
    },
    {
      "cell_type": "code",
      "source": [
        "for i in matrix:\n",
        "  for j in i:\n",
        "    print(j, end = '\\t')\n",
        "  print()"
      ],
      "metadata": {
        "colab": {
          "base_uri": "https://localhost:8080/"
        },
        "id": "KEeNmT_RNzbA",
        "outputId": "76c49fda-c81b-4943-bb0a-ab85f5fb0ba6"
      },
      "execution_count": null,
      "outputs": [
        {
          "output_type": "stream",
          "name": "stdout",
          "text": [
            "1\t2\t3\t4\t\n",
            "4\t5\t6\t7\t\n",
            "7\t8\t9\t10\t\n"
          ]
        }
      ]
    },
    {
      "cell_type": "markdown",
      "source": [
        "## `zip()` 함수와 for 반목문"
      ],
      "metadata": {
        "id": "GkVWr4d-PdEb"
      }
    },
    {
      "cell_type": "code",
      "source": [
        "numbers1 = [1, 2, 3, 4, 5]\n",
        "numbers2 = [1, 3, 5, 7, 9]\n",
        "\n",
        "# adds = []\n",
        "# for i in range(len(numbers1)):\n",
        "#   adds.append(numbers1[i] + numbers2[i])\n",
        "#   print(adds)\n",
        "\n",
        "adds = [numbers1[i]+numbers2[i] for i in range(len(numbers1))]\n",
        "\n",
        "print(adds)"
      ],
      "metadata": {
        "colab": {
          "base_uri": "https://localhost:8080/"
        },
        "id": "P-qNMX0tPBiy",
        "outputId": "15f11a2d-c613-4afa-901e-8fb02806682e"
      },
      "execution_count": null,
      "outputs": [
        {
          "output_type": "stream",
          "name": "stdout",
          "text": [
            "[2, 5, 8, 11, 14]\n"
          ]
        }
      ]
    },
    {
      "cell_type": "code",
      "source": [
        "# adds2 = []\n",
        "# for x, y in zip(numbers1, numbers2):\n",
        "#   adds2.append(x + y)\n",
        "\n",
        "adds2 = [x + y for x, y in zip(numbers1, numbers2)]\n",
        "\n",
        "print(adds2)"
      ],
      "metadata": {
        "colab": {
          "base_uri": "https://localhost:8080/"
        },
        "id": "T84uhNRnRzTG",
        "outputId": "172d6857-93ce-4ffe-a66a-b15a3c0c965d"
      },
      "execution_count": null,
      "outputs": [
        {
          "output_type": "stream",
          "name": "stdout",
          "text": [
            "[2, 5, 8, 11, 14]\n"
          ]
        }
      ]
    }
  ]
}