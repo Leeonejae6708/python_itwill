{
  "nbformat": 4,
  "nbformat_minor": 0,
  "metadata": {
    "colab": {
      "provenance": [],
      "mount_file_id": "1IQviAQLnHOlXFBkDL5C9TNQfgBUUotSQ",
      "authorship_tag": "ABX9TyO6lJIK7kem/750+5/RHNoG",
      "include_colab_link": true
    },
    "kernelspec": {
      "name": "python3",
      "display_name": "Python 3"
    },
    "language_info": {
      "name": "python"
    }
  },
  "cells": [
    {
      "cell_type": "markdown",
      "metadata": {
        "id": "view-in-github",
        "colab_type": "text"
      },
      "source": [
        "<a href=\"https://colab.research.google.com/github/Leeonejae6708/python_itwill/blob/main/Python17_itwill.ipynb\" target=\"_parent\"><img src=\"https://colab.research.google.com/assets/colab-badge.svg\" alt=\"Open In Colab\"/></a>"
      ]
    },
    {
      "cell_type": "code",
      "execution_count": 2,
      "metadata": {
        "id": "gai_3cAsXqW8"
      },
      "outputs": [],
      "source": [
        "file_path = '/content/drive/MyDrive/Colab Notebooks/Python_itwill/exam.csv'"
      ]
    },
    {
      "cell_type": "code",
      "source": [
        "with open(file_path) as f:\n",
        "  for line in f:\n",
        "    print(line[0])"
      ],
      "metadata": {
        "colab": {
          "base_uri": "https://localhost:8080/"
        },
        "id": "tqsTHlV1awDH",
        "outputId": "87daebdf-b386-4569-8f09-87d2ada7dba4"
      },
      "execution_count": 149,
      "outputs": [
        {
          "output_type": "stream",
          "name": "stdout",
          "text": [
            "i\n",
            "1\n",
            "2\n",
            "3\n",
            "4\n",
            "5\n",
            "6\n",
            "7\n",
            "8\n",
            "9\n",
            "1\n",
            "1\n",
            "1\n",
            "1\n",
            "1\n",
            "1\n",
            "1\n",
            "1\n",
            "1\n",
            "1\n",
            "2\n"
          ]
        }
      ]
    },
    {
      "cell_type": "code",
      "source": [
        "with open(file_path) as f:\n",
        "  info = []\n",
        "  for line in f:\n",
        "    if line[0] == 'i':\n",
        "      pass\n",
        "    else:\n",
        "      a = line.split(',')\n",
        "      info.append(a)\n",
        "\n",
        "  info_int = []\n",
        "  for i in range(len(info)):\n",
        "    info_int.append([])\n",
        "    for j in range(5):\n",
        "        info_int[i].append(int(info[i][j]))\n",
        "\n",
        "  math = []\n",
        "  for i in range(len(info)):\n",
        "    math.append(int(info[i][2]))\n",
        "\n",
        "  math_max = max(math)\n",
        "  math_min = min(math)\n",
        "\n",
        "  math_total = sum(math)\n",
        "  math_avg = math_total / len(math)"
      ],
      "metadata": {
        "id": "kGfuaB7mdFGM"
      },
      "execution_count": 134,
      "outputs": []
    },
    {
      "cell_type": "code",
      "source": [
        "print(info)\n",
        "for i in range(len(info)):\n",
        "  print(info[i])"
      ],
      "metadata": {
        "colab": {
          "base_uri": "https://localhost:8080/"
        },
        "id": "JB9mJW3Fhp5r",
        "outputId": "44561fee-c73c-4b5c-9f5e-8b86e6f7450a"
      },
      "execution_count": 135,
      "outputs": [
        {
          "output_type": "stream",
          "name": "stdout",
          "text": [
            "[['1', '1', '50', '98', '50\\n'], ['2', '1', '60', '97', '60\\n'], ['3', '1', '45', '86', '78\\n'], ['4', '1', '30', '98', '58\\n'], ['5', '2', '25', '80', '65\\n'], ['6', '2', '50', '89', '98\\n'], ['7', '2', '80', '90', '45\\n'], ['8', '2', '90', '78', '25\\n'], ['9', '3', '20', '98', '15\\n'], ['10', '3', '50', '98', '45\\n'], ['11', '3', '65', '65', '65\\n'], ['12', '3', '45', '85', '32\\n'], ['13', '4', '46', '98', '65\\n'], ['14', '4', '48', '87', '12\\n'], ['15', '4', '75', '56', '78\\n'], ['16', '4', '58', '98', '65\\n'], ['17', '5', '65', '68', '98\\n'], ['18', '5', '80', '78', '90\\n'], ['19', '5', '89', '68', '87\\n'], ['20', '5', '78', '83', '58\\n']]\n",
            "['1', '1', '50', '98', '50\\n']\n",
            "['2', '1', '60', '97', '60\\n']\n",
            "['3', '1', '45', '86', '78\\n']\n",
            "['4', '1', '30', '98', '58\\n']\n",
            "['5', '2', '25', '80', '65\\n']\n",
            "['6', '2', '50', '89', '98\\n']\n",
            "['7', '2', '80', '90', '45\\n']\n",
            "['8', '2', '90', '78', '25\\n']\n",
            "['9', '3', '20', '98', '15\\n']\n",
            "['10', '3', '50', '98', '45\\n']\n",
            "['11', '3', '65', '65', '65\\n']\n",
            "['12', '3', '45', '85', '32\\n']\n",
            "['13', '4', '46', '98', '65\\n']\n",
            "['14', '4', '48', '87', '12\\n']\n",
            "['15', '4', '75', '56', '78\\n']\n",
            "['16', '4', '58', '98', '65\\n']\n",
            "['17', '5', '65', '68', '98\\n']\n",
            "['18', '5', '80', '78', '90\\n']\n",
            "['19', '5', '89', '68', '87\\n']\n",
            "['20', '5', '78', '83', '58\\n']\n"
          ]
        }
      ]
    },
    {
      "cell_type": "code",
      "source": [
        "print(info_int)\n",
        "for i in range(len(info)):\n",
        "  print(info_int[i])"
      ],
      "metadata": {
        "colab": {
          "base_uri": "https://localhost:8080/"
        },
        "id": "Kyw40G8jjWgr",
        "outputId": "7aaae207-bc28-4be6-ab97-4ea6d31e5f38"
      },
      "execution_count": 136,
      "outputs": [
        {
          "output_type": "stream",
          "name": "stdout",
          "text": [
            "[[1, 1, 50, 98, 50], [2, 1, 60, 97, 60], [3, 1, 45, 86, 78], [4, 1, 30, 98, 58], [5, 2, 25, 80, 65], [6, 2, 50, 89, 98], [7, 2, 80, 90, 45], [8, 2, 90, 78, 25], [9, 3, 20, 98, 15], [10, 3, 50, 98, 45], [11, 3, 65, 65, 65], [12, 3, 45, 85, 32], [13, 4, 46, 98, 65], [14, 4, 48, 87, 12], [15, 4, 75, 56, 78], [16, 4, 58, 98, 65], [17, 5, 65, 68, 98], [18, 5, 80, 78, 90], [19, 5, 89, 68, 87], [20, 5, 78, 83, 58]]\n",
            "[1, 1, 50, 98, 50]\n",
            "[2, 1, 60, 97, 60]\n",
            "[3, 1, 45, 86, 78]\n",
            "[4, 1, 30, 98, 58]\n",
            "[5, 2, 25, 80, 65]\n",
            "[6, 2, 50, 89, 98]\n",
            "[7, 2, 80, 90, 45]\n",
            "[8, 2, 90, 78, 25]\n",
            "[9, 3, 20, 98, 15]\n",
            "[10, 3, 50, 98, 45]\n",
            "[11, 3, 65, 65, 65]\n",
            "[12, 3, 45, 85, 32]\n",
            "[13, 4, 46, 98, 65]\n",
            "[14, 4, 48, 87, 12]\n",
            "[15, 4, 75, 56, 78]\n",
            "[16, 4, 58, 98, 65]\n",
            "[17, 5, 65, 68, 98]\n",
            "[18, 5, 80, 78, 90]\n",
            "[19, 5, 89, 68, 87]\n",
            "[20, 5, 78, 83, 58]\n"
          ]
        }
      ]
    },
    {
      "cell_type": "code",
      "source": [
        "print(math)"
      ],
      "metadata": {
        "colab": {
          "base_uri": "https://localhost:8080/"
        },
        "id": "XTstYzVqg34f",
        "outputId": "7f57d04d-dfb9-4989-d25a-2f566b739bba"
      },
      "execution_count": 137,
      "outputs": [
        {
          "output_type": "stream",
          "name": "stdout",
          "text": [
            "[50, 60, 45, 30, 25, 50, 80, 90, 20, 50, 65, 45, 46, 48, 75, 58, 65, 80, 89, 78]\n"
          ]
        }
      ]
    },
    {
      "cell_type": "code",
      "source": [
        "print(math_max)"
      ],
      "metadata": {
        "colab": {
          "base_uri": "https://localhost:8080/"
        },
        "id": "xXgHQnnWheA2",
        "outputId": "7583b1fe-f109-4cac-fac4-c0891c93e53d"
      },
      "execution_count": 138,
      "outputs": [
        {
          "output_type": "stream",
          "name": "stdout",
          "text": [
            "90\n"
          ]
        }
      ]
    },
    {
      "cell_type": "code",
      "source": [
        "print(math_min)"
      ],
      "metadata": {
        "colab": {
          "base_uri": "https://localhost:8080/"
        },
        "id": "UirmfrF9heQn",
        "outputId": "31f7e898-bb90-4044-8921-ff75c7050a61"
      },
      "execution_count": 139,
      "outputs": [
        {
          "output_type": "stream",
          "name": "stdout",
          "text": [
            "20\n"
          ]
        }
      ]
    },
    {
      "cell_type": "code",
      "source": [
        "print(math_total)"
      ],
      "metadata": {
        "colab": {
          "base_uri": "https://localhost:8080/"
        },
        "id": "AFAuUTovhe8Y",
        "outputId": "f654ff88-9c0f-4bb8-8fa0-14d8f546bea3"
      },
      "execution_count": 140,
      "outputs": [
        {
          "output_type": "stream",
          "name": "stdout",
          "text": [
            "1149\n"
          ]
        }
      ]
    },
    {
      "cell_type": "code",
      "source": [
        "print(math_avg)"
      ],
      "metadata": {
        "colab": {
          "base_uri": "https://localhost:8080/"
        },
        "id": "oNMCsUTliwUI",
        "outputId": "8d797197-e21d-4b0c-fdca-3f9b7dfeef74"
      },
      "execution_count": 141,
      "outputs": [
        {
          "output_type": "stream",
          "name": "stdout",
          "text": [
            "57.45\n"
          ]
        }
      ]
    }
  ]
}