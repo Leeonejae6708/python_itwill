{
  "nbformat": 4,
  "nbformat_minor": 0,
  "metadata": {
    "colab": {
      "provenance": [],
      "authorship_tag": "ABX9TyMvNNBVC8Ml5PY1W/8dl0gb",
      "include_colab_link": true
    },
    "kernelspec": {
      "name": "python3",
      "display_name": "Python 3"
    },
    "language_info": {
      "name": "python"
    }
  },
  "cells": [
    {
      "cell_type": "markdown",
      "metadata": {
        "id": "view-in-github",
        "colab_type": "text"
      },
      "source": [
        "<a href=\"https://colab.research.google.com/github/Leeonejae6708/python_itwill/blob/main/Python08_itwill.ipynb\" target=\"_parent\"><img src=\"https://colab.research.google.com/assets/colab-badge.svg\" alt=\"Open In Colab\"/></a>"
      ]
    },
    {
      "cell_type": "code",
      "execution_count": null,
      "metadata": {
        "id": "5_byTyXkmY4r"
      },
      "outputs": [],
      "source": [
        "import random\n",
        "import math"
      ]
    },
    {
      "cell_type": "code",
      "source": [
        "## Ex 1.\n",
        "\n",
        "fruit = [\"apple\", \"banana\", \"cherry\", \"durian\", \"watermellon\"]\n",
        "fruit_len = [len(x) for x in fruit]\n",
        "print(fruit_len)"
      ],
      "metadata": {
        "colab": {
          "base_uri": "https://localhost:8080/"
        },
        "id": "vlxSr6oImfiB",
        "outputId": "de12efc1-2348-453a-f2e6-c35805e8a8a8"
      },
      "execution_count": null,
      "outputs": [
        {
          "output_type": "stream",
          "name": "stdout",
          "text": [
            "[5, 6, 6, 6, 11]\n"
          ]
        }
      ]
    },
    {
      "cell_type": "code",
      "source": [
        "## Ex 1. (다른 방식)\n",
        "\n",
        "fruit = [\"apple\", \"banana\", \"cherry\", \"durian\", \"watermellon\"]\n",
        "length = []\n",
        "for x in fruit:\n",
        "  length.append(len(x))\n",
        "print(length)"
      ],
      "metadata": {
        "colab": {
          "base_uri": "https://localhost:8080/"
        },
        "id": "lcf3GvqFsqnI",
        "outputId": "e78cf4a1-a61b-4296-e887-59f1455f45c6"
      },
      "execution_count": null,
      "outputs": [
        {
          "output_type": "stream",
          "name": "stdout",
          "text": [
            "[5, 6, 6, 6, 11]\n"
          ]
        }
      ]
    },
    {
      "cell_type": "code",
      "source": [
        "## Ex 2.\n",
        "\n",
        "gender_code = [random.randrange(1, 5) for _ in range(10)]\n",
        "print(gender_code)\n",
        "\n",
        "gender = [\"Male\" if j % 2 ==1 else \"Female\" for j in gender_code]\n",
        "print(gender)"
      ],
      "metadata": {
        "colab": {
          "base_uri": "https://localhost:8080/"
        },
        "id": "oldsBvo8r_rT",
        "outputId": "0f52225e-b5aa-426e-9b19-5c793d9f926f"
      },
      "execution_count": null,
      "outputs": [
        {
          "output_type": "stream",
          "name": "stdout",
          "text": [
            "[2, 1, 2, 2, 1, 1, 4, 1, 2, 3]\n",
            "['Female', 'Male', 'Female', 'Female', 'Male', 'Male', 'Female', 'Male', 'Female', 'Male']\n"
          ]
        }
      ]
    },
    {
      "cell_type": "code",
      "source": [
        "## Ex 2. (다른 방식)\n",
        "\n",
        "gender_code = []\n",
        "for i in range(0, 10):\n",
        "  gender_code.append(random.randrange(1, 5))\n",
        "print(gender_code)\n",
        "\n",
        "gender = []\n",
        "for j in gender_code:\n",
        "  if j % 2 ==1:\n",
        "    gender.append(\"Male\")\n",
        "  elif j % 2 ==0:\n",
        "    gender.append(\"Female\")\n",
        "print(gender)"
      ],
      "metadata": {
        "colab": {
          "base_uri": "https://localhost:8080/"
        },
        "id": "1DNrf5AIm4hA",
        "outputId": "afd1248d-1cca-469a-e5f2-73694825fed2"
      },
      "execution_count": null,
      "outputs": [
        {
          "output_type": "stream",
          "name": "stdout",
          "text": [
            "[3, 2, 1, 1, 3, 2, 1, 1, 2, 2]\n",
            "['Male', 'Female', 'Male', 'Male', 'Male', 'Female', 'Male', 'Male', 'Female', 'Female']\n"
          ]
        }
      ]
    },
    {
      "cell_type": "code",
      "source": [
        "## Ex 3.\n",
        "\n",
        "m1 = [\n",
        "    [1, 2, 3],\n",
        "    [4, 5, 6]\n",
        "]\n",
        "m2 = [\n",
        "    [1, 1, 1],\n",
        "    [2, 2, 2]\n",
        "]\n",
        "\n",
        "add = [m1[i][j] + m2[i][j] for i in range(len(m1)) for j in range(len(m1[0]))]\n",
        "print(add)"
      ],
      "metadata": {
        "colab": {
          "base_uri": "https://localhost:8080/"
        },
        "id": "Xis0cL5Hp52H",
        "outputId": "3004117c-8a0b-4a33-ca37-fe6be50018c9"
      },
      "execution_count": null,
      "outputs": [
        {
          "output_type": "stream",
          "name": "stdout",
          "text": [
            "[2, 3, 4, 6, 7, 8]\n"
          ]
        }
      ]
    },
    {
      "cell_type": "code",
      "source": [
        "## Ex 3. (다른 방식)\n",
        "\n",
        "m1 = [\n",
        "    [1, 2, 3],\n",
        "    [4, 5, 6]\n",
        "]\n",
        "m2 = [\n",
        "    [1, 1, 1],\n",
        "    [2, 2, 2]\n",
        "]\n",
        "add = []\n",
        "\n",
        "for i in range(len(m1)):\n",
        "  for j in range(len(m1[0])):\n",
        "    add.append(m1[i][j] + m2[i][j])\n",
        "print(add)"
      ],
      "metadata": {
        "colab": {
          "base_uri": "https://localhost:8080/"
        },
        "id": "yCS8uNHMpDR2",
        "outputId": "c2d77d00-c8cd-40ea-d25d-8254d79e070c"
      },
      "execution_count": null,
      "outputs": [
        {
          "output_type": "stream",
          "name": "stdout",
          "text": [
            "[2, 3, 4, 6, 7, 8]\n"
          ]
        }
      ]
    },
    {
      "cell_type": "code",
      "source": [
        "## Ex 3. (다른 방식)\n",
        "m1 = [\n",
        "    [1, 2, 3],\n",
        "    [4, 5, 6]\n",
        "]\n",
        "m2 = [\n",
        "    [1, 1, 1],\n",
        "    [2, 2, 2]\n",
        "]\n",
        "add = []\n",
        "\n",
        "for i, j in zip(m1, m2):\n",
        "  plus = []\n",
        "  for x, y in zip(i, j):\n",
        "    plus.append(x + y)\n",
        "  add.append(plus)\n",
        "print(add)"
      ],
      "metadata": {
        "colab": {
          "base_uri": "https://localhost:8080/"
        },
        "id": "HZ-08-7bwoeb",
        "outputId": "3de83a95-92dc-4151-c031-ebc5c4203931"
      },
      "execution_count": null,
      "outputs": [
        {
          "output_type": "stream",
          "name": "stdout",
          "text": [
            "[[2, 3, 4], [6, 7, 8]]\n"
          ]
        }
      ]
    },
    {
      "cell_type": "code",
      "source": [
        "## Ex 3. (다른 방식)\n",
        "\n",
        "result = []\n",
        "for i, j in zip(m1, m2):\n",
        "  plus = [x + y for x, y in zip(i, j)]\n",
        "  result.append(plus)\n",
        "print(result)"
      ],
      "metadata": {
        "colab": {
          "base_uri": "https://localhost:8080/"
        },
        "id": "hYJA8-hvT2Fj",
        "outputId": "17395d94-c281-401b-f1fd-206972866abb"
      },
      "execution_count": null,
      "outputs": [
        {
          "output_type": "stream",
          "name": "stdout",
          "text": [
            "[[2, 3, 4], [6, 7, 8]]\n"
          ]
        }
      ]
    },
    {
      "cell_type": "code",
      "source": [
        "## Ex 3. (다른 방식)\n",
        "\n",
        "resultt = [[x + y for x, y in zip(i, j)]\n",
        "           for i, j in zip(m1, m2)]\n",
        "print(resultt)"
      ],
      "metadata": {
        "colab": {
          "base_uri": "https://localhost:8080/"
        },
        "id": "jSA_3K5MU23p",
        "outputId": "99e46508-02d6-4d82-a3b7-71b8a1bc4b8e"
      },
      "execution_count": null,
      "outputs": [
        {
          "output_type": "stream",
          "name": "stdout",
          "text": [
            "[[2, 3, 4], [6, 7, 8]]\n"
          ]
        }
      ]
    },
    {
      "cell_type": "code",
      "source": [
        "num_of_tems = 5"
      ],
      "metadata": {
        "id": "628jFVI-yaSV"
      },
      "execution_count": null,
      "outputs": []
    },
    {
      "cell_type": "code",
      "source": [
        "## Ex 4. - 1이상 10 이하의 정수 5개를 저장하는 리스트 scores를 만들고 출력하세요\n",
        "\n",
        "scores = [random.randrange(1, 11) for _ in range(5)]\n",
        "print(scores)"
      ],
      "metadata": {
        "colab": {
          "base_uri": "https://localhost:8080/"
        },
        "id": "WdWb8Rz1ryML",
        "outputId": "50b11205-5829-4abb-dcd9-57ef72db9b04"
      },
      "execution_count": null,
      "outputs": [
        {
          "output_type": "stream",
          "name": "stdout",
          "text": [
            "[4, 1, 10, 9, 5]\n"
          ]
        }
      ]
    },
    {
      "cell_type": "code",
      "source": [
        "## Ex 5. - 문제 4에서 만든 리스트 scores의 원소들의 합계를 계산하고 출력하세요\n",
        "\n",
        "sum = 0\n",
        "for i in scores:\n",
        "  sum += i\n",
        "print(sum)\n",
        "\n",
        "# total = sum(scores)\n",
        "# print(total)"
      ],
      "metadata": {
        "colab": {
          "base_uri": "https://localhost:8080/"
        },
        "id": "7nmCUqxqvYoR",
        "outputId": "d18d6548-52b9-4697-eef4-6ade4c2b2d54"
      },
      "execution_count": null,
      "outputs": [
        {
          "output_type": "stream",
          "name": "stdout",
          "text": [
            "29\n"
          ]
        }
      ]
    },
    {
      "cell_type": "code",
      "source": [
        "## Ex 6. - 문제 4에서 만든 리스트 scores의 원소들의 평균을 계산하고 출력하세요.\n",
        "\n",
        "avg = sum / len(scores)\n",
        "print(avg)"
      ],
      "metadata": {
        "colab": {
          "base_uri": "https://localhost:8080/"
        },
        "id": "fyWdp-N9vgSv",
        "outputId": "6d040629-c43a-41f5-c83e-e3750f30f8e8"
      },
      "execution_count": null,
      "outputs": [
        {
          "output_type": "stream",
          "name": "stdout",
          "text": [
            "5.8\n"
          ]
        }
      ]
    },
    {
      "cell_type": "code",
      "source": [
        "## Ex 7. 문제 4에서 만든 리스트 scores의 원소들의 분산을 계산하고 출력하세요.\n",
        "\n",
        "sum2 = 0\n",
        "for i in range(len(scores)):\n",
        "  sum2 += (scores[i]-avg)**2\n",
        "  var = (1/(len(scores)-1)) * sum2\n",
        "\n",
        "print(var)"
      ],
      "metadata": {
        "colab": {
          "base_uri": "https://localhost:8080/"
        },
        "id": "rV9xP1Tyylou",
        "outputId": "905410bd-11cf-4422-cb93-a9e05f5b001c"
      },
      "execution_count": null,
      "outputs": [
        {
          "output_type": "stream",
          "name": "stdout",
          "text": [
            "13.7\n"
          ]
        }
      ]
    },
    {
      "cell_type": "code",
      "source": [
        "## Ex 8. 문제 4에서 만든 리스트 scores의 원소들의 표준편차를 계산하고 출력하세요.\n",
        "\n",
        "std_dev = var ** 0.5\n",
        "print(std_dev)\n",
        "\n",
        "std = math.sqrt(var)\n",
        "print(std)"
      ],
      "metadata": {
        "colab": {
          "base_uri": "https://localhost:8080/"
        },
        "id": "N95AdhufyqeO",
        "outputId": "9feffbb0-527a-483d-f0b9-947df298b27c"
      },
      "execution_count": null,
      "outputs": [
        {
          "output_type": "stream",
          "name": "stdout",
          "text": [
            "3.7013511046643495\n",
            "3.7013511046643495\n"
          ]
        }
      ]
    },
    {
      "cell_type": "code",
      "source": [
        "## Ex 9. 문제 4에서 만든 리스트 scores에서 최댓값을 찾고 출력하세요.\n",
        "\n",
        "for i in range(len(scores)):\n",
        "  for j in range(len(scores)):\n",
        "    if scores[i] < scores[j]:\n",
        "      temp = scores[i]\n",
        "      scores[i] = scores[j]\n",
        "      scores[j] = temp\n",
        "print(scores)\n",
        "print(scores[-1])\n",
        "\n",
        "print(max(scores))"
      ],
      "metadata": {
        "colab": {
          "base_uri": "https://localhost:8080/"
        },
        "id": "oMcmDXbeyqsI",
        "outputId": "d190f345-e6d2-4114-a56b-fb4dd3c2b255"
      },
      "execution_count": null,
      "outputs": [
        {
          "output_type": "stream",
          "name": "stdout",
          "text": [
            "[1, 4, 5, 9, 10]\n",
            "10\n",
            "10\n"
          ]
        }
      ]
    },
    {
      "cell_type": "code",
      "source": [
        "## Ex 9. (다른 방식)\n",
        "\n",
        "max_scores = scores[0]           # 리스트의 첫번째 값을 최댓값이라고 가정\n",
        "for i in range(len(scores)):     # 리스트의 모든 원소들을 처음부터 끝까지 순서대로 반복하면서\n",
        "  if max_scores < scores[i]:     # 리스트의 원소가 최댓값으로 가정한 값보다 크다면\n",
        "    max_scores = scores[i]       # 리스트에서 찾은 값을 최댓값에 저장.\n",
        "print(max_scores)                # 최댓값 출력"
      ],
      "metadata": {
        "colab": {
          "base_uri": "https://localhost:8080/"
        },
        "id": "bKwbv94aiMYs",
        "outputId": "9d1968ec-53de-4b3f-dd0f-44cb7d5bd7ed"
      },
      "execution_count": null,
      "outputs": [
        {
          "output_type": "stream",
          "name": "stdout",
          "text": [
            "10\n"
          ]
        }
      ]
    },
    {
      "cell_type": "code",
      "source": [
        "## Ex 10. 문제 4에서 만든 리스트 scores에서 최솟값을 찾고 출력하세요.\n",
        "\n",
        "for i in range(len(scores)):\n",
        "  for j in range(len(scores)):\n",
        "    if scores[i] < scores[j]:\n",
        "      temp = scores[i]\n",
        "      scores[i] = scores[j]\n",
        "      scores[j] = temp\n",
        "print(scores)\n",
        "print(scores[0])\n",
        "\n",
        "print(min(scores))"
      ],
      "metadata": {
        "colab": {
          "base_uri": "https://localhost:8080/"
        },
        "id": "Vtz2CleHyrRQ",
        "outputId": "08f3de4e-cfe5-4d86-91a6-de21e46566fb"
      },
      "execution_count": null,
      "outputs": [
        {
          "output_type": "stream",
          "name": "stdout",
          "text": [
            "[1, 4, 5, 9, 10]\n",
            "1\n",
            "1\n"
          ]
        }
      ]
    },
    {
      "cell_type": "code",
      "source": [
        "## Ex 10. (다른 방식)\n",
        "\n",
        "min_scores = scores[0]        # 리스트의 첫번째 값을 최솟값이라고 가정\n",
        "for i in range(len(scores)):  # 리스트의 모든 원소들을 처음부터 끝까지 순서대로 반복하면서\n",
        "  if min_scores > scores[i]:  # 리스트의 원소가 최솟값으로 가정한 값보다 작다면\n",
        "    min_scores = scores[i]    # 리스트에서 찾은 값을 최솟값에 저장\n",
        "print(min_scores)             # 최솟값 출력"
      ],
      "metadata": {
        "colab": {
          "base_uri": "https://localhost:8080/"
        },
        "id": "8hKhYWjiimko",
        "outputId": "0858601f-7917-4b22-955e-35a6c9de24b6"
      },
      "execution_count": null,
      "outputs": [
        {
          "output_type": "stream",
          "name": "stdout",
          "text": [
            "1\n"
          ]
        }
      ]
    }
  ]
}