{
  "nbformat": 4,
  "nbformat_minor": 0,
  "metadata": {
    "colab": {
      "provenance": [],
      "authorship_tag": "ABX9TyPuALjj3qCkw25xpHWNQ8j+",
      "include_colab_link": true
    },
    "kernelspec": {
      "name": "python3",
      "display_name": "Python 3"
    },
    "language_info": {
      "name": "python"
    }
  },
  "cells": [
    {
      "cell_type": "markdown",
      "metadata": {
        "id": "view-in-github",
        "colab_type": "text"
      },
      "source": [
        "<a href=\"https://colab.research.google.com/github/Leeonejae6708/python_itwill/blob/main/Python12_itwill.ipynb\" target=\"_parent\"><img src=\"https://colab.research.google.com/assets/colab-badge.svg\" alt=\"Open In Colab\"/></a>"
      ]
    },
    {
      "cell_type": "markdown",
      "source": [
        "# 1급 객체(first-class object)로서의 함수"
      ],
      "metadata": {
        "id": "5ULMVTtA306B"
      }
    },
    {
      "cell_type": "markdown",
      "source": [
        "**함수(function)는 객체(object)**\n",
        "* 객체: 숫자(int, float), 문자열(str), 논리값(True/False), list, dict, tuple, set, ...\n",
        "* 함수는 변수에 할당할 수 있음\n",
        "* 함수의 argument로 함수를 전달할 수 있음\n",
        "* 함수의 반환값으로 함수를 사용할 수 있음\n",
        "* 함수 내부에서 또다른 함수를 선언할 수 있음"
      ],
      "metadata": {
        "id": "DFJWn5Ar4Fdu"
      }
    },
    {
      "cell_type": "code",
      "execution_count": null,
      "metadata": {
        "colab": {
          "base_uri": "https://localhost:8080/"
        },
        "id": "k7kRkCXqT1sg",
        "outputId": "60e0678e-5402-4b51-ed61-70e4c5b60373"
      },
      "outputs": [
        {
          "output_type": "stream",
          "name": "stdout",
          "text": [
            "12\n"
          ]
        }
      ],
      "source": [
        "x = 12     # 정수 12를 변수 x에 할당(저장) -> 초기화\n",
        "print(x)   # 정수를 함수의 argument로 전달"
      ]
    },
    {
      "cell_type": "code",
      "source": [
        "result = len('hello')  # len()함수는 정수를 리턴\n",
        "print(result)"
      ],
      "metadata": {
        "colab": {
          "base_uri": "https://localhost:8080/"
        },
        "id": "UHgxrUuz53bG",
        "outputId": "76573096-d38c-4e91-84fe-a7a7abb918c8"
      },
      "execution_count": null,
      "outputs": [
        {
          "output_type": "stream",
          "name": "stdout",
          "text": [
            "5\n"
          ]
        }
      ]
    },
    {
      "cell_type": "code",
      "source": [
        "def double(x):\n",
        "   return 2 * x"
      ],
      "metadata": {
        "id": "W8Xi42PC6JVh"
      },
      "execution_count": null,
      "outputs": []
    },
    {
      "cell_type": "code",
      "source": [
        "result = double(5)  # 함수 double을 호출하고 그 반환값을 변수  result에 저장\n",
        "print(result)"
      ],
      "metadata": {
        "colab": {
          "base_uri": "https://localhost:8080/"
        },
        "id": "0HOGv8OV6Sdw",
        "outputId": "e11bcfaf-2b90-42ec-c601-9f015e819123"
      },
      "execution_count": null,
      "outputs": [
        {
          "output_type": "stream",
          "name": "stdout",
          "text": [
            "10\n"
          ]
        }
      ]
    },
    {
      "cell_type": "code",
      "source": [
        "print(double(3))  # 함수 double을 호출하고 그 결과를 출력"
      ],
      "metadata": {
        "colab": {
          "base_uri": "https://localhost:8080/"
        },
        "id": "eX8RZT-I6d_Z",
        "outputId": "8551256c-1071-401f-c9de-2c3fa5e5ef26"
      },
      "execution_count": null,
      "outputs": [
        {
          "output_type": "stream",
          "name": "stdout",
          "text": [
            "6\n"
          ]
        }
      ]
    },
    {
      "cell_type": "code",
      "source": [
        "print(double)  # double()이라는 이름의 함수 객체를 문자열로 표현하여 출력 -> 함수를 호출한 것이 아님"
      ],
      "metadata": {
        "colab": {
          "base_uri": "https://localhost:8080/"
        },
        "id": "SqBXGrdC65s6",
        "outputId": "284c3359-4482-4255-e5a4-ca214ac02d09"
      },
      "execution_count": null,
      "outputs": [
        {
          "output_type": "stream",
          "name": "stdout",
          "text": [
            "<function double at 0x7cb3feaed260>\n"
          ]
        }
      ]
    },
    {
      "cell_type": "markdown",
      "source": [
        "## 함수를 변수에 할당"
      ],
      "metadata": {
        "id": "LRyu-Ncb7ech"
      }
    },
    {
      "cell_type": "code",
      "source": [
        "twice = double   # double 함수 객체를 twice 변수에 저장 -> 호출한 것 아님\n",
        "print(twice)\n",
        "print(twice(10)) # twice()라는 함수 호출은 double() 함수 호출과 동일"
      ],
      "metadata": {
        "colab": {
          "base_uri": "https://localhost:8080/"
        },
        "id": "lkuuMD2C7ajC",
        "outputId": "8a5cc5fa-3fce-44b1-a464-4d6112952cfb"
      },
      "execution_count": null,
      "outputs": [
        {
          "output_type": "stream",
          "name": "stdout",
          "text": [
            "<function double at 0x7cb3feaed260>\n",
            "20\n"
          ]
        }
      ]
    },
    {
      "cell_type": "markdown",
      "source": [
        "## argument로 함수를 전달받는 함수"
      ],
      "metadata": {
        "id": "LwwOhNpK9Zjp"
      }
    },
    {
      "cell_type": "code",
      "source": [
        "def calculator(x, y, fn):\n",
        "  result = fn(x, y)\n",
        "\n",
        "  return result"
      ],
      "metadata": {
        "id": "SollOTVY76n9"
      },
      "execution_count": null,
      "outputs": []
    },
    {
      "cell_type": "code",
      "source": [
        "def plus(x, y):\n",
        "  return x + y"
      ],
      "metadata": {
        "id": "hllXpPgP-YvM"
      },
      "execution_count": null,
      "outputs": []
    },
    {
      "cell_type": "code",
      "source": [
        "result = calculator(1, 2, plus)\n",
        "print(result)"
      ],
      "metadata": {
        "colab": {
          "base_uri": "https://localhost:8080/"
        },
        "id": "EpdmMTm_-eMg",
        "outputId": "f22550a8-5262-42a6-9793-e7caff899d5d"
      },
      "execution_count": null,
      "outputs": [
        {
          "output_type": "stream",
          "name": "stdout",
          "text": [
            "3\n"
          ]
        }
      ]
    },
    {
      "cell_type": "code",
      "source": [
        "def minus(x, y):\n",
        "  return x - y\n",
        "\n",
        "result = calculator(1, 2, minus)\n",
        "print(result)"
      ],
      "metadata": {
        "colab": {
          "base_uri": "https://localhost:8080/"
        },
        "id": "OmXmhfbd_xST",
        "outputId": "06092d29-fc7e-454f-fa3b-8bebf8bddb12"
      },
      "execution_count": null,
      "outputs": [
        {
          "output_type": "stream",
          "name": "stdout",
          "text": [
            "-1\n"
          ]
        }
      ]
    },
    {
      "cell_type": "code",
      "source": [
        "def is_bigger(x, y):\n",
        "  return x > y\n",
        "\n",
        "result = calculator(1, 2, is_bigger)\n",
        "print(result)"
      ],
      "metadata": {
        "colab": {
          "base_uri": "https://localhost:8080/"
        },
        "id": "sUtfuZLIAeSt",
        "outputId": "f07fa039-e32a-458a-859b-5aa901a3e14f"
      },
      "execution_count": null,
      "outputs": [
        {
          "output_type": "stream",
          "name": "stdout",
          "text": [
            "False\n"
          ]
        }
      ]
    },
    {
      "cell_type": "markdown",
      "source": [
        "## 내부 함수, 함수를 리턴하는 함수"
      ],
      "metadata": {
        "id": "nku44YvNBRoz"
      }
    },
    {
      "cell_type": "markdown",
      "source": [
        "내부 함수(inner function), 지역 함수(local function):\n",
        "* 함수 내부에서 선언된 함수\n",
        "* 선언된 함수 내부에서만 호출 가능\n",
        "* 선언된 함수 외부세서는 호출 불가\n",
        "* **외부 함수의 지역 변수들(파라미터 포함)을 사용할 수 있음**"
      ],
      "metadata": {
        "id": "vvXs7cowCk_q"
      }
    },
    {
      "cell_type": "code",
      "source": [
        "def make_increamentor(*n):\n",
        "  # 내부 함수(지역 함수): 함수 안에서 선언된 함수 -> 함수 외부에서는 호출 x\n",
        "  def add_n(x):\n",
        "    return x + n\n",
        "\n",
        "  # 함수 객체를 리턴\n",
        "  return add_n"
      ],
      "metadata": {
        "id": "1ZnREjM3A6l8"
      },
      "execution_count": null,
      "outputs": []
    },
    {
      "cell_type": "code",
      "source": [
        "# add_n(10) >> NameError: name 'add_n' is not defined\n",
        "\n",
        "plus_2 = make_increamentor(2)\n",
        "print(plus_2)\n",
        "result = plus_2(10)\n",
        "print(result)"
      ],
      "metadata": {
        "colab": {
          "base_uri": "https://localhost:8080/"
        },
        "id": "1z2rwzW7B8Uq",
        "outputId": "1b0276ea-6d59-4ac6-eb1c-2c3922d688ea"
      },
      "execution_count": null,
      "outputs": [
        {
          "output_type": "stream",
          "name": "stdout",
          "text": [
            "<function make_increamentor.<locals>.add_n at 0x7cb3e5d794e0>\n",
            "12\n"
          ]
        }
      ]
    },
    {
      "cell_type": "code",
      "source": [
        "plus_10 = make_increamentor(10)\n",
        "result = plus_10(100)\n",
        "print(result)"
      ],
      "metadata": {
        "colab": {
          "base_uri": "https://localhost:8080/"
        },
        "id": "fht9OqqgEk87",
        "outputId": "0024eefb-a095-47ae-912c-d5d3a1257c75"
      },
      "execution_count": null,
      "outputs": [
        {
          "output_type": "stream",
          "name": "stdout",
          "text": [
            "110\n"
          ]
        }
      ]
    },
    {
      "cell_type": "code",
      "source": [
        "result = make_increamentor(100)(123)\n",
        "print(result)"
      ],
      "metadata": {
        "colab": {
          "base_uri": "https://localhost:8080/"
        },
        "id": "vh2DW-p9FW05",
        "outputId": "1989448c-5a37-4eb7-d3e3-848a7d1dde8d"
      },
      "execution_count": null,
      "outputs": [
        {
          "output_type": "stream",
          "name": "stdout",
          "text": [
            "223\n"
          ]
        }
      ]
    },
    {
      "cell_type": "code",
      "source": [
        "def cnt_occ(s, sub):\n",
        " cnt = 0\n",
        " for i in range(len(s) - len(sub) + 1):\n",
        "  if s[i:i + len(sub)] == sub:\n",
        "    cnt += 1\n",
        " return cnt\n",
        "\n",
        "a = 'abdcabcaabca' # 길이 12\n",
        "p1 = \"ab\"\n",
        "p2 = \"ca\"\n",
        "out = f\"ab{cnt_occ(a, p1)} ca{cnt_occ(a, p2)}\"\n",
        "print(out)\n"
      ],
      "metadata": {
        "colab": {
          "base_uri": "https://localhost:8080/"
        },
        "id": "bKJq-QTUJCKv",
        "outputId": "ff53f573-670c-408c-db82-0cb3521b90ff"
      },
      "execution_count": null,
      "outputs": [
        {
          "output_type": "stream",
          "name": "stdout",
          "text": [
            "ab3 ca3\n"
          ]
        }
      ]
    },
    {
      "cell_type": "markdown",
      "source": [
        "# 람다 표현식(Lambda Expression)"
      ],
      "metadata": {
        "id": "MQzVub4J4qJw"
      }
    },
    {
      "cell_type": "markdown",
      "source": [
        "* 문법\n",
        "```\n",
        "lambda param1, param2, ...: expression(식)\n",
        "```\n",
        "* 이름이 없는 함수\n",
        "* 함수 이름 선언 없이, 함수 파라미터 선언과 반환값 또는 반환식으로 함수를 정의하는 것\n",
        "* 람다 표현식은 변수에 할당할 수 있고, **함수의 argument로 전달할 수 있음**"
      ],
      "metadata": {
        "id": "zPHica8j4zgg"
      }
    },
    {
      "cell_type": "code",
      "source": [
        "# 함수 선언\n",
        "# def plus_one(x):\n",
        "#   return x + 1\n",
        "\n",
        "# 람다 표현식\n",
        "plus_one = lambda x: x + 1\n",
        "print(plus_one)\n",
        "print(plus_one(1))"
      ],
      "metadata": {
        "id": "Y7RwkOZrKqV5",
        "colab": {
          "base_uri": "https://localhost:8080/"
        },
        "outputId": "4772707d-4032-4f30-e755-07dde3665635"
      },
      "execution_count": null,
      "outputs": [
        {
          "output_type": "stream",
          "name": "stdout",
          "text": [
            "<function <lambda> at 0x7cb3e5df4ea0>\n",
            "2\n"
          ]
        }
      ]
    },
    {
      "cell_type": "code",
      "source": [
        "# def add(x, y):\n",
        "#   return x + y\n",
        "\n",
        "add = lambda x, y: x + y\n",
        "print(add(100, 200))"
      ],
      "metadata": {
        "colab": {
          "base_uri": "https://localhost:8080/"
        },
        "id": "vugbnwEa7vJh",
        "outputId": "df16cf48-0dc1-4a99-95f5-bf6d802e37ba"
      },
      "execution_count": null,
      "outputs": [
        {
          "output_type": "stream",
          "name": "stdout",
          "text": [
            "300\n"
          ]
        }
      ]
    },
    {
      "cell_type": "markdown",
      "source": [
        "함수 'calculator()'의 argument로 람다 표현식을 전달"
      ],
      "metadata": {
        "id": "vtC2smHj8hWh"
      }
    },
    {
      "cell_type": "code",
      "source": [
        "result = calculator(1, 2, lambda x, y: x + y)\n",
        "print(result)"
      ],
      "metadata": {
        "colab": {
          "base_uri": "https://localhost:8080/"
        },
        "id": "4FtHEsvV8gZX",
        "outputId": "ad8ce975-f7d1-4889-b95b-11d2910f7920"
      },
      "execution_count": null,
      "outputs": [
        {
          "output_type": "stream",
          "name": "stdout",
          "text": [
            "3\n"
          ]
        }
      ]
    },
    {
      "cell_type": "code",
      "source": [
        "result = calculator(1, 2, lambda x, y: x - y)\n",
        "print(result)"
      ],
      "metadata": {
        "colab": {
          "base_uri": "https://localhost:8080/"
        },
        "id": "-RTWGVV99WnG",
        "outputId": "76b60295-b68f-4464-ad93-98333f45f9ec"
      },
      "execution_count": null,
      "outputs": [
        {
          "output_type": "stream",
          "name": "stdout",
          "text": [
            "-1\n"
          ]
        }
      ]
    },
    {
      "cell_type": "code",
      "source": [
        "result = calculator(4, 2, lambda x, y: x * y)\n",
        "print(result)"
      ],
      "metadata": {
        "colab": {
          "base_uri": "https://localhost:8080/"
        },
        "id": "GyE3R4Tp9yF1",
        "outputId": "7259371b-b9e0-46bd-caa4-e6ae704db9df"
      },
      "execution_count": null,
      "outputs": [
        {
          "output_type": "stream",
          "name": "stdout",
          "text": [
            "8\n"
          ]
        }
      ]
    },
    {
      "cell_type": "code",
      "source": [
        "result = calculator(4, 2, lambda x, y: x / y)\n",
        "print(result)"
      ],
      "metadata": {
        "colab": {
          "base_uri": "https://localhost:8080/"
        },
        "id": "UmQbfTDu9ySd",
        "outputId": "0ade8cbf-83e4-484c-e92d-f44932fbb8a8"
      },
      "execution_count": null,
      "outputs": [
        {
          "output_type": "stream",
          "name": "stdout",
          "text": [
            "2.0\n"
          ]
        }
      ]
    },
    {
      "cell_type": "markdown",
      "source": [
        "## lambda를 argument로 전달하는 예"
      ],
      "metadata": {
        "id": "sZIAF6t5Chpd"
      }
    },
    {
      "cell_type": "markdown",
      "source": [
        "* filter: 조건에 만족하는 원소들로 이루어진 리스트를 반환\n",
        "* map: 원소들을 일정한 규칙에 따라서 다른 값으로 변환(매핑)"
      ],
      "metadata": {
        "id": "VmzmJwVRCnF8"
      }
    },
    {
      "cell_type": "code",
      "source": [
        "import random"
      ],
      "metadata": {
        "id": "9mv2ZIEV-vyP"
      },
      "execution_count": null,
      "outputs": []
    },
    {
      "cell_type": "code",
      "source": [
        "numbers = [random.randrange(10) for _ in range(10)]\n",
        "print(numbers)"
      ],
      "metadata": {
        "colab": {
          "base_uri": "https://localhost:8080/"
        },
        "id": "jDxPjDFYDlqo",
        "outputId": "232ab5d7-f121-44e3-f3e4-a73c7fab5872"
      },
      "execution_count": null,
      "outputs": [
        {
          "output_type": "stream",
          "name": "stdout",
          "text": [
            "[1, 3, 0, 9, 7, 5, 3, 1, 1, 6]\n"
          ]
        }
      ]
    },
    {
      "cell_type": "code",
      "source": [
        "# fliter(function, iterable): iterable의 원소를 function에 argument로 전달했을 때 True를 리턴하는 값들로 이루어진 filter 객체를 리턴\n",
        "evens = filter(lambda x: x % 2 == 0, numbers)\n",
        "result = list(evens)  # 필터링된 객체를 리스트 타입으로 변환\n",
        "print(result)"
      ],
      "metadata": {
        "colab": {
          "base_uri": "https://localhost:8080/"
        },
        "id": "be5P-5JTD_mg",
        "outputId": "2cb86ce0-32f7-410c-d9ce-e2669b1bc7a7"
      },
      "execution_count": null,
      "outputs": [
        {
          "output_type": "stream",
          "name": "stdout",
          "text": [
            "[0, 6]\n"
          ]
        }
      ]
    },
    {
      "cell_type": "markdown",
      "source": [
        "리스트 numbers 원소들의 제곱으로 이루어진 리스트"
      ],
      "metadata": {
        "id": "BPbiZcWkGANl"
      }
    },
    {
      "cell_type": "code",
      "source": [
        "# map(function, iterable): iterable의 원소들을 function의 argument로 전달해서 function이 리턴해주는 값들로 이루어진 map() 객체를 리턴\n",
        "squares = map(lambda x: x ** 2, numbers)\n",
        "print(squares)\n",
        "result2 = list(squares) # 매핑된 객체를 리스트 타입으로 변환\n",
        "print(result2)"
      ],
      "metadata": {
        "colab": {
          "base_uri": "https://localhost:8080/"
        },
        "id": "cwU9LUGFFHmp",
        "outputId": "661d19fd-0340-4faa-fa95-a81fd30958e3"
      },
      "execution_count": null,
      "outputs": [
        {
          "output_type": "stream",
          "name": "stdout",
          "text": [
            "<map object at 0x7cb3cbb9add0>\n",
            "[1, 9, 0, 81, 49, 25, 9, 1, 1, 36]\n"
          ]
        }
      ]
    },
    {
      "cell_type": "markdown",
      "source": [
        "연습문제1.\n",
        "* [-10, 10] 범위의 난수 10개를 원소로 하는 리스트를 만듦\n",
        "* 위의 리스트에서 음수들만 필터링한 리스트를 만들고 출력\n",
        "* 홀수들만 필터링한 리스트를 만들고 출력\n"
      ],
      "metadata": {
        "id": "9F_tKbCkHct2"
      }
    },
    {
      "cell_type": "markdown",
      "source": [
        "연습문제2.\n",
        "* [0, 100) 범위의 난수 10개를 원소로 하는 리스트를 만듦\n",
        "* 위의 리스트의 원소가 짝수이면 'even', 홀수이면 'odd'로 매핑한 리스트를 만들고 출력\n",
        "* 리스트의 원소가 0 ~ 19이면 'teen', 20 ~ 59이면 'adult', 60 이상이면 'senior'로 매핑한 리스트를 만들고 출력"
      ],
      "metadata": {
        "id": "MDhYhG0jH1g9"
      }
    },
    {
      "cell_type": "code",
      "source": [
        "numbers = [random.randrange(-10, 11) for _ in range(10)]\n",
        "print(numbers)\n",
        "\n",
        "dmatn = filter(lambda x: x < 0, numbers)\n",
        "result = list(dmatn)\n",
        "print(result)\n",
        "\n",
        "odds = filter(lambda x: x % 2 == 1, numbers)\n",
        "result_2 = list(odds)\n",
        "print(result_2)"
      ],
      "metadata": {
        "colab": {
          "base_uri": "https://localhost:8080/"
        },
        "id": "MrQv_1PEHoyF",
        "outputId": "afb65783-6500-4823-d520-a58aeb2ef6ab"
      },
      "execution_count": null,
      "outputs": [
        {
          "output_type": "stream",
          "name": "stdout",
          "text": [
            "[-9, -6, 10, 5, -1, -8, 8, 8, 9, 9]\n",
            "[-9, -6, -1, -8]\n",
            "[-9, 5, -1, 9, 9]\n"
          ]
        }
      ]
    },
    {
      "cell_type": "code",
      "source": [
        "numbers = [random.randrange(100) for _ in range(10)]\n",
        "print(numbers)\n",
        "\n",
        "dmatnskstn = map(lambda x: 'even' if x % 2 == 0 else 'odd', numbers)\n",
        "print(list(dmatnskstn))\n",
        "\n",
        "age = map(lambda x: 'teen' if x < 20 else('adult' if x < 60 else 'senior'), numbers)\n",
        "print(list(age))"
      ],
      "metadata": {
        "colab": {
          "base_uri": "https://localhost:8080/"
        },
        "id": "40DLM7oII8AE",
        "outputId": "77a445df-7baa-4d85-b1d3-d16812d9df3f"
      },
      "execution_count": null,
      "outputs": [
        {
          "output_type": "stream",
          "name": "stdout",
          "text": [
            "[74, 96, 28, 81, 22, 3, 13, 96, 89, 43]\n",
            "['even', 'even', 'even', 'odd', 'even', 'odd', 'odd', 'even', 'odd', 'odd']\n",
            "['senior', 'senior', 'adult', 'senior', 'adult', 'teen', 'teen', 'senior', 'senior', 'adult']\n"
          ]
        }
      ]
    },
    {
      "cell_type": "markdown",
      "source": [
        "## filter 구현"
      ],
      "metadata": {
        "id": "CmJko120TWXC"
      }
    },
    {
      "cell_type": "code",
      "source": [
        "def my_filter(iterable, function):\n",
        "  \"\"\"\n",
        "  iterable의 원소들 중에서 함수 function의 결과가 True가 되는 원소들로 이루어진 리스트를 리턴\n",
        "  @param iterable: list or tuple\n",
        "  @param function: argument가 1개이고, True/False를 리턴하는 함수\n",
        "  @return: list\n",
        "  \"\"\"\n",
        "\n",
        "  # result = []            -> 조건에 맞는 원소들을 저장하기 위한 비어있는 리스트\n",
        "  # for x in iterable:     -> iterable의 모든 원소들을 순서대로 반복하면서\n",
        "  #   if function(x):      -> 함수 호출 결과가 True이면(조건을 만족하면)\n",
        "  #     result.append(x)   -> result 리스트에 그 원소를 추가\n",
        "  # return result          -> 최종 result를 리턴\n",
        "\n",
        "  result = [x for x in iterable if function(x)]\n",
        "  return result"
      ],
      "metadata": {
        "id": "WwRX_EJXJUQF"
      },
      "execution_count": null,
      "outputs": []
    },
    {
      "cell_type": "code",
      "source": [
        "numberss = [random.randrange(10) for i in range(10)]\n",
        "print(numberss)\n",
        "evens = my_filter(numbers, lambda x: x % 2 == 0)\n",
        "print(evens)"
      ],
      "metadata": {
        "colab": {
          "base_uri": "https://localhost:8080/"
        },
        "id": "ALB8aJu_VdMG",
        "outputId": "184af42e-6c4c-4f21-9cdb-7f672703eceb"
      },
      "execution_count": null,
      "outputs": [
        {
          "output_type": "stream",
          "name": "stdout",
          "text": [
            "[3, 9, 4, 9, 5, 2, 8, 7, 4, 2]\n",
            "[74, 96, 28, 22, 96]\n"
          ]
        }
      ]
    },
    {
      "cell_type": "code",
      "source": [
        "languages = ['python', 'sql', 'java', 'javascript', 'html']\n",
        "\n",
        "# languages의 문자열들 중 길이가 5이상인 문자열들로 이루어진 리스트를 my_filter를 사용해 만들자\n",
        "result = my_filter(languages, lambda x: len(x) >= 5)\n",
        "print(result)"
      ],
      "metadata": {
        "colab": {
          "base_uri": "https://localhost:8080/"
        },
        "id": "1GA-7DIEWXTt",
        "outputId": "ec8e8359-8fef-4073-e2c9-3d51fd3f769b"
      },
      "execution_count": null,
      "outputs": [
        {
          "output_type": "stream",
          "name": "stdout",
          "text": [
            "['python', 'javascript']\n"
          ]
        }
      ]
    },
    {
      "cell_type": "markdown",
      "source": [
        "## map 구현"
      ],
      "metadata": {
        "id": "JKyMPvTmXyz7"
      }
    },
    {
      "cell_type": "code",
      "source": [
        "def my_mapper(iterable, fn):\n",
        "  \"\"\"\n",
        "  iterable의 원소를 함수 fn의 argument로 전달했을 때 그 리턴값을 리스트에 추가해서 리턴\n",
        "  @param iterable: list or tuple\n",
        "  @param function: argument가 1개이고, 1개의 값을 리턴하는 함수\n",
        "  @return: list\n",
        "  \"\"\"\n",
        "  # result = []             -> 매핑된 값들을 저장할 비어있는 리스트\n",
        "  # for i in iterable:      -> iterable의 모든 원소들을 순서대로 반복하면서\n",
        "  #   result.append(fn(x))  -> 함수 fn()의 리턴값을 리스트에 추가\n",
        "  # return result           -> 최종 result를 리턴\n",
        "\n",
        "\n",
        "  result = [fn(x) for x in iterable ]\n",
        "  return result"
      ],
      "metadata": {
        "id": "HS56N2U9Wx0V"
      },
      "execution_count": null,
      "outputs": []
    },
    {
      "cell_type": "code",
      "source": [
        "ll = [1, 2, 3]\n",
        "rr = my_mapper(ll, lambda x: x ** 2)\n",
        "print(rr)"
      ],
      "metadata": {
        "colab": {
          "base_uri": "https://localhost:8080/"
        },
        "id": "MOmxBtdznz0s",
        "outputId": "31e1bd96-cbcc-4eb8-9445-8d1ec9ccaeb8"
      },
      "execution_count": null,
      "outputs": [
        {
          "output_type": "stream",
          "name": "stdout",
          "text": [
            "[1, 4, 9]\n"
          ]
        }
      ]
    },
    {
      "cell_type": "code",
      "source": [
        "ran_num = [random.randrange(100) for _ in range(10)]  #[0, 100) 범위의 난수 10개를 저장하는 리스트\n",
        "print(ran_num)\n",
        "\n",
        "# 짝수 -> 'even' / 홀수 -> 'odd' 매핑\n",
        "result = my_mapper(ran_num, lambda x: 'even' if x % 2 == 0 else 'odd')\n",
        "print(result)"
      ],
      "metadata": {
        "colab": {
          "base_uri": "https://localhost:8080/"
        },
        "id": "5csFtYazso5J",
        "outputId": "88e5610a-25a9-4c86-b7cc-e09756fa6689"
      },
      "execution_count": null,
      "outputs": [
        {
          "output_type": "stream",
          "name": "stdout",
          "text": [
            "[54, 11, 9, 28, 98, 56, 51, 75, 50, 81]\n",
            "['even', 'odd', 'odd', 'even', 'even', 'even', 'odd', 'odd', 'even', 'odd']\n"
          ]
        }
      ]
    },
    {
      "cell_type": "code",
      "source": [
        "languages = ['python', 'sql', 'java', 'javascript', 'html']\n",
        "\n",
        "# languages 원소 -> 글자수로 매핑\n",
        "\n",
        "result = my_mapper(languages, lambda x: len(x))\n",
        "print(result)\n",
        "\n",
        "rere = my_mapper(languages, lambda x: 'up' if len(x) > 4 else ('middle' if len(x) > 3 else 'low'))\n",
        "print(rere)"
      ],
      "metadata": {
        "colab": {
          "base_uri": "https://localhost:8080/"
        },
        "id": "YUaG-Zt5tYN8",
        "outputId": "21733e57-8534-4781-bf0c-aeb8767ef69e"
      },
      "execution_count": null,
      "outputs": [
        {
          "output_type": "stream",
          "name": "stdout",
          "text": [
            "[6, 3, 4, 10, 4]\n",
            "['up', 'low', 'middle', 'up', 'middle']\n"
          ]
        }
      ]
    }
  ]
}