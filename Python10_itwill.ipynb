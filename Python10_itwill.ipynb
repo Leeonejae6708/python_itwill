{
  "nbformat": 4,
  "nbformat_minor": 0,
  "metadata": {
    "colab": {
      "provenance": [],
      "authorship_tag": "ABX9TyMtgdx22uEfjs7bkmEjbGbc",
      "include_colab_link": true
    },
    "kernelspec": {
      "name": "python3",
      "display_name": "Python 3"
    },
    "language_info": {
      "name": "python"
    }
  },
  "cells": [
    {
      "cell_type": "markdown",
      "metadata": {
        "id": "view-in-github",
        "colab_type": "text"
      },
      "source": [
        "<a href=\"https://colab.research.google.com/github/Leeonejae6708/python_itwill/blob/main/Python10_itwill.ipynb\" target=\"_parent\"><img src=\"https://colab.research.google.com/assets/colab-badge.svg\" alt=\"Open In Colab\"/></a>"
      ]
    },
    {
      "cell_type": "markdown",
      "source": [
        "# 오류(error)의 종류"
      ],
      "metadata": {
        "id": "VSImLXHtX1aD"
      }
    },
    {
      "cell_type": "code",
      "source": [
        "prnt('안녕하세요') # NameError: name 'prnt' is not defined -> error메시지 (prnt라는 함수는 정의되지 않음!)"
      ],
      "metadata": {
        "colab": {
          "base_uri": "https://localhost:8080/",
          "height": 147
        },
        "id": "jmk5r6nwX-Ty",
        "outputId": "e208a130-b790-4964-854c-13fb24891e17"
      },
      "execution_count": null,
      "outputs": [
        {
          "output_type": "error",
          "ename": "NameError",
          "evalue": "name 'prnt' is not defined",
          "traceback": [
            "\u001b[0;31m---------------------------------------------------------------------------\u001b[0m",
            "\u001b[0;31mNameError\u001b[0m                                 Traceback (most recent call last)",
            "\u001b[0;32m<ipython-input-1-299056b89556>\u001b[0m in \u001b[0;36m<cell line: 0>\u001b[0;34m()\u001b[0m\n\u001b[0;32m----> 1\u001b[0;31m \u001b[0mprnt\u001b[0m\u001b[0;34m(\u001b[0m\u001b[0;34m'안녕하세요'\u001b[0m\u001b[0;34m)\u001b[0m\u001b[0;34m\u001b[0m\u001b[0;34m\u001b[0m\u001b[0m\n\u001b[0m",
            "\u001b[0;31mNameError\u001b[0m: name 'prnt' is not defined"
          ]
        }
      ]
    },
    {
      "cell_type": "code",
      "source": [
        "n = int('100.0')  # ValueError: invalid literal for int() with base 10: '100.0' -> '100.0'은 10진수 정수로 변환 불가"
      ],
      "metadata": {
        "colab": {
          "base_uri": "https://localhost:8080/",
          "height": 147
        },
        "id": "fNKMTf8LZU3s",
        "outputId": "ab017e4d-8e7e-43b0-fde2-0c36279e3666"
      },
      "execution_count": null,
      "outputs": [
        {
          "output_type": "error",
          "ename": "ValueError",
          "evalue": "invalid literal for int() with base 10: '100.0'",
          "traceback": [
            "\u001b[0;31m---------------------------------------------------------------------------\u001b[0m",
            "\u001b[0;31mValueError\u001b[0m                                Traceback (most recent call last)",
            "\u001b[0;32m<ipython-input-3-c68ee186a1b0>\u001b[0m in \u001b[0;36m<cell line: 0>\u001b[0;34m()\u001b[0m\n\u001b[0;32m----> 1\u001b[0;31m \u001b[0mn\u001b[0m \u001b[0;34m=\u001b[0m \u001b[0mint\u001b[0m\u001b[0;34m(\u001b[0m\u001b[0;34m'100.0'\u001b[0m\u001b[0;34m)\u001b[0m\u001b[0;34m\u001b[0m\u001b[0;34m\u001b[0m\u001b[0m\n\u001b[0m",
            "\u001b[0;31mValueError\u001b[0m: invalid literal for int() with base 10: '100.0'"
          ]
        }
      ]
    },
    {
      "cell_type": "code",
      "source": [
        "print('200' + 100)  # TypeError: can only concatenate str (not \"int\") to str -> 문자열과 정수형 붙이기 불가."
      ],
      "metadata": {
        "colab": {
          "base_uri": "https://localhost:8080/",
          "height": 147
        },
        "id": "-7TE2MbsZfCA",
        "outputId": "f46eb5ac-344f-4b61-f3c5-1ff5cba17da7"
      },
      "execution_count": null,
      "outputs": [
        {
          "output_type": "error",
          "ename": "TypeError",
          "evalue": "can only concatenate str (not \"int\") to str",
          "traceback": [
            "\u001b[0;31m---------------------------------------------------------------------------\u001b[0m",
            "\u001b[0;31mTypeError\u001b[0m                                 Traceback (most recent call last)",
            "\u001b[0;32m<ipython-input-4-e4e79120fe58>\u001b[0m in \u001b[0;36m<cell line: 0>\u001b[0;34m()\u001b[0m\n\u001b[0;32m----> 1\u001b[0;31m \u001b[0mprint\u001b[0m\u001b[0;34m(\u001b[0m\u001b[0;34m'200'\u001b[0m \u001b[0;34m+\u001b[0m \u001b[0;36m100\u001b[0m\u001b[0;34m)\u001b[0m\u001b[0;34m\u001b[0m\u001b[0;34m\u001b[0m\u001b[0m\n\u001b[0m",
            "\u001b[0;31mTypeError\u001b[0m: can only concatenate str (not \"int\") to str"
          ]
        }
      ]
    },
    {
      "cell_type": "code",
      "source": [
        "num = [1, 2, 3, 4, 5]\n",
        "print(num[5])  # IndexError: list index out of range -> 리스트 인덱스가 범위 밖이다."
      ],
      "metadata": {
        "colab": {
          "base_uri": "https://localhost:8080/",
          "height": 166
        },
        "id": "OPC_yAhzaFit",
        "outputId": "dbf078f1-0c0a-4100-c385-ae2b774d4688"
      },
      "execution_count": null,
      "outputs": [
        {
          "output_type": "error",
          "ename": "IndexError",
          "evalue": "list index out of range",
          "traceback": [
            "\u001b[0;31m---------------------------------------------------------------------------\u001b[0m",
            "\u001b[0;31mIndexError\u001b[0m                                Traceback (most recent call last)",
            "\u001b[0;32m<ipython-input-7-c9b673982de6>\u001b[0m in \u001b[0;36m<cell line: 0>\u001b[0;34m()\u001b[0m\n\u001b[1;32m      1\u001b[0m \u001b[0mnum\u001b[0m \u001b[0;34m=\u001b[0m \u001b[0;34m[\u001b[0m\u001b[0;36m1\u001b[0m\u001b[0;34m,\u001b[0m \u001b[0;36m2\u001b[0m\u001b[0;34m,\u001b[0m \u001b[0;36m3\u001b[0m\u001b[0;34m,\u001b[0m \u001b[0;36m4\u001b[0m\u001b[0;34m,\u001b[0m \u001b[0;36m5\u001b[0m\u001b[0;34m]\u001b[0m\u001b[0;34m\u001b[0m\u001b[0;34m\u001b[0m\u001b[0m\n\u001b[0;32m----> 2\u001b[0;31m \u001b[0mprint\u001b[0m\u001b[0;34m(\u001b[0m\u001b[0mnum\u001b[0m\u001b[0;34m[\u001b[0m\u001b[0;36m5\u001b[0m\u001b[0;34m]\u001b[0m\u001b[0;34m)\u001b[0m\u001b[0;34m\u001b[0m\u001b[0;34m\u001b[0m\u001b[0m\n\u001b[0m",
            "\u001b[0;31mIndexError\u001b[0m: list index out of range"
          ]
        }
      ]
    },
    {
      "cell_type": "markdown",
      "source": [
        "프로그램의 코드를 실행 중에 오류(error)가 발생하는 경우 해결 방법:\n",
        " * 오류가 발생한 코드 위치와 그 원인을 찾아서, 오류가 발생하지 않도록 코드를 수정.\n",
        " * 오류가 발생하더라도 프로그램이 비정상적으로 종료되지 않고 계속 실행될 수 있도록 처리."
      ],
      "metadata": {
        "id": "GRI91VWRa_G8"
      }
    },
    {
      "cell_type": "code",
      "source": [],
      "metadata": {
        "id": "7cxbOllPb2fs"
      },
      "execution_count": null,
      "outputs": []
    },
    {
      "cell_type": "code",
      "source": [
        "x = int(input('첫 번째 정수를 입력하시오>>> '))\n",
        "y = int(input('두 번째 정수를 입력하시오>>> '))\n",
        "z = x + y\n",
        "print('x + y =', z)"
      ],
      "metadata": {
        "colab": {
          "base_uri": "https://localhost:8080/",
          "height": 239
        },
        "id": "GpPcmHnKcBRD",
        "outputId": "b54b5182-ff12-45be-a696-9266b8cd3898"
      },
      "execution_count": null,
      "outputs": [
        {
          "name": "stdout",
          "output_type": "stream",
          "text": [
            "첫 번째 정수를 입력하시오>>> 321\n",
            "두 번째 정수를 입력하시오>>> aaa\n"
          ]
        },
        {
          "output_type": "error",
          "ename": "ValueError",
          "evalue": "invalid literal for int() with base 10: 'aaa'",
          "traceback": [
            "\u001b[0;31m---------------------------------------------------------------------------\u001b[0m",
            "\u001b[0;31mValueError\u001b[0m                                Traceback (most recent call last)",
            "\u001b[0;32m<ipython-input-16-6e5e12e2f1c9>\u001b[0m in \u001b[0;36m<cell line: 0>\u001b[0;34m()\u001b[0m\n\u001b[1;32m      1\u001b[0m \u001b[0mx\u001b[0m \u001b[0;34m=\u001b[0m \u001b[0mint\u001b[0m\u001b[0;34m(\u001b[0m\u001b[0minput\u001b[0m\u001b[0;34m(\u001b[0m\u001b[0;34m'첫 번째 정수를 입력하시오>>> '\u001b[0m\u001b[0;34m)\u001b[0m\u001b[0;34m)\u001b[0m\u001b[0;34m\u001b[0m\u001b[0;34m\u001b[0m\u001b[0m\n\u001b[0;32m----> 2\u001b[0;31m \u001b[0my\u001b[0m \u001b[0;34m=\u001b[0m \u001b[0mint\u001b[0m\u001b[0;34m(\u001b[0m\u001b[0minput\u001b[0m\u001b[0;34m(\u001b[0m\u001b[0;34m'두 번째 정수를 입력하시오>>> '\u001b[0m\u001b[0;34m)\u001b[0m\u001b[0;34m)\u001b[0m\u001b[0;34m\u001b[0m\u001b[0;34m\u001b[0m\u001b[0m\n\u001b[0m\u001b[1;32m      3\u001b[0m \u001b[0mz\u001b[0m \u001b[0;34m=\u001b[0m \u001b[0mx\u001b[0m \u001b[0;34m+\u001b[0m \u001b[0my\u001b[0m\u001b[0;34m\u001b[0m\u001b[0;34m\u001b[0m\u001b[0m\n\u001b[1;32m      4\u001b[0m \u001b[0mprint\u001b[0m\u001b[0;34m(\u001b[0m\u001b[0;34m'x + y ='\u001b[0m\u001b[0;34m,\u001b[0m \u001b[0mz\u001b[0m\u001b[0;34m)\u001b[0m\u001b[0;34m\u001b[0m\u001b[0;34m\u001b[0m\u001b[0m\n",
            "\u001b[0;31mValueError\u001b[0m: invalid literal for int() with base 10: 'aaa'"
          ]
        }
      ]
    },
    {
      "cell_type": "markdown",
      "source": [
        "#예외처리 (try ~ except)"
      ],
      "metadata": {
        "id": "YZsvTdLuFyFc"
      }
    },
    {
      "cell_type": "markdown",
      "source": [
        "```\n",
        "# [ ] -> 생략 가능\n",
        "try:\n",
        "  (1) 실행할 코드 믈록\n",
        "except [오류 이름 [as 변수]]\n",
        "  (2) 에러가 발생했을 때 실행할 코드 블록\n",
        "[\n",
        "else:\n",
        "  (3) 에러없이 수행되었을 때 실행 할 코드 블록\n",
        "]\n",
        "[\n",
        "finally\n",
        "  (4) 에러 발생 여부와 상관없이 항상 실핼 할 코드    \n",
        "]  \n",
        "```\n",
        "* try~except 구문의 실행 순서\n",
        " * 에러가 발생하지 않는 경우: (1) -> (3) -> (4)\n",
        " * 에러가 발생한 경우: (1) -> (2) -> (4)\n",
        "* except에서 에러 이름을 생략하면 모든 종료의 에러를 처리할 수 있음.\n",
        "* except에서 에러 이름을 지정하면, 선언한 에러만 처리할 수 있고 그 이외의 에러는 처리할 수 없음.\n",
        "* 처리해야 할 에러의 종류가 여러 개 있다면 except절을 여러 개 사용할 수도 있음."
      ],
      "metadata": {
        "id": "ZhOS7RHeh-UX"
      }
    },
    {
      "cell_type": "markdown",
      "source": [
        "## 예외 처리 블록의 역할\n",
        "* `try`: 예외가 발생할 수 있는 코드를 포함\n",
        "* `except`: 예외가 발생했을 때 실행할 코드를 포함. 특정 예외 유형을 지정할 수 있음\n",
        "* `else`: 예외가 발생하지 않았을 때 실행할 코드를 포함\n",
        "* `finally`: 예외 발생 여부와 상관없이 항상 실행할 코드를 포함"
      ],
      "metadata": {
        "id": "0mEykzBcYHPz"
      }
    },
    {
      "cell_type": "code",
      "execution_count": null,
      "metadata": {
        "colab": {
          "base_uri": "https://localhost:8080/"
        },
        "id": "Gyk7FIx2FsmL",
        "outputId": "a715b97a-f1b8-4180-8799-e177149af71e"
      },
      "outputs": [
        {
          "output_type": "stream",
          "name": "stdout",
          "text": [
            "Result is: 5.0\n",
            "Executing finally block\n",
            "공습경보: division by zero\n",
            "Executing finally block\n",
            "공습경보: unsupported operand type(s) for /: 'int' and 'str'\n",
            "Executing finally block\n"
          ]
        }
      ],
      "source": [
        "def divide(x, y):\n",
        "    try:\n",
        "        result = x / y\n",
        "    except ZeroDivisionError as e:\n",
        "        print(f\"공습경보: {e}\")\n",
        "    except TypeError as e:\n",
        "        print(f\"공습경보: {e}\")\n",
        "    except ValueError as e:\n",
        "        print(f\"공습경보: {e}\")\n",
        "    else:\n",
        "        print(f\"Result is: {result}\")\n",
        "    finally:\n",
        "        print(\"Executing finally block\")\n",
        "\n",
        "# 예외가 발생하지 않는 경우\n",
        "divide(10, 2)\n",
        "\n",
        "# ZeroDivisionError 발생하는 경우\n",
        "divide(10, 0)\n",
        "\n",
        "# TypeError 발생하는 경우\n",
        "divide(10, 'a')"
      ]
    },
    {
      "cell_type": "code",
      "source": [
        "try:\n",
        "  x = int(input('첫 번째 정수를 입력하시오>>> '))\n",
        "  y = int(input('두 번째 정수를 입력하시오>>> '))\n",
        "  print(f'{x} + {y} = {x + y}')\n",
        "  print(f'{x} - {y} = {x - y}')\n",
        "  print(f'{x} x {y} = {x * y}')\n",
        "  print(f'{x} / {y} = {x / y}')\n",
        "except :\n",
        "  print('공습경보')"
      ],
      "metadata": {
        "colab": {
          "base_uri": "https://localhost:8080/"
        },
        "id": "6goZGjKZdrFw",
        "outputId": "085ccd52-5145-4e7f-8ea4-2c765e6baab5"
      },
      "execution_count": null,
      "outputs": [
        {
          "output_type": "stream",
          "name": "stdout",
          "text": [
            "첫 번째 정수를 입력하시오>>> d\n",
            "공습경보\n"
          ]
        }
      ]
    },
    {
      "cell_type": "code",
      "source": [
        "try:\n",
        "  x = int(input('첫 번째 정수를 입력하시오>>> '))\n",
        "  y = int(input('두 번째 정수를 입력하시오>>> '))\n",
        "  print(f'{x} + {y} = {x + y}')\n",
        "  print(f'{x} - {y} = {x - y}')\n",
        "  print(f'{x} x {y} = {x * y}')\n",
        "  print(f'{x} / {y} = {x / y}')\n",
        "except ValueError:\n",
        "  print('입력값이 잘못되었습니다.')\n",
        "else:\n",
        "  print('아아아 공습경보')\n",
        "finally:\n",
        "  print('경찰력 총동원')     1"
      ],
      "metadata": {
        "colab": {
          "base_uri": "https://localhost:8080/"
        },
        "id": "Qp1MOR-npXPS",
        "outputId": "268cfc10-6081-428a-937e-948a382e9f62"
      },
      "execution_count": null,
      "outputs": [
        {
          "output_type": "stream",
          "name": "stdout",
          "text": [
            "첫 번째 정수를 입력하시오>>> 12324112451165241324211322411\n",
            "두 번째 정수를 입력하시오>>> 24\n",
            "12324112451165241324211322411 + 24 = 12324112451165241324211322435\n",
            "12324112451165241324211322411 - 24 = 12324112451165241324211322387\n",
            "12324112451165241324211322411 x 24 = 295778698827965791781071737864\n",
            "12324112451165241324211322411 / 24 = 5.135046854652184e+26\n",
            "아아아 공습경보\n",
            "경찰력 총동원\n"
          ]
        }
      ]
    },
    {
      "cell_type": "code",
      "source": [
        "try:\n",
        "  x = int(input('첫 번째 정수를 입력하시오>>> '))\n",
        "  y = int(input('두 번째 정수를 입력하시오>>> '))\n",
        "  print(f'{x} + {y} = {x + y}')\n",
        "  print(f'{x} - {y} = {x - y}')\n",
        "  print(f'{x} x {y} = {x * y}')\n",
        "  print(f'{x} / {y} = {x / y}')\n",
        "except ValueError:\n",
        "  print('입력값은 정수여야 합니다...')\n",
        "\n",
        "except ZeroDivisionError:\n",
        "  print('0으로 나눌 수 없습니다...')\n",
        "\n",
        "else:\n",
        "  print('아아아 공습경보')\n",
        "\n",
        "finally:\n",
        "  print('경찰력 총동원')"
      ],
      "metadata": {
        "colab": {
          "base_uri": "https://localhost:8080/"
        },
        "id": "sNl-jeWEniKI",
        "outputId": "91c4e4ba-0bae-420f-be4b-6b52722edc3b"
      },
      "execution_count": null,
      "outputs": [
        {
          "output_type": "stream",
          "name": "stdout",
          "text": [
            "첫 번째 정수를 입력하시오>>> 123\n",
            "두 번째 정수를 입력하시오>>> 123\n",
            "123 + 123 = 246\n",
            "123 - 123 = 0\n",
            "123 x 123 = 15129\n",
            "123 / 123 = 1.0\n",
            "아아아 공습경보\n",
            "경찰력 총동원\n"
          ]
        }
      ]
    },
    {
      "cell_type": "markdown",
      "source": [
        "연습문제:\n",
        "* 사용자에게 실수를 입력받고, 사용자가 입력한 문자열이 숫자로 변환될 수 있으면 그 숫자를 출력하고 종료\n",
        "* 사용자가 입력한 문자열이 숫자로 변환될 수 없는 경우라면, '숫자를 다시 입력하세요'라는 에러 메시지를 출력한 후, 입력 과정을 반복."
      ],
      "metadata": {
        "id": "wHkz5tpjqog6"
      }
    },
    {
      "cell_type": "code",
      "source": [
        "while True:\n",
        "  try:\n",
        "    x = float(input('숫자를 입력하시오>>> '))\n",
        "  except ValueError:\n",
        "    print('숫자를 다시 입력하세요.')\n",
        "  else:\n",
        "    print(x)\n",
        "    break"
      ],
      "metadata": {
        "colab": {
          "base_uri": "https://localhost:8080/"
        },
        "id": "kwypwnXkqsX0",
        "outputId": "2ef699a3-e90d-4404-d4cf-1a5c91ab1fad"
      },
      "execution_count": null,
      "outputs": [
        {
          "output_type": "stream",
          "name": "stdout",
          "text": [
            "숫자를 입력하시오>>> asasd\n",
            "숫자를 다시 입력하세요.\n",
            "숫자를 입력하시오>>> sasdsad\n",
            "숫자를 다시 입력하세요.\n",
            "숫자를 입력하시오>>> asdasdasd\n",
            "숫자를 다시 입력하세요.\n",
            "숫자를 입력하시오>>> asdasdasd\n",
            "숫자를 다시 입력하세요.\n",
            "숫자를 입력하시오>>> 1\n",
            "1.0\n"
          ]
        }
      ]
    },
    {
      "cell_type": "code",
      "source": [],
      "metadata": {
        "id": "IqiRnS1hrb4G"
      },
      "execution_count": null,
      "outputs": []
    }
  ]
}