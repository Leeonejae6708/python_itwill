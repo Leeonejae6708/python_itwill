{
  "nbformat": 4,
  "nbformat_minor": 0,
  "metadata": {
    "colab": {
      "provenance": [],
      "toc_visible": true,
      "authorship_tag": "ABX9TyO4BAQ7ky9k/uXsadOqDiw2",
      "include_colab_link": true
    },
    "kernelspec": {
      "name": "python3",
      "display_name": "Python 3"
    },
    "language_info": {
      "name": "python"
    }
  },
  "cells": [
    {
      "cell_type": "markdown",
      "metadata": {
        "id": "view-in-github",
        "colab_type": "text"
      },
      "source": [
        "<a href=\"https://colab.research.google.com/github/Leeonejae6708/python_itwill/blob/main/Python01_itwill.ipynb\" target=\"_parent\"><img src=\"https://colab.research.google.com/assets/colab-badge.svg\" alt=\"Open In Colab\"/></a>"
      ]
    },
    {
      "cell_type": "markdown",
      "source": [
        "# 파이썬 소개\n",
        "\n"
      ],
      "metadata": {
        "id": "B3C5r2bdq9dB"
      }
    },
    {
      "cell_type": "code",
      "execution_count": null,
      "metadata": {
        "colab": {
          "base_uri": "https://localhost:8080/"
        },
        "id": "jwqk4F-3orVB",
        "outputId": "fe8b7353-69f9-42a5-ca77-e9c01dfb67f3"
      },
      "outputs": [
        {
          "output_type": "stream",
          "name": "stdout",
          "text": [
            "안녕하세요.\n"
          ]
        }
      ],
      "source": [
        "print('안녕하세요.')"
      ]
    },
    {
      "cell_type": "markdown",
      "source": [
        "## 파이썬 버전 확인"
      ],
      "metadata": {
        "id": "MjbRstIJrwFB"
      }
    },
    {
      "cell_type": "code",
      "source": [
        "import sys  # sys 모듈을 임포트\n",
        "print(sys.version)  # sys가 가지고있는 버전 정보를 출력"
      ],
      "metadata": {
        "colab": {
          "base_uri": "https://localhost:8080/"
        },
        "id": "h1WZtJZFsaL5",
        "outputId": "6c3f170e-b678-46bc-fdef-a1ab285f84d7"
      },
      "execution_count": null,
      "outputs": [
        {
          "output_type": "stream",
          "name": "stdout",
          "text": [
            "3.11.12 (main, Apr  9 2025, 08:55:54) [GCC 11.4.0]\n"
          ]
        }
      ]
    },
    {
      "cell_type": "markdown",
      "source": [
        "## 여러가지 print 방법"
      ],
      "metadata": {
        "id": "0bMlUioCzEHs"
      }
    },
    {
      "cell_type": "code",
      "source": [
        "print('Hello, 파이썬')\n",
        "# 파이썬은 문자열을 작성할 때 작은따옴표('') 또는 큰따옴표(\"\")를 사용."
      ],
      "metadata": {
        "colab": {
          "base_uri": "https://localhost:8080/"
        },
        "id": "dwWhryqJzKEF",
        "outputId": "1d6975cf-772a-4d9b-a0c8-5a5135fee0c6"
      },
      "execution_count": null,
      "outputs": [
        {
          "output_type": "stream",
          "name": "stdout",
          "text": [
            "Hello, 파이썬\n"
          ]
        }
      ]
    },
    {
      "cell_type": "code",
      "source": [
        "print(\"I'm a boy.\")"
      ],
      "metadata": {
        "colab": {
          "base_uri": "https://localhost:8080/"
        },
        "id": "4obuhHR0zbb_",
        "outputId": "e96854b3-5a49-4f2c-e184-0e581ac72555"
      },
      "execution_count": null,
      "outputs": [
        {
          "output_type": "stream",
          "name": "stdout",
          "text": [
            "I'm a boy.\n"
          ]
        }
      ]
    },
    {
      "cell_type": "code",
      "source": [
        "print('I\\'m a girl.')  # escape 문자열 '\\' --역슬래시"
      ],
      "metadata": {
        "colab": {
          "base_uri": "https://localhost:8080/"
        },
        "id": "bpV_Z-E11G7P",
        "outputId": "b8bbde73-e1da-415a-9050-41daec35078d"
      },
      "execution_count": null,
      "outputs": [
        {
          "output_type": "stream",
          "name": "stdout",
          "text": [
            "I'm a girl.\n"
          ]
        }
      ]
    },
    {
      "cell_type": "code",
      "source": [
        "print('Hello', '안녕', 'Bonjour')"
      ],
      "metadata": {
        "colab": {
          "base_uri": "https://localhost:8080/"
        },
        "id": "yAaD7wdz1xxp",
        "outputId": "a07586e7-4258-40f9-bb27-7ad6acf2efeb"
      },
      "execution_count": null,
      "outputs": [
        {
          "output_type": "stream",
          "name": "stdout",
          "text": [
            "Hello 안녕 Bonjour\n"
          ]
        }
      ]
    },
    {
      "cell_type": "markdown",
      "source": [
        "`print()` 함수는 argument로 전달된 문자열을 화면(콘솔)에 출력.\n",
        "\n",
        "`print()` 함수에 argument를 여러 개를 전달하면, 각각의 값들을 공백으로 연결하여 출력.\n",
        "\n",
        "-> 띄어쓰기 해서 출력."
      ],
      "metadata": {
        "id": "vtHwZiUR2KlM"
      }
    },
    {
      "cell_type": "code",
      "source": [
        "print(1, 2, 3)"
      ],
      "metadata": {
        "colab": {
          "base_uri": "https://localhost:8080/"
        },
        "id": "_-WtKXmy3dwN",
        "outputId": "bea94f9e-becd-42ca-a80a-929069c55431"
      },
      "execution_count": null,
      "outputs": [
        {
          "output_type": "stream",
          "name": "stdout",
          "text": [
            "1 2 3\n"
          ]
        }
      ]
    },
    {
      "cell_type": "code",
      "source": [
        "print(1+2)"
      ],
      "metadata": {
        "colab": {
          "base_uri": "https://localhost:8080/"
        },
        "id": "eNbiiEJf36bu",
        "outputId": "d2463cbc-3e2d-48b6-9a75-5736beac9dc1"
      },
      "execution_count": null,
      "outputs": [
        {
          "output_type": "stream",
          "name": "stdout",
          "text": [
            "3\n"
          ]
        }
      ]
    },
    {
      "cell_type": "code",
      "source": [
        "print(1, '+', 2, '=', 1+2)"
      ],
      "metadata": {
        "colab": {
          "base_uri": "https://localhost:8080/"
        },
        "id": "lfebrKEW4jWe",
        "outputId": "ff691545-5e24-4463-9721-09738a189a4d"
      },
      "execution_count": null,
      "outputs": [
        {
          "output_type": "stream",
          "name": "stdout",
          "text": [
            "1 + 2 = 3\n"
          ]
        }
      ]
    },
    {
      "cell_type": "markdown",
      "source": [
        "placeholder 문자열과 `formmat()`함수를 사용한 print"
      ],
      "metadata": {
        "id": "YFMJN6-w5JOe"
      }
    },
    {
      "cell_type": "code",
      "source": [
        "print('{} + {} = {}'.format(1, 2, 1+2))"
      ],
      "metadata": {
        "colab": {
          "base_uri": "https://localhost:8080/"
        },
        "id": "jLylvtk-5Icw",
        "outputId": "5051bce2-dcb2-49c5-b3a4-6947bfb875d8"
      },
      "execution_count": null,
      "outputs": [
        {
          "output_type": "stream",
          "name": "stdout",
          "text": [
            "1 + 2 = 3\n"
          ]
        }
      ]
    },
    {
      "cell_type": "code",
      "source": [
        "print('{x} + {y} = {z}'.format(x=123, y=456, z=123+456))"
      ],
      "metadata": {
        "colab": {
          "base_uri": "https://localhost:8080/"
        },
        "id": "Bgjlp6y_5r63",
        "outputId": "a2656a8a-0b9d-4916-cbfd-5ca312f990ec"
      },
      "execution_count": null,
      "outputs": [
        {
          "output_type": "stream",
          "name": "stdout",
          "text": [
            "123 + 456 = 579\n"
          ]
        }
      ]
    },
    {
      "cell_type": "markdown",
      "source": [
        "## 변수 선언, 초기화\n",
        "*   변수(Variable): 값을 저장하는 메모리 공간\n",
        "*   문법:\n",
        "```\n",
        "변수 이름 = 값\n",
        "```\n",
        "\n"
      ],
      "metadata": {
        "id": "umcc1HAnMrLW"
      }
    },
    {
      "cell_type": "code",
      "source": [
        "a=10 # 변수 a에 10을 할당(저장)\n",
        "b=20 # 변수 b에 20을 할당(저장)\n",
        "print('a =', a)\n",
        "print('b =', b)"
      ],
      "metadata": {
        "colab": {
          "base_uri": "https://localhost:8080/"
        },
        "id": "hWSQu_qD6V8s",
        "outputId": "3a8a07b0-5c52-4a49-be3b-246cb20791f8"
      },
      "execution_count": null,
      "outputs": [
        {
          "output_type": "stream",
          "name": "stdout",
          "text": [
            "a = 10\n",
            "b = 20\n"
          ]
        }
      ]
    },
    {
      "cell_type": "code",
      "source": [
        "print('{} + {} = {}'.format(a, b, a+b))"
      ],
      "metadata": {
        "colab": {
          "base_uri": "https://localhost:8080/"
        },
        "id": "nLF5HXQiObYH",
        "outputId": "b4845e88-dd91-403d-b05a-1443d5ba406e"
      },
      "execution_count": null,
      "outputs": [
        {
          "output_type": "stream",
          "name": "stdout",
          "text": [
            "10 + 20 = 30\n"
          ]
        }
      ]
    },
    {
      "cell_type": "markdown",
      "source": [
        "##formatted string\n",
        "\n",
        "* 파이썬 3.6 버전부터 제공되는 문접\n",
        "* 문법:\n",
        "```\n",
        "f'{변수 이름} 문자열 작성 {변수 이름}'\n",
        "```"
      ],
      "metadata": {
        "id": "pDxRfd9QPpmv"
      }
    },
    {
      "cell_type": "code",
      "source": [
        "print(f'{a}+{b}={a+b}') # f-string (+연산)"
      ],
      "metadata": {
        "colab": {
          "base_uri": "https://localhost:8080/"
        },
        "id": "zbC8Hy75PDm_",
        "outputId": "93b32453-ce8e-4a03-f183-f8ff368dc45c"
      },
      "execution_count": null,
      "outputs": [
        {
          "output_type": "stream",
          "name": "stdout",
          "text": [
            "10+20=30\n"
          ]
        }
      ]
    },
    {
      "cell_type": "code",
      "source": [
        "print(f'{a}*{b}={a*b}') # f-string (*연산)"
      ],
      "metadata": {
        "colab": {
          "base_uri": "https://localhost:8080/"
        },
        "id": "52y7AbOZPa94",
        "outputId": "1a3503fe-3251-437e-8d76-312f894d8ae5"
      },
      "execution_count": null,
      "outputs": [
        {
          "output_type": "stream",
          "name": "stdout",
          "text": [
            "10*20=200\n"
          ]
        }
      ]
    },
    {
      "cell_type": "code",
      "source": [
        "print(f'{a}/{b}={a/b}') # f-string (/연산)"
      ],
      "metadata": {
        "colab": {
          "base_uri": "https://localhost:8080/"
        },
        "id": "FV45-l3gQLhC",
        "outputId": "b0ee33b8-3a75-41c1-f742-14b9ab5ca0ea"
      },
      "execution_count": null,
      "outputs": [
        {
          "output_type": "stream",
          "name": "stdout",
          "text": [
            "10/20=0.5\n"
          ]
        }
      ]
    },
    {
      "cell_type": "code",
      "source": [
        "print(f'{a}//{b}={a//b}') # f-string (//연산 -> 나눈 값을 정수형으로 출력)"
      ],
      "metadata": {
        "colab": {
          "base_uri": "https://localhost:8080/"
        },
        "id": "mWeLhFZ3QRQv",
        "outputId": "f0f14876-3096-432f-b705-6e2887b8e1a7"
      },
      "execution_count": null,
      "outputs": [
        {
          "output_type": "stream",
          "name": "stdout",
          "text": [
            "10//20=0\n"
          ]
        }
      ]
    },
    {
      "cell_type": "code",
      "source": [
        "print(f'{a}%{b}={a%b}') # f-string (%연산 -> 모듈러 연산)"
      ],
      "metadata": {
        "colab": {
          "base_uri": "https://localhost:8080/"
        },
        "id": "HVgTCbHAQLti",
        "outputId": "18ed164f-9a97-410e-fe66-43ea6924318e"
      },
      "execution_count": null,
      "outputs": [
        {
          "output_type": "stream",
          "name": "stdout",
          "text": [
            "10%20=10\n"
          ]
        }
      ]
    },
    {
      "cell_type": "markdown",
      "source": [
        "## `print()` 함수의 파라미터(parameter)\n",
        "* `sep`: seperater -> 각 argument들을 구분하는 구분자. [기본값은 공백 1개  (' ')]\n",
        "* `end`: argument를 출력한 다음에 마지막에 첨부하는 문자열. [기본값은 개행 (\\n)]"
      ],
      "metadata": {
        "id": "reOVXkDrQ75A"
      }
    },
    {
      "cell_type": "code",
      "source": [
        "print(1, 2, 3, sep=', ')"
      ],
      "metadata": {
        "colab": {
          "base_uri": "https://localhost:8080/"
        },
        "id": "rhL5C1e4Q4iK",
        "outputId": "bf0613b8-fa18-4377-a745-cd86cc1f6b22"
      },
      "execution_count": null,
      "outputs": [
        {
          "output_type": "stream",
          "name": "stdout",
          "text": [
            "1, 2, 3\n"
          ]
        }
      ]
    },
    {
      "cell_type": "code",
      "source": [
        "print('안녕하세요')\n",
        "print('아이티윌') # 기본 end값은 개행이기 때문에 개행되어서 출력이 된다."
      ],
      "metadata": {
        "colab": {
          "base_uri": "https://localhost:8080/"
        },
        "id": "43mvCAiCS4qJ",
        "outputId": "0d2acb68-5d11-4a8f-d008-0393be30fb60"
      },
      "execution_count": null,
      "outputs": [
        {
          "output_type": "stream",
          "name": "stdout",
          "text": [
            "안녕하세요\n",
            "아이티윌\n"
          ]
        }
      ]
    },
    {
      "cell_type": "code",
      "source": [
        "print('안녕하세요', end=' ')\n",
        "print('아이티윌') # end=' '으로 개행이 아닌 공백 1개로 선언하여 개행되지 않고 한 칸 띄어져서 출력이 된다."
      ],
      "metadata": {
        "colab": {
          "base_uri": "https://localhost:8080/"
        },
        "id": "k0D4NXCvTqyT",
        "outputId": "6d96915a-700e-4ebc-d600-0c20944fe3ef"
      },
      "execution_count": null,
      "outputs": [
        {
          "output_type": "stream",
          "name": "stdout",
          "text": [
            "안녕하세요 아이티윌\n"
          ]
        }
      ]
    },
    {
      "cell_type": "markdown",
      "source": [
        "## escape 문자열\n",
        "* `\\n`: 줄바꿈(개행)\n",
        "* `\\t`: 탭(tab)"
      ],
      "metadata": {
        "id": "iGt0whgYUV2R"
      }
    },
    {
      "cell_type": "code",
      "source": [
        "print('안녕하세요.\\n여러분')"
      ],
      "metadata": {
        "colab": {
          "base_uri": "https://localhost:8080/"
        },
        "id": "77X9w5nzVAay",
        "outputId": "9d0a3602-a1d6-4cd3-d610-4b812324dbd9"
      },
      "execution_count": null,
      "outputs": [
        {
          "output_type": "stream",
          "name": "stdout",
          "text": [
            "안녕하세요.\n",
            "여러분\n"
          ]
        }
      ]
    },
    {
      "cell_type": "code",
      "source": [
        "print('안녕하세요.\\t여러분')"
      ],
      "metadata": {
        "colab": {
          "base_uri": "https://localhost:8080/"
        },
        "id": "FaD1yLoCVbvD",
        "outputId": "43f9159a-7d6d-4770-aad7-ceaac41bd8ed"
      },
      "execution_count": null,
      "outputs": [
        {
          "output_type": "stream",
          "name": "stdout",
          "text": [
            "안녕하세요.\t여러분\n"
          ]
        }
      ]
    }
  ]
}