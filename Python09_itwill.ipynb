{
  "nbformat": 4,
  "nbformat_minor": 0,
  "metadata": {
    "colab": {
      "provenance": [],
      "authorship_tag": "ABX9TyM8KrKy9xdf9X/1PdJWDE3c",
      "include_colab_link": true
    },
    "kernelspec": {
      "name": "python3",
      "display_name": "Python 3"
    },
    "language_info": {
      "name": "python"
    }
  },
  "cells": [
    {
      "cell_type": "markdown",
      "metadata": {
        "id": "view-in-github",
        "colab_type": "text"
      },
      "source": [
        "<a href=\"https://colab.research.google.com/github/Leeonejae6708/python_itwill/blob/main/Python09_itwill.ipynb\" target=\"_parent\"><img src=\"https://colab.research.google.com/assets/colab-badge.svg\" alt=\"Open In Colab\"/></a>"
      ]
    },
    {
      "cell_type": "markdown",
      "source": [
        "# dict"
      ],
      "metadata": {
        "id": "4767ZMc2r3wc"
      }
    },
    {
      "cell_type": "markdown",
      "source": [
        "* 사전(dictionary) 형식의 데이터 타입\n",
        "* 키(key)를 기반으로 값(value)을 저장하는 데이터 타입 -> (키-값 )쌍\n",
        " * list, tuple: 인덱스를 기반으로 값(value)를 저장하는 데이터 타입\n",
        " * dict 타입에서 키(key)의 역할은 list나 tuple에서 인덱스와 비슷하게, dict의 저장된 값 1개를 참조하기 위한 용도\n",
        " * 키(key)는 중복된 값을 허용X"
      ],
      "metadata": {
        "id": "Bsgb9x6Tr8rD"
      }
    },
    {
      "cell_type": "code",
      "execution_count": null,
      "metadata": {
        "colab": {
          "base_uri": "https://localhost:8080/"
        },
        "id": "D3d4WFZdleol",
        "outputId": "513c298f-a10c-4599-f3f6-155a1a01708d"
      },
      "outputs": [
        {
          "output_type": "stream",
          "name": "stdout",
          "text": [
            "<class 'dict'>\n",
            "{100: '홍길동', 101: '오쌤', 200: 'scott'}\n"
          ]
        }
      ],
      "source": [
        "students = {100: '홍길동', 101: '오쌤', 200: 'scott'}\n",
        "print(type(students))\n",
        "print(students)"
      ]
    },
    {
      "cell_type": "code",
      "source": [
        "# dict에서 값을 참조: dict명[key] -> key에 해당하는 값을 참조\n",
        "print(students[100])\n",
        "print(students[101])\n",
        "print(students[200])"
      ],
      "metadata": {
        "colab": {
          "base_uri": "https://localhost:8080/",
          "height": 90
        },
        "id": "F4d5BCOTu0MJ",
        "outputId": "4b9bb8cc-bf81-417b-cd18-aa3449e2500d"
      },
      "execution_count": null,
      "outputs": [
        {
          "output_type": "stream",
          "name": "stdout",
          "text": [
            "홍길동\n",
            "오쌤\n",
            "scott\n"
          ]
        },
        {
          "output_type": "execute_result",
          "data": {
            "text/plain": [
              "'scott'"
            ],
            "application/vnd.google.colaboratory.intrinsic+json": {
              "type": "string"
            }
          },
          "metadata": {},
          "execution_count": 5
        }
      ]
    },
    {
      "cell_type": "markdown",
      "source": [
        "## dict 함수(메서드)"
      ],
      "metadata": {
        "id": "VCwOVmAXvqLN"
      }
    },
    {
      "cell_type": "code",
      "source": [
        "students.keys()  # dict명.key(): dict객체가 가지고 있는 key들의 리스트를 반환"
      ],
      "metadata": {
        "colab": {
          "base_uri": "https://localhost:8080/"
        },
        "id": "WRHN6malvhAs",
        "outputId": "dae379e4-3f9b-4a31-d49f-720d61bccd31"
      },
      "execution_count": null,
      "outputs": [
        {
          "output_type": "execute_result",
          "data": {
            "text/plain": [
              "dict_items([(100, '홍길동'), (101, '오쌤'), (200, 'scott')])"
            ]
          },
          "metadata": {},
          "execution_count": 10
        }
      ]
    },
    {
      "cell_type": "code",
      "source": [
        "students.values()  # dict명.values(): dict객체의 값(values)들의 리스트를 반환"
      ],
      "metadata": {
        "colab": {
          "base_uri": "https://localhost:8080/"
        },
        "id": "eufLhF2UwWuz",
        "outputId": "70e74628-28b4-414d-c886-816c1aebe613"
      },
      "execution_count": null,
      "outputs": [
        {
          "output_type": "execute_result",
          "data": {
            "text/plain": [
              "dict_values(['홍길동', '오쌤', 'scott'])"
            ]
          },
          "metadata": {},
          "execution_count": 11
        }
      ]
    },
    {
      "cell_type": "code",
      "source": [
        "students.items()  # dict명.items(): (key, value) tuple을 원소로 갖는list형태로 반환"
      ],
      "metadata": {
        "colab": {
          "base_uri": "https://localhost:8080/"
        },
        "id": "S3nP2uP3wW5N",
        "outputId": "235b24f5-1194-4b13-a328-527ccc8ad114"
      },
      "execution_count": null,
      "outputs": [
        {
          "output_type": "execute_result",
          "data": {
            "text/plain": [
              "dict_items([(100, '홍길동'), (101, '오쌤'), (200, 'scott')])"
            ]
          },
          "metadata": {},
          "execution_count": 12
        }
      ]
    },
    {
      "cell_type": "code",
      "source": [
        "students.get(100)  # dict명.get(key): 해당 key의 value를 반환 (= dict명[key])"
      ],
      "metadata": {
        "colab": {
          "base_uri": "https://localhost:8080/",
          "height": 35
        },
        "id": "GLHlRYNpw_W7",
        "outputId": "956b4aea-d512-4199-ca78-2c6fbdfcf116"
      },
      "execution_count": null,
      "outputs": [
        {
          "output_type": "execute_result",
          "data": {
            "text/plain": [
              "'홍길동'"
            ],
            "application/vnd.google.colaboratory.intrinsic+json": {
              "type": "string"
            }
          },
          "metadata": {},
          "execution_count": 14
        }
      ]
    },
    {
      "cell_type": "markdown",
      "source": [
        "`dict명[key] = value`\n",
        "* key가 dict에 없을 때: key-value 아이템을 dict에 추가\n",
        "* key가 dict에 있을 때: key에 해당하는 값을 새로운 값 value로 바꿈"
      ],
      "metadata": {
        "id": "X2aedm-cyscN"
      }
    },
    {
      "cell_type": "code",
      "source": [
        "students[300] = '홍길동'  # 새로운 key-value 쌍 추가\n",
        "print(students)"
      ],
      "metadata": {
        "colab": {
          "base_uri": "https://localhost:8080/"
        },
        "id": "JUJX5SnYyeM8",
        "outputId": "9bfe0a52-6eb5-4ebe-c143-6c3d12edd8aa"
      },
      "execution_count": null,
      "outputs": [
        {
          "output_type": "stream",
          "name": "stdout",
          "text": [
            "{100: '홍길동', 101: '오쌤', 200: 'scott', 300: '홍길동'}\n"
          ]
        }
      ]
    },
    {
      "cell_type": "code",
      "source": [
        "students[300] = '김길동'  # 해당 key의 값만 바꿈\n",
        "print(students)"
      ],
      "metadata": {
        "colab": {
          "base_uri": "https://localhost:8080/"
        },
        "id": "pGWT6yTXzdJ7",
        "outputId": "3608f923-a2cb-41c7-c40c-a87d62732b91"
      },
      "execution_count": null,
      "outputs": [
        {
          "output_type": "stream",
          "name": "stdout",
          "text": [
            "{100: '홍길동', 101: '오쌤', 200: 'scott', 300: '김길동'}\n"
          ]
        }
      ]
    },
    {
      "cell_type": "markdown",
      "source": [
        "# dict와 for 반복문"
      ],
      "metadata": {
        "id": "9355WZAwGlPW"
      }
    },
    {
      "cell_type": "code",
      "source": [
        "# for 반복문에서 dict객체를 사용하면 key들을 iteration함.\n",
        "\n",
        "for i in students:\n",
        "  print(i)             # key값이 출력"
      ],
      "metadata": {
        "colab": {
          "base_uri": "https://localhost:8080/"
        },
        "id": "ODvWF4U-ztZ4",
        "outputId": "5a033039-53ca-4716-ee26-5ea21fa6c338"
      },
      "execution_count": null,
      "outputs": [
        {
          "output_type": "stream",
          "name": "stdout",
          "text": [
            "100\n",
            "101\n",
            "200\n",
            "300\n"
          ]
        }
      ]
    },
    {
      "cell_type": "code",
      "source": [
        "for k in students:\n",
        "  print(k, ':', students.get(k))\n",
        "\n",
        "for kk in students:\n",
        "  print(kk, ':', students[kk])\n",
        "\n",
        "# 둘이 같은 방식"
      ],
      "metadata": {
        "colab": {
          "base_uri": "https://localhost:8080/"
        },
        "id": "cfji6uK4HqLu",
        "outputId": "d9617530-5478-4e7f-dece-4b7e1176570b"
      },
      "execution_count": null,
      "outputs": [
        {
          "output_type": "stream",
          "name": "stdout",
          "text": [
            "100 : 홍길동\n",
            "101 : 오쌤\n",
            "200 : scott\n",
            "300 : 김길동\n",
            "100 : 홍길동\n",
            "101 : 오쌤\n",
            "200 : scott\n",
            "300 : 김길동\n"
          ]
        }
      ]
    },
    {
      "cell_type": "code",
      "source": [
        "for k, v in students.items():\n",
        "  print(k, '-', v)"
      ],
      "metadata": {
        "colab": {
          "base_uri": "https://localhost:8080/"
        },
        "id": "vkiqSetJHr3g",
        "outputId": "a7102e30-0b8f-45b1-d363-714db6046967"
      },
      "execution_count": null,
      "outputs": [
        {
          "output_type": "stream",
          "name": "stdout",
          "text": [
            "100 - 홍길동\n",
            "101 - 오쌤\n",
            "200 - scott\n",
            "300 - 김길동\n"
          ]
        }
      ]
    },
    {
      "cell_type": "code",
      "source": [
        "book = {'title': '파이썬 200제', 'author': '장삼용', 'publisher': '정보문화사'}\n",
        "print(book)"
      ],
      "metadata": {
        "colab": {
          "base_uri": "https://localhost:8080/"
        },
        "id": "iNA0y6LfIoY1",
        "outputId": "1d315336-37c6-4a3b-9f33-99abd7ab8164"
      },
      "execution_count": null,
      "outputs": [
        {
          "output_type": "stream",
          "name": "stdout",
          "text": [
            "{'title': '파이썬 200제', 'author': '장삼용', 'publisher': '정보문화사'}\n"
          ]
        }
      ]
    },
    {
      "cell_type": "code",
      "source": [
        "for k, v in book.items():\n",
        "  print(k, ':', v, end='\\t')"
      ],
      "metadata": {
        "colab": {
          "base_uri": "https://localhost:8080/"
        },
        "id": "DHFGZ_zQJCL_",
        "outputId": "ee63550d-767c-4d42-813b-a571fef2bcdf"
      },
      "execution_count": null,
      "outputs": [
        {
          "output_type": "stream",
          "name": "stdout",
          "text": [
            "title : 파이썬 200제\tauthor : 장삼용\tpublisher : 정보문화사\t"
          ]
        }
      ]
    },
    {
      "cell_type": "markdown",
      "source": [
        "# 다양한 자료를 저장하는 dict"
      ],
      "metadata": {
        "id": "EZbe3kS8Jkp3"
      }
    },
    {
      "cell_type": "code",
      "source": [
        "contact = {'name':'홍길동',\n",
        "           'mobile': ['010-1234-6548', '02-1231-1241'],\n",
        "           'e-mail': {'personal': 'hong@gmail.com', 'company': 'hong_itwill@itwilil.com'},\n",
        "           'no': 1\n",
        "           }\n",
        "for k, v in contact.items():\n",
        "  print(k,'-', v)"
      ],
      "metadata": {
        "colab": {
          "base_uri": "https://localhost:8080/"
        },
        "id": "4dlbtmY8JoEH",
        "outputId": "2a23a207-92cf-4b3e-9f71-b0b07a10084f"
      },
      "execution_count": null,
      "outputs": [
        {
          "output_type": "stream",
          "name": "stdout",
          "text": [
            "name - 홍길동\n",
            "mobile - ['010-1234-6548', '02-1231-1241']\n",
            "e-mail - {'personal': 'hong@gmail.com', 'company': 'hong_itwill@itwilil.com'}\n",
            "no - 1\n"
          ]
        }
      ]
    },
    {
      "cell_type": "code",
      "source": [
        "# contact.get('mobile')\n",
        "contact['mobile']"
      ],
      "metadata": {
        "colab": {
          "base_uri": "https://localhost:8080/"
        },
        "id": "Jc7KoddfLbV3",
        "outputId": "2477df8c-8a20-409b-baa7-3465088f5986"
      },
      "execution_count": null,
      "outputs": [
        {
          "output_type": "execute_result",
          "data": {
            "text/plain": [
              "['010-1234-6548', '02-1231-1241']"
            ]
          },
          "metadata": {},
          "execution_count": 44
        }
      ]
    },
    {
      "cell_type": "code",
      "source": [
        "contact['mobile'][0]   # 리스트형식의 값 중 첫번째 요소만 반환"
      ],
      "metadata": {
        "colab": {
          "base_uri": "https://localhost:8080/",
          "height": 35
        },
        "id": "WXJiMhowLoGy",
        "outputId": "488621c6-c870-4f93-f708-c79d4dccbe74"
      },
      "execution_count": null,
      "outputs": [
        {
          "output_type": "execute_result",
          "data": {
            "text/plain": [
              "'010-1234-6548'"
            ],
            "application/vnd.google.colaboratory.intrinsic+json": {
              "type": "string"
            }
          },
          "metadata": {},
          "execution_count": 46
        }
      ]
    },
    {
      "cell_type": "code",
      "source": [
        "contact['e-mail']['company']"
      ],
      "metadata": {
        "colab": {
          "base_uri": "https://localhost:8080/",
          "height": 35
        },
        "id": "Ot4q28zjLvsC",
        "outputId": "9c820701-e865-42ff-afb5-cfb555869330"
      },
      "execution_count": null,
      "outputs": [
        {
          "output_type": "execute_result",
          "data": {
            "text/plain": [
              "'hong_itwill@itwilil.com'"
            ],
            "application/vnd.google.colaboratory.intrinsic+json": {
              "type": "string"
            }
          },
          "metadata": {},
          "execution_count": 48
        }
      ]
    },
    {
      "cell_type": "markdown",
      "source": [
        "# dict comprehension"
      ],
      "metadata": {
        "id": "kBYzSM-GND4f"
      }
    },
    {
      "cell_type": "code",
      "source": [
        "emp_no = [1001, 1002, 1003, 1004]\n",
        "emp_name = ['scott', 'allen', 'king', 'oh쌤']\n",
        "emp = {}\n",
        "\n",
        "for i, j in zip(emp_no, emp_name):\n",
        "  emp[i] = j\n",
        "print(emp)"
      ],
      "metadata": {
        "colab": {
          "base_uri": "https://localhost:8080/"
        },
        "id": "p09yjIy4M4zi",
        "outputId": "ad09bb98-b9ec-4ae1-dd79-6852c4b3c62d"
      },
      "execution_count": null,
      "outputs": [
        {
          "output_type": "stream",
          "name": "stdout",
          "text": [
            "{1001: 'scott', 1002: 'allen', 1003: 'king', 1004: 'oh쌤'}\n"
          ]
        }
      ]
    },
    {
      "cell_type": "code",
      "source": [
        "# dict comprehension\n",
        "\n",
        "emp2 = {k: v for k, v in zip(emp_no, emp_name)}\n",
        "emp2"
      ],
      "metadata": {
        "colab": {
          "base_uri": "https://localhost:8080/"
        },
        "id": "iW2s1b3WPwdd",
        "outputId": "e2710c46-c62c-430c-a57e-7315c0a653ae"
      },
      "execution_count": null,
      "outputs": [
        {
          "output_type": "execute_result",
          "data": {
            "text/plain": [
              "{1001: 'scott', 1002: 'allen', 1003: 'king', 1004: 'oh쌤'}"
            ]
          },
          "metadata": {},
          "execution_count": 50
        }
      ]
    },
    {
      "cell_type": "markdown",
      "source": [
        "연습문제: 리스트 fruits에 있는 과일 이름을 key로 하고, 그 문자열의 길이를 value로 하는 dict를 만들고 출력"
      ],
      "metadata": {
        "id": "y4RQGuFNWZyr"
      }
    },
    {
      "cell_type": "code",
      "source": [
        "fruits = ['apple', 'banana', 'cherry', 'pineapple', 'watermellon', '딸기']\n",
        "lenlen = [len(x) for x in fruits]\n",
        "\n",
        "fruit_len  = {k: v for k, v in zip(fruits, lenlen)}\n",
        "print(fruit_len)"
      ],
      "metadata": {
        "colab": {
          "base_uri": "https://localhost:8080/"
        },
        "id": "7n6q2BA0UJYy",
        "outputId": "4e90b880-345e-4af8-ecbb-bb730424290c"
      },
      "execution_count": null,
      "outputs": [
        {
          "output_type": "stream",
          "name": "stdout",
          "text": [
            "{'apple': 5, 'banana': 6, 'cherry': 6, 'pineapple': 9, 'watermellon': 11, '딸기': 2}\n"
          ]
        }
      ]
    },
    {
      "cell_type": "code",
      "source": [
        "fruit_len2  = {k: len(k) for k in fruits}\n",
        "print(fruit_len2)"
      ],
      "metadata": {
        "colab": {
          "base_uri": "https://localhost:8080/"
        },
        "id": "8UM6bubfW6xZ",
        "outputId": "43e3f34c-6a50-403b-a1c5-53785e618b88"
      },
      "execution_count": null,
      "outputs": [
        {
          "output_type": "stream",
          "name": "stdout",
          "text": [
            "{'apple': 5, 'banana': 6, 'cherry': 6, 'pineapple': 9, 'watermellon': 11, '딸기': 2}\n"
          ]
        }
      ]
    }
  ]
}