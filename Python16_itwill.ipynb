{
  "nbformat": 4,
  "nbformat_minor": 0,
  "metadata": {
    "colab": {
      "provenance": [],
      "mount_file_id": "1AkSxQH5FxX4jtNHqyWqqkDBtOBDDjWqO",
      "authorship_tag": "ABX9TyPysOr0MzlBEEMCw+/RUV9N",
      "include_colab_link": true
    },
    "kernelspec": {
      "name": "python3",
      "display_name": "Python 3"
    },
    "language_info": {
      "name": "python"
    }
  },
  "cells": [
    {
      "cell_type": "markdown",
      "metadata": {
        "id": "view-in-github",
        "colab_type": "text"
      },
      "source": [
        "<a href=\"https://colab.research.google.com/github/Leeonejae6708/python_itwill/blob/main/Python16_itwill.ipynb\" target=\"_parent\"><img src=\"https://colab.research.google.com/assets/colab-badge.svg\" alt=\"Open In Colab\"/></a>"
      ]
    },
    {
      "cell_type": "markdown",
      "source": [
        "# 파일 쓰기(file write)"
      ],
      "metadata": {
        "id": "SV-1vWyTDqzr"
      }
    },
    {
      "cell_type": "markdown",
      "source": [
        "1. 파일 열기(file open)\n",
        "2. 파일 쓰기(file write)\n",
        "3. 파일 닫기(file clode)\n",
        "\n",
        "```\n",
        "open(file, mode, ...)\n",
        "```\n",
        "* file: 폴더(디렉토리) 이름을 포함한 전체 파일 이름(경로)\n",
        "  * 폴더 이름 없이 파일 이름만 사용한 경우에는 현재 작업 폴더의 파일의 의미함\n",
        "\n",
        "* mode:\n",
        "  * 'r': read -> 읽기 모드, **기본값**\n",
        "  * 'w': write -> 쓰기 모드, 기존에 작성된 모든 내용이 지워지고, 처음부터 새로 쓰기 시작\n",
        "  * 'a': append -> 추가 모드, 기존에 작성된 내용 뒤에 이어서 쓰기\n",
        "  * 't': text -> 텍스트 모드, 읽기/쓰기에서 텍스트(문자열)을 읽기/쓰기 **기본값**\n",
        "  * 'b': binary: 이진모드 -> 읽기/쓰기에서 이진 데이터(mp4, mp3, jpg, png, pdf, ...)를 읽기/쓰기"
      ],
      "metadata": {
        "id": "i3hp77mwDudS"
      }
    },
    {
      "cell_type": "code",
      "execution_count": null,
      "metadata": {
        "id": "hS5BX1DADjNt"
      },
      "outputs": [],
      "source": [
        "# 1. file open\n",
        "f = open(file='hello.txt', mode='w')  # 현재 폴더에 hello.txt파일을 쓰기 모드로 열기.(파일이 없다면 새로 생성)\n",
        "# mode='wt'와 mode='w'는 같은 내용\n",
        "\n",
        "# 2. file write\n",
        "f.write('Hello, Python!\\n')\n",
        "f.write('안녕하세요, 파이썬!\\n')\n",
        "f.write('010-1234-1234\\n')\n",
        "\n",
        "# 3. file close\n",
        "f.close()"
      ]
    },
    {
      "cell_type": "code",
      "source": [
        "# with open() as 변수:\n",
        "with open(file = 'hello2.txt', mode = 'w') as f:\n",
        "  f.write('안녕하세요.\\n')\n",
        "  f.write('파이썬 파일 쓰기 기능...\\n')\n",
        "  # with-as 블록이 끝나면 파일 객체(f)에 close() 메서드는 자동으로 호출됨."
      ],
      "metadata": {
        "id": "jI4YkUIWImRE"
      },
      "execution_count": null,
      "outputs": []
    },
    {
      "cell_type": "markdown",
      "source": [
        "파일을 open할 때 mode 파라미터 값을 'w' 또는 'a'로 설정하는 경우에,\n",
        "* 파일이 없으면, 새로운 파일을 생성\n",
        "* 파일이 있으면, 기존의 파일을 열어줌\n",
        "\n",
        "파일을 open할 때 mode 파라미터 값이 'r'인 경우, 파일이 없으면 에러가 발생"
      ],
      "metadata": {
        "id": "9dWvaKowIedx"
      }
    },
    {
      "cell_type": "markdown",
      "source": [
        "# 파일 읽기(file read)"
      ],
      "metadata": {
        "id": "FfuPvzy0LgUw"
      }
    },
    {
      "cell_type": "markdown",
      "source": [
        "1. 파일 열기(file open)\n",
        "2. 파일 쓰기(file write)\n",
        "3. 파일 닫기(file clode)\n",
        "\n",
        "with-as 구문을 사용하면 파일 닫기(close) 메서드는 자동으로 호출됨"
      ],
      "metadata": {
        "id": "z7SgWrN0LnFw"
      }
    },
    {
      "cell_type": "code",
      "source": [
        "with open('hello.txt') as f:   # 현재 폴더의 hello.txt 파일을 읽기 모드(r)로 열기\n",
        "  line = f.readline()\n",
        "  print(line.strip())\n",
        "  line = f.readline()\n",
        "  print(line.strip())"
      ],
      "metadata": {
        "colab": {
          "base_uri": "https://localhost:8080/"
        },
        "id": "1Os2ZZM9MB18",
        "outputId": "9e384446-4111-4995-bdf8-53b1ed6ff671"
      },
      "execution_count": null,
      "outputs": [
        {
          "output_type": "stream",
          "name": "stdout",
          "text": [
            "Hello, Python!\n",
            "안녕하세요, 파이썬!\n"
          ]
        }
      ]
    },
    {
      "cell_type": "markdown",
      "source": [
        "for-in 구문에서 파일 객체를 사용할 수 있음\n",
        "```\n",
        "for 변수 in file:\n",
        "  code block\n",
        "```\n",
        "->> file의 첫 번째 줄부터 마지막 줄까지 한 줄씩 읽어서 변수에 할당"
      ],
      "metadata": {
        "id": "y4kdsO9nN53Y"
      }
    },
    {
      "cell_type": "code",
      "source": [
        "# 만일 파일 안에 몇개의 라인이 있을지 모를 때\n",
        "with open('hello.txt') as f:\n",
        "  for line in f:\n",
        "    print(line.strip())"
      ],
      "metadata": {
        "colab": {
          "base_uri": "https://localhost:8080/"
        },
        "id": "zFRgBK1XNgYE",
        "outputId": "eea081f7-eae9-4b49-8b05-74cc35c7da56"
      },
      "execution_count": null,
      "outputs": [
        {
          "output_type": "stream",
          "name": "stdout",
          "text": [
            "Hello, Python!\n",
            "안녕하세요, 파이썬!\n",
            "010-1234-1234\n"
          ]
        }
      ]
    },
    {
      "cell_type": "markdown",
      "source": [
        "# Google Drive에서 파일 쓰기/읽기"
      ],
      "metadata": {
        "id": "Qdo2H8SUTt9H"
      }
    },
    {
      "cell_type": "markdown",
      "source": [
        "## Google Drive에 파일 쓰기"
      ],
      "metadata": {
        "id": "uDen7kxCWJFu"
      }
    },
    {
      "cell_type": "code",
      "source": [
        "file_path = '/content/drive/MyDrive/Colab Notebooks/Python_itwill/email.txt'"
      ],
      "metadata": {
        "id": "sHQ3txsoTtNI"
      },
      "execution_count": 3,
      "outputs": []
    },
    {
      "cell_type": "code",
      "source": [
        "# 구글 드라이브에 저장할 파일 경로(이름)\n",
        "with open(file_path, mode = 'w') as f:\n",
        "  f.write('honggildong@naver.com\\n')\n",
        "  f.write('gildong@kakao.com\\n')\n",
        "  f.write('gildong.hong@gmail.com\\n')\n",
        "\n",
        "print('파일 쓰기 종료')"
      ],
      "metadata": {
        "colab": {
          "base_uri": "https://localhost:8080/"
        },
        "id": "evv4iTRLUoml",
        "outputId": "5a9278c8-6cb2-4756-e556-9720a76e7678"
      },
      "execution_count": 4,
      "outputs": [
        {
          "output_type": "stream",
          "name": "stdout",
          "text": [
            "파일 쓰기 종료\n"
          ]
        }
      ]
    },
    {
      "cell_type": "markdown",
      "source": [
        "##  Google Drove에서 파일 읽기"
      ],
      "metadata": {
        "id": "oEk5HO52WRcV"
      }
    },
    {
      "cell_type": "code",
      "source": [
        "with open(file_path) as f:\n",
        "  for line in f:\n",
        "    print(line.strip())"
      ],
      "metadata": {
        "colab": {
          "base_uri": "https://localhost:8080/"
        },
        "id": "KGDS2Jf2WQoY",
        "outputId": "f3f4fe8b-fd85-4dfe-97ff-2830878d5d68"
      },
      "execution_count": 7,
      "outputs": [
        {
          "output_type": "stream",
          "name": "stdout",
          "text": [
            "honggildong@naver.com\n",
            "gildong@kakao.com\n",
            "gildong.hong@gmail.com\n"
          ]
        }
      ]
    },
    {
      "cell_type": "code",
      "source": [
        "# Ex 1. 구글 드라이브의 email.txt 파일을 한 줄씩 읽으면서 이메일 아이디만 출력\n",
        "with open(file_path) as f:    # file_path의 파일을 읽기 모드(r)로 열기\n",
        "  for line in f:              # 파일 f에서 한 줄씩 읽으면서 파일 끝(EDF, End Of File)까지 반복\n",
        "    idd = line.split('@')     # 각 줄을 '@'로 나눈 값을 idd 변수에 저장\n",
        "    print(idd[0])             # idd의 [0]만 출력\n",
        "\n",
        "  # for line in f:            ->> 다른 방법\n",
        "  #   idd = line.find('@')\n",
        "  #   print(idd[:idd])"
      ],
      "metadata": {
        "colab": {
          "base_uri": "https://localhost:8080/"
        },
        "id": "Mi0wZzdcW1Sm",
        "outputId": "bc96dc75-80b4-4958-f0b3-b04d5ab9f5b6"
      },
      "execution_count": 13,
      "outputs": [
        {
          "output_type": "stream",
          "name": "stdout",
          "text": [
            "honggildong\n",
            "gildong\n",
            "gildong.hong\n"
          ]
        }
      ]
    }
  ]
}