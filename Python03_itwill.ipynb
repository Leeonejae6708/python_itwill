{
  "nbformat": 4,
  "nbformat_minor": 0,
  "metadata": {
    "colab": {
      "provenance": [],
      "toc_visible": true,
      "authorship_tag": "ABX9TyPvOCAan5HB9g1nCFcSC8sU",
      "include_colab_link": true
    },
    "kernelspec": {
      "name": "python3",
      "display_name": "Python 3"
    },
    "language_info": {
      "name": "python"
    }
  },
  "cells": [
    {
      "cell_type": "markdown",
      "metadata": {
        "id": "view-in-github",
        "colab_type": "text"
      },
      "source": [
        "<a href=\"https://colab.research.google.com/github/Leeonejae6708/python_itwill/blob/main/Python03_itwill.ipynb\" target=\"_parent\"><img src=\"https://colab.research.google.com/assets/colab-badge.svg\" alt=\"Open In Colab\"/></a>"
      ]
    },
    {
      "cell_type": "markdown",
      "source": [
        "# if 조건문"
      ],
      "metadata": {
        "id": "W9_VoRAK6dI5"
      }
    },
    {
      "cell_type": "markdown",
      "source": [
        "## else가 없는 조건문"
      ],
      "metadata": {
        "id": "dtfovdrY6iso"
      }
    },
    {
      "cell_type": "markdown",
      "source": [
        "```\n",
        "if 조건식:\n",
        "  조건식을 만족할 때 실행할 코드 블록\n",
        "```\n",
        "\n",
        " * 'if 조건식' 뒤에는 반드시 콜론(:)을 써야 함.\n",
        "    -> 콜론의 의미: 코드 블록 시작을 의미\n",
        " * if 블록은 반드시 들여쓰기(indentation)을 해야 됨.\n",
        " * 들여쓰기의 크기는 일정해야 함."
      ],
      "metadata": {
        "id": "gbgcHccK6pdA"
      }
    },
    {
      "cell_type": "code",
      "source": [
        "age = int(input('몇살인가요?'))\n",
        "if age >=0:                               # if문의 조건 (age>=0)\n",
        "  print(f'당신의 나이는 {age}살입니다.')  # 조건에 만족할 때 실행\n",
        "print('===end===')                        # 조건에 관계없이 if문이 끝난 후 실행"
      ],
      "metadata": {
        "colab": {
          "base_uri": "https://localhost:8080/"
        },
        "id": "HEpKzkrCAOZy",
        "outputId": "01ee65dc-7dec-45a0-c05f-02762ee66283"
      },
      "execution_count": null,
      "outputs": [
        {
          "output_type": "stream",
          "name": "stdout",
          "text": [
            "몇살인가요?-8\n",
            "===end===\n"
          ]
        }
      ]
    },
    {
      "cell_type": "markdown",
      "source": [
        "## else가 있는 조건문"
      ],
      "metadata": {
        "id": "HybmkA2tCuV7"
      }
    },
    {
      "cell_type": "markdown",
      "source": [
        "```\n",
        "if 조건식:\n",
        "  조건식을 만족할 때 실행할 코드 블록 (1)\n",
        "else:\n",
        "  조건식을 만족하지 못할 때 실행 할 코드 블록 (2)\n",
        "```\n",
        "* 조건식을 만족하면 (1)문장을 실행 / 만족하지 못하면 (2)문장 실행.\n",
        "* 'if 조건식'과 'else' 다음에는 반드시 콜론(:)을 써야 함.\n",
        "* if 블록(1)과 else블록(2)은 반드시 들여쓰기(indentation)을 해야 됨.\n",
        "* 들여쓰기의 크기는 일정해야 함.\n"
      ],
      "metadata": {
        "id": "cctCvkl4CxO7"
      }
    },
    {
      "cell_type": "code",
      "source": [
        "age = int(input('몇살인가요?'))\n",
        "if age >= 0:                            ## if문의 조건 (age>=0)\n",
        "  print(f'당신은 {age}살입니다.')       ## if문의 조건에 만족할 때 출력\n",
        "else:\n",
        "  print(f'잘못 입력하였습니다.')        ## if문의 조건에 만족하지 못할 때 출력\n",
        "print('===end===')                      ## if문의 조건과 관계없이 if문이 끝나면 출력"
      ],
      "metadata": {
        "colab": {
          "base_uri": "https://localhost:8080/"
        },
        "id": "hhDA9DeQAkVE",
        "outputId": "cb2ca2e7-e6a0-49d6-fe63-960c8fd369e8"
      },
      "execution_count": null,
      "outputs": [
        {
          "output_type": "stream",
          "name": "stdout",
          "text": [
            "몇살인가요?123145357346253981474651987215\n",
            "당신은 123145357346253981474651987215살입니다.\n",
            "===end===\n"
          ]
        }
      ]
    },
    {
      "cell_type": "code",
      "source": [
        "a = int(input('정수를 입력하세요'))\n",
        "if a % 2 == 0:                               ### if문의 조건식 (a % 2 ==0)\n",
        "  print(f'{a}는 짝수입니다.')                ### if문의 조건식에 만족할 때 출력\n",
        "else:\n",
        "  print(f'{a}는 홀수입니다.')                ### if문의 조건에 만족하지 못할 때 출력\n",
        "print('===end===')                           ### if문의 조건과 관계없이 if문이 끝나면 출력"
      ],
      "metadata": {
        "colab": {
          "base_uri": "https://localhost:8080/"
        },
        "id": "4tyN-IOcGkgV",
        "outputId": "2e892606-add3-4416-dfa2-8491861a014a"
      },
      "execution_count": null,
      "outputs": [
        {
          "output_type": "stream",
          "name": "stdout",
          "text": [
            "정수를 입력하세요5\n",
            "5는 홀수입니다.\n",
            "===end===\n"
          ]
        }
      ]
    },
    {
      "cell_type": "markdown",
      "source": [
        "False Value: 파이썬에서 거짓(False)으로 취급하는 값.\n",
        " * 숫자 0\n",
        " * 빈 문자열 ('', \"\")\n",
        " * 빈 리스트( [] )\n",
        " * None -> 변수에 값이 할당되지 않을 때 사용하는 파이썬 예약어\n"
      ],
      "metadata": {
        "id": "zfIfOvc7NNLX"
      }
    },
    {
      "cell_type": "code",
      "source": [
        "number = int(input('정수를 입력하세요.'))\n",
        "if number % 2:                            # if문의 조건식 (number % 2)\n",
        "  print(f'{number}는 홀수입니다.')        # number를 2로 나눈 나머지가 존재하면 홀수\n",
        "else:\n",
        "  print(f'{number}는 짝수입니다.')        # number를 2로 나눈 나머지가 존재하지 않으면 짝수 -> 파이썬에서 숫자 0은 False취급하기 때문."
      ],
      "metadata": {
        "colab": {
          "base_uri": "https://localhost:8080/"
        },
        "id": "K-1nFCmYOQic",
        "outputId": "8bec1d1e-62ee-41ff-dcfa-bb640a4d313f"
      },
      "execution_count": null,
      "outputs": [
        {
          "output_type": "stream",
          "name": "stdout",
          "text": [
            "정수를 입력하세요.3\n",
            "3는 홀수입니다.\n"
          ]
        }
      ]
    },
    {
      "cell_type": "markdown",
      "source": [
        "## chained conditionals"
      ],
      "metadata": {
        "id": "yiwGqc1xPkTY"
      }
    },
    {
      "cell_type": "markdown",
      "source": [
        "```\n",
        "if 조건식1:\n",
        "  조건식1을 만족할 때 실행할 코드 블록(1)\n",
        "elif 조건식2:\n",
        "  if 조건식1은 만족하지 않지만 elif 조건식2는 만족할 때 실행할 코드 블록(2)\n",
        "...  \n",
        "else 조건식:\n",
        "  조건식1, 2를 모두 만족하지 않을 때 실행할 코드 블록(3)    \n",
        "```\n",
        "* if 조건식1을 만족하면 (1) 실행 / if 조건식1은 만족하지 않지만 elif조건식2를 만족하면 (2) 실행 / 모두 만족하지 않으면 (3) 실행\n",
        "* 'if 조건식'과 'elif 조건식', 'else' 다음에는 반드시 콜론(:)을 써야 함.\n",
        "* if 블록(1)과 elif블록(2), else블록(3)은 반드시 들여쓰기(indentation)을 해야 됨.\n",
        "* 들여쓰기의 크기는 일정해야 함.\n",
        "* elif 블록은 1개 이상이 있을 수 있음.\n",
        "* else 는 생략 가능."
      ],
      "metadata": {
        "id": "dBgGPvybPqM_"
      }
    },
    {
      "cell_type": "code",
      "source": [
        "a = float(input('숫자를 입력하세요'))\n",
        "if a > 0:                                    # if문의 조건식 (a > 0)\n",
        "  print('입력하신 숫자는 양수입니다.')       # if문의 조건식에 만족할 때 출력\n",
        "elif a < 0:                                  # elif문의 조건식 (a < 0)\n",
        "    print('입력하신 숫자는 음수입니다.')     # if문의 조건식엔 만족하지 않고, elif문의 조건식에 만족할 때 출력\n",
        "else:\n",
        "  print(f'입력하신 숫자는 {a}입니다..')      # if, elif문의 조건식 모두에 만족하지 않을 때 출력\n",
        "print('===end===')                           # if 조건문에 상관없이 if문이 끝나면 출력"
      ],
      "metadata": {
        "colab": {
          "base_uri": "https://localhost:8080/"
        },
        "id": "Esxq1RlaPjZE",
        "outputId": "1649d45f-041e-4db6-901a-26fabbdbcac1"
      },
      "execution_count": null,
      "outputs": [
        {
          "output_type": "stream",
          "name": "stdout",
          "text": [
            "숫자를 입력하세요0\n",
            "입력하신 숫자는 0.0입니다..\n",
            "===end===\n"
          ]
        }
      ]
    },
    {
      "cell_type": "markdown",
      "source": [
        "## 중첩 조건문"
      ],
      "metadata": {
        "id": "O3mixAt6SgYJ"
      }
    },
    {
      "cell_type": "markdown",
      "source": [
        "* if 블록, elif 블록, else 블록 안에서 또다른 조건문 (if문, if-else문, if-elif-else문)을 사용하는 것.\n",
        "* 들여쓰기를 특히 주의! -> 들여쓰기 방식에 따라 다른 로직의 실행문이 될 수 있음\n",
        "* 논리 연산자(and, or)를 사용하는 문장 또는 elif 블록을 중첩 조건문으로 바쑬 수 있음."
      ],
      "metadata": {
        "id": "2tscirTySirJ"
      }
    },
    {
      "cell_type": "code",
      "source": [
        "num = float(input('숫자를 입력하세요.'))\n",
        "if num > 0:\n",
        "  print('양수입니다.')\n",
        "else:\n",
        "  if num < 0:\n",
        "    print('음수입니다.')\n",
        "  else:\n",
        "    print('0입니다.')"
      ],
      "metadata": {
        "colab": {
          "base_uri": "https://localhost:8080/"
        },
        "id": "YrBZSugzTjND",
        "outputId": "9f38d0b2-b8b3-40ac-9b8b-7547cbbaa59c"
      },
      "execution_count": null,
      "outputs": [
        {
          "output_type": "stream",
          "name": "stdout",
          "text": [
            "숫자를 입력하세요.-54465465546.46464654324165467489465431\n",
            "음수입니다.\n"
          ]
        }
      ]
    },
    {
      "cell_type": "markdown",
      "source": [
        "연습문제:\n",
        "1. 정수를 3개 입력받고 각각 변수에 저장\n",
        "2. 3개 정수의 총점과 평균을 계산하고 출력\n",
        "3. 평균이 90 이상이면 A / 90미만 80이상이면 B / 80미만 70이상이면 C / 70미만 60이상이면 D / 그 외에는 F 출력"
      ],
      "metadata": {
        "id": "SXb8gShNUsiK"
      }
    },
    {
      "cell_type": "code",
      "source": [
        "a = int(input('점수를 입력하세요'))\n",
        "b = int(input('점수를 입력하세요'))\n",
        "c = int(input('점수를 입력하세요'))\n",
        "\n",
        "if 0 <= a <= 100 and 0 <= b <= 100 and 0 <= c <= 100:\n",
        "  total = a + b + c\n",
        "  average = (a + b + c) / 3\n",
        "  print(f'총점 = {total}')\n",
        "  print(f'평균 = {average}')\n",
        "\n",
        "  if average >= 90:\n",
        "    print('A')\n",
        "  elif average >= 80:\n",
        "    print('B')\n",
        "  elif average >= 70:\n",
        "    print('c')\n",
        "  elif average >= 60:\n",
        "    prit('D')\n",
        "  else:\n",
        "    print('F')\n",
        "else:\n",
        "  print('잘못된 점수입니다.')"
      ],
      "metadata": {
        "colab": {
          "base_uri": "https://localhost:8080/"
        },
        "id": "pxR7D3IJp6wD",
        "outputId": "83d587f0-e1bd-421d-f000-29224a878930"
      },
      "execution_count": null,
      "outputs": [
        {
          "output_type": "stream",
          "name": "stdout",
          "text": [
            "점수를 입력하세요98\n",
            "점수를 입력하세요95\n",
            "점수를 입력하세요91\n",
            "총점 = 284\n",
            "평균 = 94.66666666666667\n",
            "A\n"
          ]
        }
      ]
    },
    {
      "cell_type": "markdown",
      "source": [
        "# match 문"
      ],
      "metadata": {
        "id": "EsSfaG9trGFD"
      }
    },
    {
      "cell_type": "markdown",
      "source": [
        "```\n",
        "match 변수(식):\n",
        "  case 값1:\n",
        "    변수(식)의 결과값이 값1인 경우 실행할 코드 블록\n",
        "  case 값2:\n",
        "    변수(식)의 결과값이 값1인 경우 실행할 코드 블록\n",
        "  ...  \n",
        "```"
      ],
      "metadata": {
        "id": "FV5aaQyfrORK"
      }
    },
    {
      "cell_type": "code",
      "source": [
        "day = int(input('0~6 사이의 정수를 입력하세요.'))\n",
        "match day:\n",
        "  case 0:\n",
        "    print('일요일')\n",
        "  case 1:\n",
        "    print('월요일')\n",
        "  case 2:\n",
        "    print('화요일')\n",
        "  case 3:\n",
        "    print('수요일')\n",
        "  case 4:\n",
        "    print('목요일')\n",
        "  case 5:\n",
        "    print('금요일')\n",
        "  case 6:\n",
        "    print('토요일')"
      ],
      "metadata": {
        "colab": {
          "base_uri": "https://localhost:8080/"
        },
        "id": "nbmKfbqbrzcV",
        "outputId": "0e44e493-fbcc-4823-b844-37f755c79f58"
      },
      "execution_count": null,
      "outputs": [
        {
          "output_type": "stream",
          "name": "stdout",
          "text": [
            "0~6 사이의 정수를 입력하세요.6\n",
            "토요일\n"
          ]
        }
      ]
    },
    {
      "cell_type": "code",
      "source": [
        "day = int(input('0~6 사이의 정수를 입력하세요.'))\n",
        "match day:\n",
        "  case 1 | 2 | 3 | 4 | 5:\n",
        "    print('평일')\n",
        "  case 0 | 6:\n",
        "    print('주말')"
      ],
      "metadata": {
        "colab": {
          "base_uri": "https://localhost:8080/"
        },
        "id": "kMSAlFhvuq7j",
        "outputId": "e723bc0e-fa89-4626-a285-4d22e700f895"
      },
      "execution_count": null,
      "outputs": [
        {
          "name": "stdout",
          "output_type": "stream",
          "text": [
            "0~6 사이의 정수를 입력하세요.12\n"
          ]
        }
      ]
    },
    {
      "cell_type": "code",
      "source": [
        "day = int(input('0~6 사이의 정수를 입력하세요: '))\n",
        "match day:\n",
        "  case 1 | 2 | 3 | 4 | 5:\n",
        "    print('평일')\n",
        "  case 0 | 6:\n",
        "    print('주말')\n",
        "  case _:\n",
        "    print('0~6 사이의 정수가 아닙니다.')         # 위의 나열된 case들 이외의 나머지 전부"
      ],
      "metadata": {
        "colab": {
          "base_uri": "https://localhost:8080/"
        },
        "id": "LsYpbSLnuteL",
        "outputId": "3aeb7384-2d54-4a4a-84a2-0e9d0d1efc7d"
      },
      "execution_count": null,
      "outputs": [
        {
          "output_type": "stream",
          "name": "stdout",
          "text": [
            "0~6 사이의 정수를 입력하세요: 010657267080012113216036\n",
            "0~6 사이의 정수가 아닙니다.\n"
          ]
        }
      ]
    },
    {
      "cell_type": "markdown",
      "source": [
        "## 난수(random number) 생성 방법"
      ],
      "metadata": {
        "id": "6VE7rTL1wcEk"
      }
    },
    {
      "cell_type": "code",
      "source": [
        "import random # 난수 생성 기능(함수)들을 가지고 있는 random 모듈을 사용."
      ],
      "metadata": {
        "id": "GXANkcZ6wp8L"
      },
      "execution_count": null,
      "outputs": []
    },
    {
      "cell_type": "code",
      "source": [
        "random.random()  # random.random(): 0 <= x <= 1 범위의 실수 난수 하나 생성."
      ],
      "metadata": {
        "colab": {
          "base_uri": "https://localhost:8080/"
        },
        "id": "n322d4BPwxFc",
        "outputId": "97fc7352-2594-49fa-9182-c5a79987f070"
      },
      "execution_count": null,
      "outputs": [
        {
          "output_type": "execute_result",
          "data": {
            "text/plain": [
              "0.8851687665370732"
            ]
          },
          "metadata": {},
          "execution_count": 80
        }
      ]
    },
    {
      "cell_type": "code",
      "source": [
        "random.randrange(0, 7) # random.randrange(start, stop): start <= x < stop 범위의 정수 난수를 하나 생성."
      ],
      "metadata": {
        "colab": {
          "base_uri": "https://localhost:8080/"
        },
        "id": "7JxzcjKJxva8",
        "outputId": "9dc8cb98-e8a6-4d5f-e324-bf5f7ab91e63"
      },
      "execution_count": null,
      "outputs": [
        {
          "output_type": "execute_result",
          "data": {
            "text/plain": [
              "5"
            ]
          },
          "metadata": {},
          "execution_count": 103
        }
      ]
    },
    {
      "cell_type": "code",
      "source": [
        "random.randrange(3)   # random.randrange(stop): 0 <= x < stop 범위의 정수 난수를 하나 생성"
      ],
      "metadata": {
        "colab": {
          "base_uri": "https://localhost:8080/"
        },
        "id": "W-Bx4bCYyosg",
        "outputId": "606a7018-e67b-4850-8b1c-9f8631fb58df"
      },
      "execution_count": null,
      "outputs": [
        {
          "output_type": "execute_result",
          "data": {
            "text/plain": [
              "2"
            ]
          },
          "metadata": {},
          "execution_count": 118
        }
      ]
    },
    {
      "cell_type": "markdown",
      "source": [
        "## 연습문제:\n",
        "1. 가위(1) / 바위(2) / 보(3) 게임의 승패를 출력\n",
        "2. 상대는 난수(1~3)을 생성하여 변수에 저장\n",
        "3. 사용자는 1~3의 정수를 입력받아 변수에 저장\n",
        "4. 승패를 조건문을 이용하여 출력"
      ],
      "metadata": {
        "id": "l0AEM9TjwAqM"
      }
    },
    {
      "cell_type": "code",
      "source": [
        "print('===가위 바위 보===')\n",
        "print('[1]은 가위 / [2]는 바위 / [3]은 보')\n",
        "\n",
        "rsp = int(input('1~3 사이의 정수를 입력하세요: '))                                            ## 1~3 사이의 정수를 입력받아 사용자의 가위/바위/보 결정\n",
        "rsp_com = random.randrange(1, 4)                                                              ## 1~3 사이의 난수를 생성하여 컴퓨터의 가위/바위/보 결정\n",
        "\n",
        "print(f'컴퓨터가 낸것은 {rsp_com}입니다.')                                                    ## 컴퓨터의 가위/바위/보(1~3 사이의 난수) 출력\n",
        "\n",
        "if 0 <= rsp <= 3:                                                                             ## 사용자가 입력한 값이 1~3사이일 때 승부\n",
        "  if rsp == rsp_com:\n",
        "    print('비겼습니다')                                                                       ## 사용자가 입력한 값과 컴퓨터의 난수가 같을 때 (비길 때) 출력\n",
        "  elif rsp == 1 and rsp_com == 2 or rsp == 2 and rsp_com == 3 or rsp == 3 and rsp_com == 1:\n",
        "    print('조졌습니다.')                                                                      ## 사용자가 입력한 값과 컴퓨터의 난수가 다를 때 (졌을 때) 출력\n",
        "  else:\n",
        "    print('이겼습니다.')                                                                      ## 사용자가 입력한 값과 컴퓨터의 난수가 다를 때 (이겼을 때) 출력\n",
        "else:\n",
        "  print('잘못입력하였습니다.')                                                                ## 사용자가 입력한 값이 1~3 사이가 아닐 때 출력                                                                                                                                                                        ## 이게 가독성 훨씬 ㄱㅊ다."
      ],
      "metadata": {
        "colab": {
          "base_uri": "https://localhost:8080/"
        },
        "id": "GYP12zpov6EG",
        "outputId": "1b196fc5-f146-48ee-bcbe-d6c395d01a65"
      },
      "execution_count": null,
      "outputs": [
        {
          "output_type": "stream",
          "name": "stdout",
          "text": [
            "===가위 바위 보===\n",
            "[1]은 가위 / [2]는 바위 / [3]은 보\n",
            "1~3 사이의 정수를 입력하세요: 2\n",
            "컴퓨터가 낸것은 3입니다.\n",
            "조졌습니다.\n"
          ]
        }
      ]
    },
    {
      "cell_type": "code",
      "source": [
        "print('===가위 바위 보===')\n",
        "print('[1]은 가위 / [2]는 바위 / [3]은 보')\n",
        "\n",
        "rsp = int(input('1~3 사이의 정수를 입력하세요: '))                                            ## 1~3 사이의 정수를 입력받아 사용자의 가위/바위/보 결정\n",
        "rsp_com = random.randrange(1, 4)                                                              ## 1~3 사이의 난수를 생성하여 컴퓨터의 가위/바위/보 결정\n",
        "\n",
        "print(f'컴퓨터가 낸것은 {rsp_com}입니다.')                                                    ## 컴퓨터의 가위/바위/보(1~3 사이의 난수) 출력\n",
        "\n",
        "if 0 <= rsp <=3:           # 사용자가 1~3 사이의 정수를 입력한 경우\n",
        "  if rsp == 1:             ## 사용자가 가위를 낸 경우\n",
        "    if rsp_com == 2:       ### 컴퓨터가 바위를 낸 경우\n",
        "      print('패배')\n",
        "    elif rsp_com == 3:     ### 컴퓨터가 보를 낸 경우\n",
        "      print('승리')\n",
        "    else:                  ### 컴퓨터가 가위를 낸 경우\n",
        "      print('비김')\n",
        "  elif rsp == 2:           ## 사용자가 바위를 낸 경우\n",
        "    if rsp_com == 3:       ### 컴퓨터가 보를 낸 경우\n",
        "      print('패배')\n",
        "    elif rsp_com == 1:     ### 컴퓨터가 가위를 낸 경우\n",
        "      print('승리')\n",
        "    else:                  ### 컴퓨터가 바위를 낸 경우\n",
        "      print('비김')\n",
        "  else:                    ## 사용자가 보를 낸 경우\n",
        "    if rsp_com == 1:       ### 컴퓨터가 가위를 낸 경우\n",
        "      print('패배')\n",
        "    elif rsp_com == 2:     ### 컴퓨터가 바위를 낸 경우\n",
        "      print('승리')\n",
        "    else:                  ### 컴퓨터가 보를 낸 경우\n",
        "      print('비김')\n",
        "else:                                                                                                                                                                                                                                     ########## 근데 이건 가독성 뒤지는데... 알아보려면 30년 걸릴듯.\n",
        "  print('잘못입력하였습니다.')"
      ],
      "metadata": {
        "colab": {
          "base_uri": "https://localhost:8080/"
        },
        "id": "MGsL5xkN-rE0",
        "outputId": "07bc835e-f532-49fd-f317-25674e9052c6"
      },
      "execution_count": null,
      "outputs": [
        {
          "output_type": "stream",
          "name": "stdout",
          "text": [
            "===가위 바위 보===\n",
            "[1]은 가위 / [2]는 바위 / [3]은 보\n",
            "1~3 사이의 정수를 입력하세요: 3\n",
            "컴퓨터가 낸것은 2입니다.\n",
            "승리\n"
          ]
        }
      ]
    },
    {
      "cell_type": "code",
      "source": [
        "print('===가위 바위 보===')\n",
        "print('[1]은 가위 / [2]는 바위 / [3]은 보')\n",
        "\n",
        "rsp = int(input('1~3 사이의 정수를 입력하세요: '))                                            ## 1~3 사이의 정수를 입력받아 사용자의 가위/바위/보 결정\n",
        "rsp_com = random.randrange(1, 4)                                                              ## 1~3 사이의 난수를 생성하여 컴퓨터의 가위/바위/보 결정\n",
        "\n",
        "print(f'컴퓨터가 낸것은 {rsp_com}입니다.')                                                    ## 컴퓨터의 가위/바위/보(1~3 사이의 난수) 출력\n",
        "\n",
        "match rsp:\n",
        "  case 1:\n",
        "    if rsp_com == 1:\n",
        "      pass\n",
        "    elif rsp_com == 2:\n",
        "      pass\n",
        "    else:\n",
        "      pass\n",
        "## 이런식으로 match - case 문으로도 가능                                                                                                                                                                                                         #####근데 이거도 언제 하나하나 다 작성하냐..;;"
      ],
      "metadata": {
        "id": "JGKWKJNdC_ZD"
      },
      "execution_count": null,
      "outputs": []
    },
    {
      "cell_type": "code",
      "source": [
        "print('===가위 바위 보===')\n",
        "print('[1]은 가위 / [2]는 바위 / [3]은 보')\n",
        "\n",
        "rsp = int(input('1~3 사이의 정수를 입력하세요: '))                                                                                                                                                                                                        ### 오 이건 굿 근데 이해가 좀...\n",
        "rsp_com = random.randrange(1, 4)\n",
        "\n",
        "print(f'컴퓨터가 낸것은 {rsp_com}입니다.')\n",
        "\n",
        "cheak = rsp - rsp_com\n",
        "if cheak == 0:\n",
        "  print('비김')\n",
        "elif cheak == -2 or cheak == 1:\n",
        "  print('승리')\n",
        "else:\n",
        "  print('패배')"
      ],
      "metadata": {
        "colab": {
          "base_uri": "https://localhost:8080/"
        },
        "id": "eA9_ec-CHF39",
        "outputId": "8e3ef76d-da48-432e-ed46-da5d59b63165"
      },
      "execution_count": null,
      "outputs": [
        {
          "output_type": "stream",
          "name": "stdout",
          "text": [
            "===가위 바위 보===\n",
            "[1]은 가위 / [2]는 바위 / [3]은 보\n",
            "1~3 사이의 정수를 입력하세요: 1\n",
            "컴퓨터가 낸것은 3입니다.\n",
            "승리\n"
          ]
        }
      ]
    }
  ]
}