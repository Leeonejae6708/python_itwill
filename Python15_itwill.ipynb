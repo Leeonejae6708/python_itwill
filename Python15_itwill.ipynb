{
  "nbformat": 4,
  "nbformat_minor": 0,
  "metadata": {
    "colab": {
      "provenance": [],
      "authorship_tag": "ABX9TyNM5fGImJfAFTYvbq9RaBl7",
      "include_colab_link": true
    },
    "kernelspec": {
      "name": "python3",
      "display_name": "Python 3"
    },
    "language_info": {
      "name": "python"
    }
  },
  "cells": [
    {
      "cell_type": "markdown",
      "metadata": {
        "id": "view-in-github",
        "colab_type": "text"
      },
      "source": [
        "<a href=\"https://colab.research.google.com/github/Leeonejae6708/python_itwill/blob/main/Python15_itwill.ipynb\" target=\"_parent\"><img src=\"https://colab.research.google.com/assets/colab-badge.svg\" alt=\"Open In Colab\"/></a>"
      ]
    },
    {
      "cell_type": "markdown",
      "source": [
        "# str 클래스의 메서드"
      ],
      "metadata": {
        "id": "8NCW5y-VcTbl"
      }
    },
    {
      "cell_type": "code",
      "execution_count": 4,
      "metadata": {
        "id": "gd7fuOgmb3Cc"
      },
      "outputs": [],
      "source": [
        "s = 'heLLo, pyTHon! 안녕, 파이썬...'"
      ]
    },
    {
      "cell_type": "code",
      "source": [
        "print(type(s))   # __str__()\n",
        "type(s)          # __repr__()"
      ],
      "metadata": {
        "colab": {
          "base_uri": "https://localhost:8080/"
        },
        "id": "s-LnZzn4csPM",
        "outputId": "79df1f1d-1b00-4615-8356-1bd265a5223c"
      },
      "execution_count": 6,
      "outputs": [
        {
          "output_type": "stream",
          "name": "stdout",
          "text": [
            "<class 'str'>\n"
          ]
        },
        {
          "output_type": "execute_result",
          "data": {
            "text/plain": [
              "str"
            ]
          },
          "metadata": {},
          "execution_count": 6
        }
      ]
    },
    {
      "cell_type": "code",
      "source": [
        "result = s.upper()          # uppercase(대문자)로 변환된 문자열을 리턴\n",
        "print('result =', result)\n",
        "print('s=', s)              # 원본 문자열 s는 변경되지 않음"
      ],
      "metadata": {
        "colab": {
          "base_uri": "https://localhost:8080/"
        },
        "id": "iiItRhGodGto",
        "outputId": "1c87fea8-61bd-4e79-b7c0-99a3a04bf6d8"
      },
      "execution_count": 20,
      "outputs": [
        {
          "output_type": "stream",
          "name": "stdout",
          "text": [
            "result = HELLO, PYTHON! 안녕, 파이썬...\n",
            "s= heLLo, pyTHon! 안녕, 파이썬...\n"
          ]
        }
      ]
    },
    {
      "cell_type": "code",
      "source": [
        "result2 = s.lower()         # lowercase(소문자)로 변환된 문자열을 리턴\n",
        "print('result2 =', result2)\n",
        "print('s = ', s)            # 원본 문자열 s는 변경되지 않음"
      ],
      "metadata": {
        "colab": {
          "base_uri": "https://localhost:8080/"
        },
        "id": "FFtk61xZeWGQ",
        "outputId": "e12a1e8a-7478-4911-b6f7-9a2045a97239"
      },
      "execution_count": 21,
      "outputs": [
        {
          "output_type": "stream",
          "name": "stdout",
          "text": [
            "result2 = hello, python! 안녕, 파이썬...\n",
            "s =  heLLo, pyTHon! 안녕, 파이썬...\n"
          ]
        }
      ]
    },
    {
      "cell_type": "code",
      "source": [
        "s.capitalize()              # 문장의 첫 글자만 대문자로, 나머지는 소문자로"
      ],
      "metadata": {
        "colab": {
          "base_uri": "https://localhost:8080/",
          "height": 35
        },
        "id": "Nzb7zexMe2P4",
        "outputId": "343f954f-3436-4677-bbbc-a1c6983a5a48"
      },
      "execution_count": 23,
      "outputs": [
        {
          "output_type": "execute_result",
          "data": {
            "text/plain": [
              "'Hello, python! 안녕, 파이썬...'"
            ],
            "application/vnd.google.colaboratory.intrinsic+json": {
              "type": "string"
            }
          },
          "metadata": {},
          "execution_count": 23
        }
      ]
    },
    {
      "cell_type": "code",
      "source": [
        "# str.count(seb): 문자열 str안에 sub가 몇번 등장하는지를 리턴\n",
        "print(s)\n",
        "print(s.count('L'))\n",
        "print(s.count('l'))\n",
        "print(s.count('LL'))"
      ],
      "metadata": {
        "colab": {
          "base_uri": "https://localhost:8080/"
        },
        "id": "ggVCPz3LfM1A",
        "outputId": "2223b87b-0f2b-4bb7-d3ec-6c69e0368698"
      },
      "execution_count": 29,
      "outputs": [
        {
          "output_type": "stream",
          "name": "stdout",
          "text": [
            "heLLo, pyTHon! 안녕, 파이썬...\n",
            "2\n",
            "0\n",
            "1\n"
          ]
        }
      ]
    },
    {
      "cell_type": "code",
      "source": [
        "# str.find(패턴): 문자열 str에 패턴이 처음 등장하는 index를 리턴, 문자열에 패턴이 없으면 -1을 리턴\n",
        "print(s)\n",
        "print(s.find('py'))\n",
        "print(s.find('Py'))"
      ],
      "metadata": {
        "colab": {
          "base_uri": "https://localhost:8080/"
        },
        "id": "cZos_UNRg7Yy",
        "outputId": "276d87d8-b9ab-4866-a57f-13927e56d959"
      },
      "execution_count": 32,
      "outputs": [
        {
          "output_type": "stream",
          "name": "stdout",
          "text": [
            "heLLo, pyTHon! 안녕, 파이썬...\n",
            "7\n",
            "-1\n"
          ]
        }
      ]
    },
    {
      "cell_type": "code",
      "source": [
        "email = 'jake@itwill.com'\n",
        "print(email.find('@'))      # 문자열 email에서 '@'가 나오는 인덱스\n",
        "\n",
        "print(email.split('@'))     # 문자열을 이메일 아이디와 메일 도메인을 각각 출력\n",
        "\n",
        "print(email[:4])\n",
        "print(email[5:])\n",
        "\n",
        "a, b = email.split('@')\n",
        "print(a)\n",
        "print(b)"
      ],
      "metadata": {
        "colab": {
          "base_uri": "https://localhost:8080/"
        },
        "id": "riPm9RWKhh2A",
        "outputId": "a2c82e50-1f86-4d4d-d5f0-1226cb5c6898"
      },
      "execution_count": 39,
      "outputs": [
        {
          "output_type": "stream",
          "name": "stdout",
          "text": [
            "4\n",
            "['jake', 'itwill.com']\n",
            "jake\n",
            "itwill.com\n",
            "jake\n",
            "itwill.com\n"
          ]
        }
      ]
    },
    {
      "cell_type": "code",
      "source": [
        "idx = email.find('@')\n",
        "print(idx)\n",
        "\n",
        "print(email[:idx])\n",
        "print(email[idx+1:])"
      ],
      "metadata": {
        "colab": {
          "base_uri": "https://localhost:8080/"
        },
        "id": "R-1VLCsyjUIa",
        "outputId": "3f1c626a-fd21-4b35-c441-20d94a02575c"
      },
      "execution_count": 43,
      "outputs": [
        {
          "output_type": "stream",
          "name": "stdout",
          "text": [
            "4\n",
            "jake\n",
            "itwill.com\n"
          ]
        }
      ]
    },
    {
      "cell_type": "code",
      "source": [
        "msg = '파이썬 참 쉽죠? 파이썬 열심히 공부합시다.'\n",
        "result = msg.split()     # 공백(sapce, tab, enter)으로 구분한(자른) 문자열들의 리스트를 리턴\n",
        "print(result)"
      ],
      "metadata": {
        "colab": {
          "base_uri": "https://localhost:8080/"
        },
        "id": "KiuyIBJhjoTa",
        "outputId": "aa8631f5-21b2-4a29-dab1-c50fdc5a0348"
      },
      "execution_count": 51,
      "outputs": [
        {
          "output_type": "stream",
          "name": "stdout",
          "text": [
            "['파이썬', '참', '쉽죠?', '파이썬', '열심히', '공부합시다.']\n"
          ]
        }
      ]
    },
    {
      "cell_type": "code",
      "source": [
        "date_str = '2025-04-29'\n",
        "result = date_str.split('-')\n",
        "print(result)"
      ],
      "metadata": {
        "colab": {
          "base_uri": "https://localhost:8080/"
        },
        "id": "4uRv_Fgd2tBP",
        "outputId": "c08e0510-b8f4-4a56-b5c4-57680d0ae970"
      },
      "execution_count": 64,
      "outputs": [
        {
          "output_type": "stream",
          "name": "stdout",
          "text": [
            "['2025', '04', '29']\n"
          ]
        }
      ]
    },
    {
      "cell_type": "code",
      "source": [
        "csv_str = '1,홍길동,100,90,80'  # csv(comma-seperated values)\n",
        "csv_str.split(',')"
      ],
      "metadata": {
        "colab": {
          "base_uri": "https://localhost:8080/"
        },
        "id": "HQM0Xno03WJf",
        "outputId": "60745d89-d8bd-4009-8027-56e3586982a2"
      },
      "execution_count": 66,
      "outputs": [
        {
          "output_type": "execute_result",
          "data": {
            "text/plain": [
              "['1', '홍길동', '100', '90', '80']"
            ]
          },
          "metadata": {},
          "execution_count": 66
        }
      ]
    },
    {
      "cell_type": "code",
      "source": [
        "email = 'gildong.hong@naver.com'\n",
        "result = email.split('@')\n",
        "print(result)\n",
        "print(result[0])\n",
        "print(result[1])"
      ],
      "metadata": {
        "colab": {
          "base_uri": "https://localhost:8080/"
        },
        "id": "-nM5Mf1h4JQ8",
        "outputId": "d0e9d410-6414-4a28-f6e4-483c72ba46d7"
      },
      "execution_count": 71,
      "outputs": [
        {
          "output_type": "stream",
          "name": "stdout",
          "text": [
            "['gildong.hong', 'naver.com']\n",
            "gildong.hong\n",
            "naver.com\n"
          ]
        }
      ]
    },
    {
      "cell_type": "code",
      "source": [
        "# str.join(iterable): iterable의 아이템들을 str으로 연결한 문자열을 리턴  -> split()과 반대\n",
        "'/'.join(['2025', '04', '29'])"
      ],
      "metadata": {
        "colab": {
          "base_uri": "https://localhost:8080/",
          "height": 35
        },
        "id": "pbl9pavk5dsj",
        "outputId": "97579b36-62d9-45d3-e85c-1b583f0da682"
      },
      "execution_count": 72,
      "outputs": [
        {
          "output_type": "execute_result",
          "data": {
            "text/plain": [
              "'2025/04/29'"
            ],
            "application/vnd.google.colaboratory.intrinsic+json": {
              "type": "string"
            }
          },
          "metadata": {},
          "execution_count": 72
        }
      ]
    },
    {
      "cell_type": "code",
      "source": [
        "', '.join(['홍길동', '오쌤', 'Scott'])"
      ],
      "metadata": {
        "colab": {
          "base_uri": "https://localhost:8080/",
          "height": 35
        },
        "id": "ckz3T48d6FRT",
        "outputId": "71b523ac-5fad-452e-9a36-e5bd4b142a74"
      },
      "execution_count": 74,
      "outputs": [
        {
          "output_type": "execute_result",
          "data": {
            "text/plain": [
              "'홍길동, 오쌤, Scott'"
            ],
            "application/vnd.google.colaboratory.intrinsic+json": {
              "type": "string"
            }
          },
          "metadata": {},
          "execution_count": 74
        }
      ]
    },
    {
      "cell_type": "code",
      "source": [
        "msg = 'hello,python,안녕하세요,파이썬,12345'\n",
        "msg.replace(',', '::')   # str.replace(old, new): str에 등장하는 old를 new로 대체한 문자열을 리턴"
      ],
      "metadata": {
        "colab": {
          "base_uri": "https://localhost:8080/",
          "height": 35
        },
        "id": "cRCiGZui6SEm",
        "outputId": "01aa35ad-f6e7-491f-ac40-7c653f0dac4a"
      },
      "execution_count": 80,
      "outputs": [
        {
          "output_type": "execute_result",
          "data": {
            "text/plain": [
              "'hello::python::안녕하세요::파이썬::12345'"
            ],
            "application/vnd.google.colaboratory.intrinsic+json": {
              "type": "string"
            }
          },
          "metadata": {},
          "execution_count": 80
        }
      ]
    },
    {
      "cell_type": "code",
      "source": [
        "msg.replace(',', '-', 2)   # str.replace(old, new, count): str에 등장하는 old를 new로 count번 대체한 문자열을 리턴"
      ],
      "metadata": {
        "colab": {
          "base_uri": "https://localhost:8080/",
          "height": 35
        },
        "id": "zH4-1Bhh7fcb",
        "outputId": "d9e3249e-1364-43d0-9d8c-ba54662e6a84"
      },
      "execution_count": 82,
      "outputs": [
        {
          "output_type": "execute_result",
          "data": {
            "text/plain": [
              "'hello-python-안녕하세요,파이썬,12345'"
            ],
            "application/vnd.google.colaboratory.intrinsic+json": {
              "type": "string"
            }
          },
          "metadata": {},
          "execution_count": 82
        }
      ]
    },
    {
      "cell_type": "code",
      "source": [
        "msg = '안녕? 안녕하세요! Hello, Python.'\n",
        "# str.replace(old, new)는 문자열로 반환되니 다시 replace() 함수를 사용 가능\n",
        "msg.replace('?', '').replace('!', '').replace(',', '').replace('.', '').split()  # -> 메서드 연쇄 호출"
      ],
      "metadata": {
        "colab": {
          "base_uri": "https://localhost:8080/"
        },
        "id": "qx2qh9qF8RPw",
        "outputId": "82cc54b5-0d12-4a8f-f331-d1f60d69fde1"
      },
      "execution_count": 87,
      "outputs": [
        {
          "output_type": "execute_result",
          "data": {
            "text/plain": [
              "['안녕', '안녕하세요', 'Hello', 'Python']"
            ]
          },
          "metadata": {},
          "execution_count": 87
        }
      ]
    },
    {
      "cell_type": "code",
      "source": [
        "sentence = '                   Hello, Python!                        안녕하세요......             '\n",
        "print(sentence)\n",
        "print(sentence.lstrip())   # lstrip(): left strip\n",
        "print(sentence.rstrip())   # rstrip(): right strip\n",
        "print(sentence.strip())    # strip(): 양쪽 strip"
      ],
      "metadata": {
        "colab": {
          "base_uri": "https://localhost:8080/"
        },
        "id": "GI7TMGA79PMo",
        "outputId": "1dc32ca4-a81d-461d-dfbd-369da0fec872"
      },
      "execution_count": 94,
      "outputs": [
        {
          "output_type": "stream",
          "name": "stdout",
          "text": [
            "                   Hello, Python!                        안녕하세요......             \n",
            "Hello, Python!                        안녕하세요......             \n",
            "                   Hello, Python!                        안녕하세요......\n",
            "Hello, Python!                        안녕하세요......\n"
          ]
        }
      ]
    },
    {
      "cell_type": "code",
      "source": [],
      "metadata": {
        "id": "OeBsaMye--Z_"
      },
      "execution_count": null,
      "outputs": []
    }
  ]
}